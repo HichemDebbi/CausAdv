{
 "cells": [
  {
   "cell_type": "code",
   "execution_count": 1,
   "metadata": {
    "execution": {
     "iopub.execute_input": "2023-07-14T12:45:22.010609Z",
     "iopub.status.busy": "2023-07-14T12:45:22.010208Z",
     "iopub.status.idle": "2023-07-14T12:45:35.204608Z",
     "shell.execute_reply": "2023-07-14T12:45:35.203624Z",
     "shell.execute_reply.started": "2023-07-14T12:45:22.010513Z"
    },
    "id": "0qPjmWP1dfoA",
    "outputId": "1fe72046-9212-40fe-e24f-0831625bbc12"
   },
   "outputs": [
    {
     "name": "stdout",
     "output_type": "stream",
     "text": [
      "Collecting adversarial-robustness-toolbox\n",
      "  Downloading adversarial_robustness_toolbox-1.15.0-py3-none-any.whl (1.5 MB)\n",
      "     |████████████████████████████████| 1.5 MB 4.1 MB/s            \n",
      "\u001b[?25hRequirement already satisfied: setuptools in /opt/conda/lib/python3.7/site-packages (from adversarial-robustness-toolbox) (59.5.0)\n",
      "Requirement already satisfied: scipy>=1.4.1 in /opt/conda/lib/python3.7/site-packages (from adversarial-robustness-toolbox) (1.7.3)\n",
      "Requirement already satisfied: tqdm in /opt/conda/lib/python3.7/site-packages (from adversarial-robustness-toolbox) (4.62.3)\n",
      "Requirement already satisfied: scikit-learn<1.2.0,>=0.22.2 in /opt/conda/lib/python3.7/site-packages (from adversarial-robustness-toolbox) (1.0.1)\n",
      "Requirement already satisfied: six in /opt/conda/lib/python3.7/site-packages (from adversarial-robustness-toolbox) (1.16.0)\n",
      "Requirement already satisfied: numpy>=1.18.0 in /opt/conda/lib/python3.7/site-packages (from adversarial-robustness-toolbox) (1.20.3)\n",
      "Requirement already satisfied: joblib>=0.11 in /opt/conda/lib/python3.7/site-packages (from scikit-learn<1.2.0,>=0.22.2->adversarial-robustness-toolbox) (1.1.0)\n",
      "Requirement already satisfied: threadpoolctl>=2.0.0 in /opt/conda/lib/python3.7/site-packages (from scikit-learn<1.2.0,>=0.22.2->adversarial-robustness-toolbox) (3.0.0)\n",
      "Installing collected packages: adversarial-robustness-toolbox\n",
      "Successfully installed adversarial-robustness-toolbox-1.15.0\n",
      "\u001b[33mWARNING: Running pip as the 'root' user can result in broken permissions and conflicting behaviour with the system package manager. It is recommended to use a virtual environment instead: https://pip.pypa.io/warnings/venv\u001b[0m\n",
      "Note: you may need to restart the kernel to use updated packages.\n"
     ]
    }
   ],
   "source": [
    "pip install adversarial-robustness-toolbox"
   ]
  },
  {
   "cell_type": "code",
   "execution_count": 2,
   "metadata": {
    "execution": {
     "iopub.execute_input": "2023-07-14T12:45:35.207455Z",
     "iopub.status.busy": "2023-07-14T12:45:35.207110Z",
     "iopub.status.idle": "2023-07-14T12:45:47.743915Z",
     "shell.execute_reply": "2023-07-14T12:45:47.742971Z",
     "shell.execute_reply.started": "2023-07-14T12:45:35.207412Z"
    },
    "id": "ib3g8REHeven",
    "outputId": "aabc6f4e-bcd6-45a7-efef-123f383dd2de"
   },
   "outputs": [
    {
     "name": "stdout",
     "output_type": "stream",
     "text": [
      "Collecting git+https://github.com/nottombrown/imagenet_stubs\n",
      "  Cloning https://github.com/nottombrown/imagenet_stubs to /tmp/pip-req-build-8146otti\n",
      "  Running command git clone --filter=blob:none -q https://github.com/nottombrown/imagenet_stubs /tmp/pip-req-build-8146otti\n",
      "  Resolved https://github.com/nottombrown/imagenet_stubs to commit 0b501276f54cbf45b8e1b67dccbdcbe51de88365\n",
      "  Preparing metadata (setup.py) ... \u001b[?25ldone\n",
      "\u001b[?25hBuilding wheels for collected packages: imagenet-stubs\n",
      "  Building wheel for imagenet-stubs (setup.py) ... \u001b[?25ldone\n",
      "\u001b[?25h  Created wheel for imagenet-stubs: filename=imagenet_stubs-0.0.7-py3-none-any.whl size=794839 sha256=077c6ec20b58d0bbc870bd307ee0f689da2662c48dd9f1d44f7c2ac5d35e7a61\n",
      "  Stored in directory: /tmp/pip-ephem-wheel-cache-mi88j1fy/wheels/33/0f/5a/c83688c23a05eb9e88527a8944da56dbe007c86f534b0c1dad\n",
      "Successfully built imagenet-stubs\n",
      "Installing collected packages: imagenet-stubs\n",
      "Successfully installed imagenet-stubs-0.0.7\n",
      "\u001b[33mWARNING: Running pip as the 'root' user can result in broken permissions and conflicting behaviour with the system package manager. It is recommended to use a virtual environment instead: https://pip.pypa.io/warnings/venv\u001b[0m\n",
      "Note: you may need to restart the kernel to use updated packages.\n"
     ]
    }
   ],
   "source": [
    "pip install git+https://github.com/nottombrown/imagenet_stubs"
   ]
  },
  {
   "cell_type": "code",
   "execution_count": 3,
   "metadata": {
    "execution": {
     "iopub.execute_input": "2023-07-14T12:45:47.746192Z",
     "iopub.status.busy": "2023-07-14T12:45:47.745888Z",
     "iopub.status.idle": "2023-07-14T12:45:57.439306Z",
     "shell.execute_reply": "2023-07-14T12:45:57.438471Z",
     "shell.execute_reply.started": "2023-07-14T12:45:47.746150Z"
    },
    "id": "59EPauVMexYW"
   },
   "outputs": [],
   "source": [
    "# Pretrained Models \n",
    "from keras.applications.densenet import DenseNet169, preprocess_input as densenet_preprocess_input \n",
    "\n",
    "from keras.preprocessing import image\n",
    "\n",
    "# Load ART dependencies:\n",
    "from art.estimators.classification import KerasClassifier\n",
    "\n",
    "# Attacks \n",
    "from art.attacks.evasion import ProjectedGradientDescent\n",
    "from art.attacks.evasion import FastGradientMethod\n",
    "from art.attacks.evasion import BasicIterativeMethod \n",
    "from art.attacks.evasion import CarliniL2Method\n",
    "from art.attacks.evasion import DeepFool\n",
    "from art.attacks.evasion import FrameSaliencyAttack\n",
    "from art.attacks.evasion import HopSkipJump\n",
    "\n",
    "# Defenses \n",
    "from art.defences.preprocessor import SpatialSmoothing\n",
    "from art.defences.preprocessor import FeatureSqueezing\n",
    "from art.defences.preprocessor import GaussianAugmentation\n",
    "from art.defences.preprocessor import LabelSmoothing\n",
    "\n",
    "from art.defences.preprocessor import CutMix\n",
    "from art.defences.preprocessor import CutMixTensorFlowV2\n",
    "\n",
    "\n",
    "# Install ImageNet:\n",
    "import imagenet_stubs\n",
    "from imagenet_stubs.imagenet_2012_labels import name_to_label, label_to_name"
   ]
  },
  {
   "cell_type": "code",
   "execution_count": 9,
   "metadata": {
    "execution": {
     "iopub.execute_input": "2023-07-14T12:46:56.575602Z",
     "iopub.status.busy": "2023-07-14T12:46:56.575306Z",
     "iopub.status.idle": "2023-07-14T12:46:56.582736Z",
     "shell.execute_reply": "2023-07-14T12:46:56.581959Z",
     "shell.execute_reply.started": "2023-07-14T12:46:56.575570Z"
    },
    "id": "dnRtCysGfTWX"
   },
   "outputs": [],
   "source": [
    "import numpy as np\n",
    "from datetime import datetime \n",
    "%matplotlib inline\n",
    "import matplotlib.pyplot as plt"
   ]
  },
  {
   "cell_type": "code",
   "execution_count": 4,
   "metadata": {
    "execution": {
     "iopub.execute_input": "2023-07-14T12:45:57.441949Z",
     "iopub.status.busy": "2023-07-14T12:45:57.441683Z",
     "iopub.status.idle": "2023-07-14T12:45:57.450555Z",
     "shell.execute_reply": "2023-07-14T12:45:57.449246Z",
     "shell.execute_reply.started": "2023-07-14T12:45:57.441912Z"
    },
    "id": "bw37AbJkfU0e"
   },
   "outputs": [],
   "source": [
    "# Install ImageNet stubs:\n",
    "import imagenet_stubs\n",
    "from imagenet_stubs.imagenet_2012_labels import name_to_label, label_to_name"
   ]
  },
  {
   "cell_type": "code",
   "execution_count": 5,
   "metadata": {
    "execution": {
     "iopub.execute_input": "2023-07-14T12:45:57.452354Z",
     "iopub.status.busy": "2023-07-14T12:45:57.452042Z",
     "iopub.status.idle": "2023-07-14T12:45:57.463453Z",
     "shell.execute_reply": "2023-07-14T12:45:57.462479Z",
     "shell.execute_reply.started": "2023-07-14T12:45:57.452306Z"
    },
    "id": "9H5YYpysfWUn"
   },
   "outputs": [],
   "source": [
    "import tensorflow as tf\n",
    "if tf.executing_eagerly():\n",
    "    tf.compat.v1.disable_eager_execution()\n",
    "\n",
    "tf.compat.v1.experimental.output_all_intermediates(True) \n",
    "\n",
    "import warnings\n",
    "warnings.filterwarnings('ignore')"
   ]
  },
  {
   "cell_type": "markdown",
   "metadata": {
    "id": "0x5is9KPgP0g"
   },
   "source": [
    "## ***Apply Defense***\n",
    "\n",
    "<img src='https://raw.githubusercontent.com/fukashi-hatake/kaggle_notebooks/main/images/special_smooting.PNG'>"
   ]
  },
  {
   "cell_type": "code",
   "execution_count": 8,
   "metadata": {
    "execution": {
     "iopub.execute_input": "2023-07-14T12:46:46.069748Z",
     "iopub.status.busy": "2023-07-14T12:46:46.069145Z",
     "iopub.status.idle": "2023-07-14T12:46:46.078807Z",
     "shell.execute_reply": "2023-07-14T12:46:46.077788Z",
     "shell.execute_reply.started": "2023-07-14T12:46:46.069708Z"
    }
   },
   "outputs": [
    {
     "name": "stdout",
     "output_type": "stream",
     "text": [
      "goldfish\n"
     ]
    }
   ],
   "source": [
    "import json\n",
    "labels=[]\n",
    "with open('/kaggle/input/imagenetsimplelabels/imagenet-simple-labels.json') as f:\n",
    "    labels = json.load(f)\n",
    "def class_id_to_label(i):\n",
    "    return labels[i]\n",
    "\n",
    "print(class_id_to_label(1))"
   ]
  },
  {
   "cell_type": "markdown",
   "metadata": {},
   "source": [
    "# FGSM PGD BIM attack non_target"
   ]
  },
  {
   "cell_type": "code",
   "execution_count": 13,
   "metadata": {
    "execution": {
     "iopub.execute_input": "2023-07-14T12:48:41.853722Z",
     "iopub.status.busy": "2023-07-14T12:48:41.853254Z",
     "iopub.status.idle": "2023-07-14T12:53:47.241568Z",
     "shell.execute_reply": "2023-07-14T12:53:47.239734Z",
     "shell.execute_reply.started": "2023-07-14T12:48:41.853686Z"
    }
   },
   "outputs": [
    {
     "name": "stdout",
     "output_type": "stream",
     "text": [
      "original Prediction: tench, Tinca tinca - confidence 0.94\n"
     ]
    },
    {
     "data": {
      "application/vnd.jupyter.widget-view+json": {
       "model_id": "10b38c92a0d64bde85ec7f28f6e22d54",
       "version_major": 2,
       "version_minor": 0
      },
      "text/plain": [
       "PGD - Random Initializations:   0%|          | 0/1 [00:00<?, ?it/s]"
      ]
     },
     "metadata": {},
     "output_type": "display_data"
    },
    {
     "data": {
      "application/vnd.jupyter.widget-view+json": {
       "model_id": "",
       "version_major": 2,
       "version_minor": 0
      },
      "text/plain": [
       "PGD - Iterations:   0%|          | 0/50 [00:00<?, ?it/s]"
      ]
     },
     "metadata": {},
     "output_type": "display_data"
    },
    {
     "name": "stdout",
     "output_type": "stream",
     "text": [
      "Prediction after pert: banjo - confidence 1.00\n",
      "---------------------------------------------\n",
      "Prediction of adversarial sample after spatial deffense: banjo - confidence 1.00\n",
      "---------------------------------------------\n",
      "original Prediction: barracouta, snoek - confidence 0.30\n"
     ]
    },
    {
     "data": {
      "application/vnd.jupyter.widget-view+json": {
       "model_id": "f1b9c5501c19455ba5d006de66720449",
       "version_major": 2,
       "version_minor": 0
      },
      "text/plain": [
       "PGD - Random Initializations:   0%|          | 0/1 [00:00<?, ?it/s]"
      ]
     },
     "metadata": {},
     "output_type": "display_data"
    },
    {
     "data": {
      "application/vnd.jupyter.widget-view+json": {
       "model_id": "",
       "version_major": 2,
       "version_minor": 0
      },
      "text/plain": [
       "PGD - Iterations:   0%|          | 0/50 [00:00<?, ?it/s]"
      ]
     },
     "metadata": {},
     "output_type": "display_data"
    },
    {
     "name": "stdout",
     "output_type": "stream",
     "text": [
      "Prediction after pert: Newfoundland, Newfoundland dog - confidence 1.00\n",
      "---------------------------------------------\n",
      "Prediction of adversarial sample after spatial deffense: Newfoundland, Newfoundland dog - confidence 1.00\n",
      "---------------------------------------------\n",
      "original Prediction: crayfish, crawfish, crawdad, crawdaddy - confidence 0.62\n"
     ]
    },
    {
     "data": {
      "application/vnd.jupyter.widget-view+json": {
       "model_id": "aaa165c462d747b5bd944c1d458746c8",
       "version_major": 2,
       "version_minor": 0
      },
      "text/plain": [
       "PGD - Random Initializations:   0%|          | 0/1 [00:00<?, ?it/s]"
      ]
     },
     "metadata": {},
     "output_type": "display_data"
    },
    {
     "data": {
      "application/vnd.jupyter.widget-view+json": {
       "model_id": "",
       "version_major": 2,
       "version_minor": 0
      },
      "text/plain": [
       "PGD - Iterations:   0%|          | 0/50 [00:00<?, ?it/s]"
      ]
     },
     "metadata": {},
     "output_type": "display_data"
    },
    {
     "name": "stdout",
     "output_type": "stream",
     "text": [
      "Prediction after pert: hummingbird - confidence 1.00\n",
      "---------------------------------------------\n",
      "Prediction of adversarial sample after spatial deffense: hummingbird - confidence 1.00\n",
      "---------------------------------------------\n",
      "original Prediction: tench, Tinca tinca - confidence 1.00\n"
     ]
    },
    {
     "data": {
      "application/vnd.jupyter.widget-view+json": {
       "model_id": "d014a446371f471b909f666fe90aaa1b",
       "version_major": 2,
       "version_minor": 0
      },
      "text/plain": [
       "PGD - Random Initializations:   0%|          | 0/1 [00:00<?, ?it/s]"
      ]
     },
     "metadata": {},
     "output_type": "display_data"
    },
    {
     "data": {
      "application/vnd.jupyter.widget-view+json": {
       "model_id": "",
       "version_major": 2,
       "version_minor": 0
      },
      "text/plain": [
       "PGD - Iterations:   0%|          | 0/50 [00:00<?, ?it/s]"
      ]
     },
     "metadata": {},
     "output_type": "display_data"
    },
    {
     "name": "stdout",
     "output_type": "stream",
     "text": [
      "Prediction after pert: slug - confidence 1.00\n",
      "---------------------------------------------\n",
      "Prediction of adversarial sample after spatial deffense: slug - confidence 1.00\n",
      "---------------------------------------------\n",
      "original Prediction: tench, Tinca tinca - confidence 1.00\n"
     ]
    },
    {
     "data": {
      "application/vnd.jupyter.widget-view+json": {
       "model_id": "9f537278e443428badd055639bc8045d",
       "version_major": 2,
       "version_minor": 0
      },
      "text/plain": [
       "PGD - Random Initializations:   0%|          | 0/1 [00:00<?, ?it/s]"
      ]
     },
     "metadata": {},
     "output_type": "display_data"
    },
    {
     "data": {
      "application/vnd.jupyter.widget-view+json": {
       "model_id": "",
       "version_major": 2,
       "version_minor": 0
      },
      "text/plain": [
       "PGD - Iterations:   0%|          | 0/50 [00:00<?, ?it/s]"
      ]
     },
     "metadata": {},
     "output_type": "display_data"
    },
    {
     "name": "stdout",
     "output_type": "stream",
     "text": [
      "Prediction after pert: barracouta, snoek - confidence 1.00\n",
      "---------------------------------------------\n",
      "Prediction of adversarial sample after spatial deffense: barracouta, snoek - confidence 1.00\n",
      "---------------------------------------------\n",
      "original Prediction: tench, Tinca tinca - confidence 1.00\n"
     ]
    },
    {
     "data": {
      "application/vnd.jupyter.widget-view+json": {
       "model_id": "638ab9112fdd4b98a22e51c42927d570",
       "version_major": 2,
       "version_minor": 0
      },
      "text/plain": [
       "PGD - Random Initializations:   0%|          | 0/1 [00:00<?, ?it/s]"
      ]
     },
     "metadata": {},
     "output_type": "display_data"
    },
    {
     "data": {
      "application/vnd.jupyter.widget-view+json": {
       "model_id": "",
       "version_major": 2,
       "version_minor": 0
      },
      "text/plain": [
       "PGD - Iterations:   0%|          | 0/50 [00:00<?, ?it/s]"
      ]
     },
     "metadata": {},
     "output_type": "display_data"
    },
    {
     "name": "stdout",
     "output_type": "stream",
     "text": [
      "Prediction after pert: jackfruit, jak, jack - confidence 1.00\n",
      "---------------------------------------------\n",
      "Prediction of adversarial sample after spatial deffense: jackfruit, jak, jack - confidence 1.00\n",
      "---------------------------------------------\n",
      "original Prediction: goldfish, Carassius auratus - confidence 0.99\n"
     ]
    },
    {
     "data": {
      "application/vnd.jupyter.widget-view+json": {
       "model_id": "a99154d5ed8c4f61ba6b02d43813331d",
       "version_major": 2,
       "version_minor": 0
      },
      "text/plain": [
       "PGD - Random Initializations:   0%|          | 0/1 [00:00<?, ?it/s]"
      ]
     },
     "metadata": {},
     "output_type": "display_data"
    },
    {
     "data": {
      "application/vnd.jupyter.widget-view+json": {
       "model_id": "",
       "version_major": 2,
       "version_minor": 0
      },
      "text/plain": [
       "PGD - Iterations:   0%|          | 0/50 [00:00<?, ?it/s]"
      ]
     },
     "metadata": {},
     "output_type": "display_data"
    },
    {
     "name": "stdout",
     "output_type": "stream",
     "text": [
      "Prediction after pert: shoe shop, shoe-shop, shoe store - confidence 1.00\n",
      "---------------------------------------------\n",
      "Prediction of adversarial sample after spatial deffense: shoe shop, shoe-shop, shoe store - confidence 1.00\n",
      "---------------------------------------------\n",
      "original Prediction: long-horned beetle, longicorn, longicorn beetle - confidence 0.27\n"
     ]
    },
    {
     "data": {
      "application/vnd.jupyter.widget-view+json": {
       "model_id": "82210cc7c2e149c1ab9caec37a7b158d",
       "version_major": 2,
       "version_minor": 0
      },
      "text/plain": [
       "PGD - Random Initializations:   0%|          | 0/1 [00:00<?, ?it/s]"
      ]
     },
     "metadata": {},
     "output_type": "display_data"
    },
    {
     "data": {
      "application/vnd.jupyter.widget-view+json": {
       "model_id": "",
       "version_major": 2,
       "version_minor": 0
      },
      "text/plain": [
       "PGD - Iterations:   0%|          | 0/50 [00:00<?, ?it/s]"
      ]
     },
     "metadata": {},
     "output_type": "display_data"
    },
    {
     "name": "stdout",
     "output_type": "stream",
     "text": [
      "Prediction after pert: starfish, sea star - confidence 1.00\n",
      "---------------------------------------------\n",
      "Prediction of adversarial sample after spatial deffense: starfish, sea star - confidence 1.00\n",
      "---------------------------------------------\n",
      "original Prediction: goldfish, Carassius auratus - confidence 0.97\n"
     ]
    },
    {
     "data": {
      "application/vnd.jupyter.widget-view+json": {
       "model_id": "82e4ffa6ac044d3ca9b60d72c88e3283",
       "version_major": 2,
       "version_minor": 0
      },
      "text/plain": [
       "PGD - Random Initializations:   0%|          | 0/1 [00:00<?, ?it/s]"
      ]
     },
     "metadata": {},
     "output_type": "display_data"
    },
    {
     "data": {
      "application/vnd.jupyter.widget-view+json": {
       "model_id": "",
       "version_major": 2,
       "version_minor": 0
      },
      "text/plain": [
       "PGD - Iterations:   0%|          | 0/50 [00:00<?, ?it/s]"
      ]
     },
     "metadata": {},
     "output_type": "display_data"
    },
    {
     "name": "stdout",
     "output_type": "stream",
     "text": [
      "Prediction after pert: common newt, Triturus vulgaris - confidence 1.00\n",
      "---------------------------------------------\n",
      "Prediction of adversarial sample after spatial deffense: common newt, Triturus vulgaris - confidence 1.00\n",
      "---------------------------------------------\n",
      "original Prediction: goldfish, Carassius auratus - confidence 0.92\n"
     ]
    },
    {
     "data": {
      "application/vnd.jupyter.widget-view+json": {
       "model_id": "9a166eaf31fa423f8f0ee40892f2183f",
       "version_major": 2,
       "version_minor": 0
      },
      "text/plain": [
       "PGD - Random Initializations:   0%|          | 0/1 [00:00<?, ?it/s]"
      ]
     },
     "metadata": {},
     "output_type": "display_data"
    },
    {
     "data": {
      "application/vnd.jupyter.widget-view+json": {
       "model_id": "",
       "version_major": 2,
       "version_minor": 0
      },
      "text/plain": [
       "PGD - Iterations:   0%|          | 0/50 [00:00<?, ?it/s]"
      ]
     },
     "metadata": {},
     "output_type": "display_data"
    },
    {
     "name": "stdout",
     "output_type": "stream",
     "text": [
      "Prediction after pert: sea slug, nudibranch - confidence 0.92\n",
      "---------------------------------------------\n",
      "Prediction of adversarial sample after spatial deffense: sea slug, nudibranch - confidence 0.82\n",
      "---------------------------------------------\n",
      "original Prediction: goldfish, Carassius auratus - confidence 1.00\n"
     ]
    },
    {
     "data": {
      "application/vnd.jupyter.widget-view+json": {
       "model_id": "e923f741c75546389a31304add5bff16",
       "version_major": 2,
       "version_minor": 0
      },
      "text/plain": [
       "PGD - Random Initializations:   0%|          | 0/1 [00:00<?, ?it/s]"
      ]
     },
     "metadata": {},
     "output_type": "display_data"
    },
    {
     "data": {
      "application/vnd.jupyter.widget-view+json": {
       "model_id": "",
       "version_major": 2,
       "version_minor": 0
      },
      "text/plain": [
       "PGD - Iterations:   0%|          | 0/50 [00:00<?, ?it/s]"
      ]
     },
     "metadata": {},
     "output_type": "display_data"
    },
    {
     "name": "stdout",
     "output_type": "stream",
     "text": [
      "Prediction after pert: giant schnauzer - confidence 1.00\n",
      "---------------------------------------------\n",
      "Prediction of adversarial sample after spatial deffense: giant schnauzer - confidence 1.00\n",
      "---------------------------------------------\n",
      "original Prediction: pitcher, ewer - confidence 0.35\n"
     ]
    },
    {
     "data": {
      "application/vnd.jupyter.widget-view+json": {
       "model_id": "d58a6ff47af74bbb86477950dce7a99c",
       "version_major": 2,
       "version_minor": 0
      },
      "text/plain": [
       "PGD - Random Initializations:   0%|          | 0/1 [00:00<?, ?it/s]"
      ]
     },
     "metadata": {},
     "output_type": "display_data"
    },
    {
     "data": {
      "application/vnd.jupyter.widget-view+json": {
       "model_id": "",
       "version_major": 2,
       "version_minor": 0
      },
      "text/plain": [
       "PGD - Iterations:   0%|          | 0/50 [00:00<?, ?it/s]"
      ]
     },
     "metadata": {},
     "output_type": "display_data"
    },
    {
     "name": "stdout",
     "output_type": "stream",
     "text": [
      "Prediction after pert: perfume, essence - confidence 1.00\n",
      "---------------------------------------------\n",
      "Prediction of adversarial sample after spatial deffense: perfume, essence - confidence 1.00\n",
      "---------------------------------------------\n",
      "original Prediction: great white shark, white shark, man-eater, man-eating shark, Carcharodon carcharias - confidence 0.86\n"
     ]
    },
    {
     "data": {
      "application/vnd.jupyter.widget-view+json": {
       "model_id": "6a9cfadb6db64433ba9fddcdbc8279ed",
       "version_major": 2,
       "version_minor": 0
      },
      "text/plain": [
       "PGD - Random Initializations:   0%|          | 0/1 [00:00<?, ?it/s]"
      ]
     },
     "metadata": {},
     "output_type": "display_data"
    },
    {
     "data": {
      "application/vnd.jupyter.widget-view+json": {
       "model_id": "",
       "version_major": 2,
       "version_minor": 0
      },
      "text/plain": [
       "PGD - Iterations:   0%|          | 0/50 [00:00<?, ?it/s]"
      ]
     },
     "metadata": {},
     "output_type": "display_data"
    },
    {
     "name": "stdout",
     "output_type": "stream",
     "text": [
      "Prediction after pert: flatworm, platyhelminth - confidence 1.00\n",
      "---------------------------------------------\n",
      "Prediction of adversarial sample after spatial deffense: flatworm, platyhelminth - confidence 1.00\n",
      "---------------------------------------------\n",
      "original Prediction: great white shark, white shark, man-eater, man-eating shark, Carcharodon carcharias - confidence 0.91\n"
     ]
    },
    {
     "data": {
      "application/vnd.jupyter.widget-view+json": {
       "model_id": "b5e4858d622d4279a40a3b776c78e845",
       "version_major": 2,
       "version_minor": 0
      },
      "text/plain": [
       "PGD - Random Initializations:   0%|          | 0/1 [00:00<?, ?it/s]"
      ]
     },
     "metadata": {},
     "output_type": "display_data"
    },
    {
     "data": {
      "application/vnd.jupyter.widget-view+json": {
       "model_id": "",
       "version_major": 2,
       "version_minor": 0
      },
      "text/plain": [
       "PGD - Iterations:   0%|          | 0/50 [00:00<?, ?it/s]"
      ]
     },
     "metadata": {},
     "output_type": "display_data"
    },
    {
     "name": "stdout",
     "output_type": "stream",
     "text": [
      "Prediction after pert: hippopotamus, hippo, river horse, Hippopotamus amphibius - confidence 1.00\n",
      "---------------------------------------------\n",
      "Prediction of adversarial sample after spatial deffense: hippopotamus, hippo, river horse, Hippopotamus amphibius - confidence 1.00\n",
      "---------------------------------------------\n",
      "original Prediction: great white shark, white shark, man-eater, man-eating shark, Carcharodon carcharias - confidence 1.00\n"
     ]
    },
    {
     "data": {
      "application/vnd.jupyter.widget-view+json": {
       "model_id": "e989d309ce14450c9f9f5fb9aa485918",
       "version_major": 2,
       "version_minor": 0
      },
      "text/plain": [
       "PGD - Random Initializations:   0%|          | 0/1 [00:00<?, ?it/s]"
      ]
     },
     "metadata": {},
     "output_type": "display_data"
    },
    {
     "data": {
      "application/vnd.jupyter.widget-view+json": {
       "model_id": "",
       "version_major": 2,
       "version_minor": 0
      },
      "text/plain": [
       "PGD - Iterations:   0%|          | 0/50 [00:00<?, ?it/s]"
      ]
     },
     "metadata": {},
     "output_type": "display_data"
    },
    {
     "name": "stdout",
     "output_type": "stream",
     "text": [
      "Prediction after pert: albatross, mollymawk - confidence 1.00\n",
      "---------------------------------------------\n",
      "Prediction of adversarial sample after spatial deffense: albatross, mollymawk - confidence 1.00\n",
      "---------------------------------------------\n",
      "original Prediction: tiger shark, Galeocerdo cuvieri - confidence 0.73\n"
     ]
    },
    {
     "data": {
      "application/vnd.jupyter.widget-view+json": {
       "model_id": "2cdeeeee52504e22a00697dea30a868c",
       "version_major": 2,
       "version_minor": 0
      },
      "text/plain": [
       "PGD - Random Initializations:   0%|          | 0/1 [00:00<?, ?it/s]"
      ]
     },
     "metadata": {},
     "output_type": "display_data"
    },
    {
     "data": {
      "application/vnd.jupyter.widget-view+json": {
       "model_id": "",
       "version_major": 2,
       "version_minor": 0
      },
      "text/plain": [
       "PGD - Iterations:   0%|          | 0/50 [00:00<?, ?it/s]"
      ]
     },
     "metadata": {},
     "output_type": "display_data"
    },
    {
     "name": "stdout",
     "output_type": "stream",
     "text": [
      "Prediction after pert: starfish, sea star - confidence 1.00\n",
      "---------------------------------------------\n",
      "Prediction of adversarial sample after spatial deffense: starfish, sea star - confidence 1.00\n",
      "---------------------------------------------\n",
      "original Prediction: great white shark, white shark, man-eater, man-eating shark, Carcharodon carcharias - confidence 0.87\n"
     ]
    },
    {
     "data": {
      "application/vnd.jupyter.widget-view+json": {
       "model_id": "ce6ad3698d0340a89feb84a63f3b485d",
       "version_major": 2,
       "version_minor": 0
      },
      "text/plain": [
       "PGD - Random Initializations:   0%|          | 0/1 [00:00<?, ?it/s]"
      ]
     },
     "metadata": {},
     "output_type": "display_data"
    },
    {
     "data": {
      "application/vnd.jupyter.widget-view+json": {
       "model_id": "",
       "version_major": 2,
       "version_minor": 0
      },
      "text/plain": [
       "PGD - Iterations:   0%|          | 0/50 [00:00<?, ?it/s]"
      ]
     },
     "metadata": {},
     "output_type": "display_data"
    },
    {
     "name": "stdout",
     "output_type": "stream",
     "text": [
      "Prediction after pert: tiger shark, Galeocerdo cuvieri - confidence 1.00\n",
      "---------------------------------------------\n",
      "Prediction of adversarial sample after spatial deffense: tiger shark, Galeocerdo cuvieri - confidence 1.00\n",
      "---------------------------------------------\n",
      "original Prediction: great white shark, white shark, man-eater, man-eating shark, Carcharodon carcharias - confidence 0.50\n"
     ]
    },
    {
     "data": {
      "application/vnd.jupyter.widget-view+json": {
       "model_id": "2a0fa3d2bf134ff9ac82bf1c55d3cab4",
       "version_major": 2,
       "version_minor": 0
      },
      "text/plain": [
       "PGD - Random Initializations:   0%|          | 0/1 [00:00<?, ?it/s]"
      ]
     },
     "metadata": {},
     "output_type": "display_data"
    },
    {
     "data": {
      "application/vnd.jupyter.widget-view+json": {
       "model_id": "",
       "version_major": 2,
       "version_minor": 0
      },
      "text/plain": [
       "PGD - Iterations:   0%|          | 0/50 [00:00<?, ?it/s]"
      ]
     },
     "metadata": {},
     "output_type": "display_data"
    },
    {
     "name": "stdout",
     "output_type": "stream",
     "text": [
      "Prediction after pert: loggerhead, loggerhead turtle, Caretta caretta - confidence 1.00\n",
      "---------------------------------------------\n",
      "Prediction of adversarial sample after spatial deffense: loggerhead, loggerhead turtle, Caretta caretta - confidence 1.00\n",
      "---------------------------------------------\n",
      "original Prediction: tiger shark, Galeocerdo cuvieri - confidence 0.50\n"
     ]
    },
    {
     "data": {
      "application/vnd.jupyter.widget-view+json": {
       "model_id": "056b5ffe05de4a9b9b677c7c8bf74326",
       "version_major": 2,
       "version_minor": 0
      },
      "text/plain": [
       "PGD - Random Initializations:   0%|          | 0/1 [00:00<?, ?it/s]"
      ]
     },
     "metadata": {},
     "output_type": "display_data"
    },
    {
     "data": {
      "application/vnd.jupyter.widget-view+json": {
       "model_id": "",
       "version_major": 2,
       "version_minor": 0
      },
      "text/plain": [
       "PGD - Iterations:   0%|          | 0/50 [00:00<?, ?it/s]"
      ]
     },
     "metadata": {},
     "output_type": "display_data"
    },
    {
     "name": "stdout",
     "output_type": "stream",
     "text": [
      "Prediction after pert: sturgeon - confidence 1.00\n",
      "---------------------------------------------\n",
      "Prediction of adversarial sample after spatial deffense: sturgeon - confidence 1.00\n",
      "---------------------------------------------\n",
      "original Prediction: tiger shark, Galeocerdo cuvieri - confidence 0.70\n"
     ]
    },
    {
     "data": {
      "application/vnd.jupyter.widget-view+json": {
       "model_id": "8fd2d7d96e494497b887dc586444e5af",
       "version_major": 2,
       "version_minor": 0
      },
      "text/plain": [
       "PGD - Random Initializations:   0%|          | 0/1 [00:00<?, ?it/s]"
      ]
     },
     "metadata": {},
     "output_type": "display_data"
    },
    {
     "data": {
      "application/vnd.jupyter.widget-view+json": {
       "model_id": "",
       "version_major": 2,
       "version_minor": 0
      },
      "text/plain": [
       "PGD - Iterations:   0%|          | 0/50 [00:00<?, ?it/s]"
      ]
     },
     "metadata": {},
     "output_type": "display_data"
    },
    {
     "name": "stdout",
     "output_type": "stream",
     "text": [
      "Prediction after pert: great white shark, white shark, man-eater, man-eating shark, Carcharodon carcharias - confidence 1.00\n",
      "---------------------------------------------\n",
      "Prediction of adversarial sample after spatial deffense: great white shark, white shark, man-eater, man-eating shark, Carcharodon carcharias - confidence 1.00\n",
      "---------------------------------------------\n",
      "original Prediction: tiger shark, Galeocerdo cuvieri - confidence 0.93\n"
     ]
    },
    {
     "data": {
      "application/vnd.jupyter.widget-view+json": {
       "model_id": "13b829a5d8cc472d82cdd68cd13068e9",
       "version_major": 2,
       "version_minor": 0
      },
      "text/plain": [
       "PGD - Random Initializations:   0%|          | 0/1 [00:00<?, ?it/s]"
      ]
     },
     "metadata": {},
     "output_type": "display_data"
    },
    {
     "data": {
      "application/vnd.jupyter.widget-view+json": {
       "model_id": "",
       "version_major": 2,
       "version_minor": 0
      },
      "text/plain": [
       "PGD - Iterations:   0%|          | 0/50 [00:00<?, ?it/s]"
      ]
     },
     "metadata": {},
     "output_type": "display_data"
    },
    {
     "name": "stdout",
     "output_type": "stream",
     "text": [
      "Prediction after pert: axolotl, mud puppy, Ambystoma mexicanum - confidence 1.00\n",
      "---------------------------------------------\n",
      "Prediction of adversarial sample after spatial deffense: axolotl, mud puppy, Ambystoma mexicanum - confidence 1.00\n",
      "---------------------------------------------\n",
      "original Prediction: tiger shark, Galeocerdo cuvieri - confidence 0.79\n"
     ]
    },
    {
     "data": {
      "application/vnd.jupyter.widget-view+json": {
       "model_id": "11e5232c101d439ab01e46982b42725f",
       "version_major": 2,
       "version_minor": 0
      },
      "text/plain": [
       "PGD - Random Initializations:   0%|          | 0/1 [00:00<?, ?it/s]"
      ]
     },
     "metadata": {},
     "output_type": "display_data"
    },
    {
     "data": {
      "application/vnd.jupyter.widget-view+json": {
       "model_id": "",
       "version_major": 2,
       "version_minor": 0
      },
      "text/plain": [
       "PGD - Iterations:   0%|          | 0/50 [00:00<?, ?it/s]"
      ]
     },
     "metadata": {},
     "output_type": "display_data"
    },
    {
     "name": "stdout",
     "output_type": "stream",
     "text": [
      "Prediction after pert: sulphur-crested cockatoo, Kakatoe galerita, Cacatua galerita - confidence 1.00\n",
      "---------------------------------------------\n",
      "Prediction of adversarial sample after spatial deffense: sulphur-crested cockatoo, Kakatoe galerita, Cacatua galerita - confidence 1.00\n",
      "---------------------------------------------\n",
      "original Prediction: scuba diver - confidence 0.40\n"
     ]
    },
    {
     "data": {
      "application/vnd.jupyter.widget-view+json": {
       "model_id": "b881fe2b07c0445799ee3c9431890c64",
       "version_major": 2,
       "version_minor": 0
      },
      "text/plain": [
       "PGD - Random Initializations:   0%|          | 0/1 [00:00<?, ?it/s]"
      ]
     },
     "metadata": {},
     "output_type": "display_data"
    },
    {
     "data": {
      "application/vnd.jupyter.widget-view+json": {
       "model_id": "",
       "version_major": 2,
       "version_minor": 0
      },
      "text/plain": [
       "PGD - Iterations:   0%|          | 0/50 [00:00<?, ?it/s]"
      ]
     },
     "metadata": {},
     "output_type": "display_data"
    },
    {
     "name": "stdout",
     "output_type": "stream",
     "text": [
      "Prediction after pert: tiger shark, Galeocerdo cuvieri - confidence 1.00\n",
      "---------------------------------------------\n",
      "Prediction of adversarial sample after spatial deffense: tiger shark, Galeocerdo cuvieri - confidence 1.00\n",
      "---------------------------------------------\n",
      "original Prediction: great white shark, white shark, man-eater, man-eating shark, Carcharodon carcharias - confidence 0.40\n"
     ]
    },
    {
     "data": {
      "application/vnd.jupyter.widget-view+json": {
       "model_id": "1edf033de28541a0aac6952097f5a947",
       "version_major": 2,
       "version_minor": 0
      },
      "text/plain": [
       "PGD - Random Initializations:   0%|          | 0/1 [00:00<?, ?it/s]"
      ]
     },
     "metadata": {},
     "output_type": "display_data"
    },
    {
     "data": {
      "application/vnd.jupyter.widget-view+json": {
       "model_id": "",
       "version_major": 2,
       "version_minor": 0
      },
      "text/plain": [
       "PGD - Iterations:   0%|          | 0/50 [00:00<?, ?it/s]"
      ]
     },
     "metadata": {},
     "output_type": "display_data"
    },
    {
     "name": "stdout",
     "output_type": "stream",
     "text": [
      "Prediction after pert: jellyfish - confidence 1.00\n",
      "---------------------------------------------\n",
      "Prediction of adversarial sample after spatial deffense: jellyfish - confidence 1.00\n",
      "---------------------------------------------\n",
      "original Prediction: hammerhead, hammerhead shark - confidence 0.66\n"
     ]
    },
    {
     "data": {
      "application/vnd.jupyter.widget-view+json": {
       "model_id": "52651d1592b14861b7583d81cb9db8f4",
       "version_major": 2,
       "version_minor": 0
      },
      "text/plain": [
       "PGD - Random Initializations:   0%|          | 0/1 [00:00<?, ?it/s]"
      ]
     },
     "metadata": {},
     "output_type": "display_data"
    },
    {
     "data": {
      "application/vnd.jupyter.widget-view+json": {
       "model_id": "",
       "version_major": 2,
       "version_minor": 0
      },
      "text/plain": [
       "PGD - Iterations:   0%|          | 0/50 [00:00<?, ?it/s]"
      ]
     },
     "metadata": {},
     "output_type": "display_data"
    },
    {
     "name": "stdout",
     "output_type": "stream",
     "text": [
      "Prediction after pert: platypus, duckbill, duckbilled platypus, duck-billed platypus, Ornithorhynchus anatinus - confidence 1.00\n",
      "---------------------------------------------\n",
      "Prediction of adversarial sample after spatial deffense: platypus, duckbill, duckbilled platypus, duck-billed platypus, Ornithorhynchus anatinus - confidence 1.00\n",
      "---------------------------------------------\n",
      "original Prediction: coho, cohoe, coho salmon, blue jack, silver salmon, Oncorhynchus kisutch - confidence 0.34\n"
     ]
    },
    {
     "data": {
      "application/vnd.jupyter.widget-view+json": {
       "model_id": "a9c3a697970b4d12b4fe16ba5ba65e0d",
       "version_major": 2,
       "version_minor": 0
      },
      "text/plain": [
       "PGD - Random Initializations:   0%|          | 0/1 [00:00<?, ?it/s]"
      ]
     },
     "metadata": {},
     "output_type": "display_data"
    },
    {
     "data": {
      "application/vnd.jupyter.widget-view+json": {
       "model_id": "",
       "version_major": 2,
       "version_minor": 0
      },
      "text/plain": [
       "PGD - Iterations:   0%|          | 0/50 [00:00<?, ?it/s]"
      ]
     },
     "metadata": {},
     "output_type": "display_data"
    },
    {
     "name": "stdout",
     "output_type": "stream",
     "text": [
      "Prediction after pert: seashore, coast, seacoast, sea-coast - confidence 1.00\n",
      "---------------------------------------------\n",
      "Prediction of adversarial sample after spatial deffense: seashore, coast, seacoast, sea-coast - confidence 1.00\n",
      "---------------------------------------------\n",
      "original Prediction: hammerhead, hammerhead shark - confidence 0.61\n"
     ]
    },
    {
     "data": {
      "application/vnd.jupyter.widget-view+json": {
       "model_id": "02f007aa251e4160b4d95651081c22be",
       "version_major": 2,
       "version_minor": 0
      },
      "text/plain": [
       "PGD - Random Initializations:   0%|          | 0/1 [00:00<?, ?it/s]"
      ]
     },
     "metadata": {},
     "output_type": "display_data"
    },
    {
     "data": {
      "application/vnd.jupyter.widget-view+json": {
       "model_id": "",
       "version_major": 2,
       "version_minor": 0
      },
      "text/plain": [
       "PGD - Iterations:   0%|          | 0/50 [00:00<?, ?it/s]"
      ]
     },
     "metadata": {},
     "output_type": "display_data"
    },
    {
     "name": "stdout",
     "output_type": "stream",
     "text": [
      "Prediction after pert: tiger shark, Galeocerdo cuvieri - confidence 1.00\n",
      "---------------------------------------------\n",
      "Prediction of adversarial sample after spatial deffense: tiger shark, Galeocerdo cuvieri - confidence 1.00\n",
      "---------------------------------------------\n",
      "original Prediction: hammerhead, hammerhead shark - confidence 0.44\n"
     ]
    },
    {
     "data": {
      "application/vnd.jupyter.widget-view+json": {
       "model_id": "8976b071d317410da33375cb9a5e3b6f",
       "version_major": 2,
       "version_minor": 0
      },
      "text/plain": [
       "PGD - Random Initializations:   0%|          | 0/1 [00:00<?, ?it/s]"
      ]
     },
     "metadata": {},
     "output_type": "display_data"
    },
    {
     "data": {
      "application/vnd.jupyter.widget-view+json": {
       "model_id": "",
       "version_major": 2,
       "version_minor": 0
      },
      "text/plain": [
       "PGD - Iterations:   0%|          | 0/50 [00:00<?, ?it/s]"
      ]
     },
     "metadata": {},
     "output_type": "display_data"
    },
    {
     "name": "stdout",
     "output_type": "stream",
     "text": [
      "Prediction after pert: great white shark, white shark, man-eater, man-eating shark, Carcharodon carcharias - confidence 1.00\n",
      "---------------------------------------------\n",
      "Prediction of adversarial sample after spatial deffense: great white shark, white shark, man-eater, man-eating shark, Carcharodon carcharias - confidence 1.00\n",
      "---------------------------------------------\n",
      "original Prediction: stingray - confidence 0.35\n"
     ]
    },
    {
     "data": {
      "application/vnd.jupyter.widget-view+json": {
       "model_id": "ea76b6a421bf4f2fa601278d77ebb5c4",
       "version_major": 2,
       "version_minor": 0
      },
      "text/plain": [
       "PGD - Random Initializations:   0%|          | 0/1 [00:00<?, ?it/s]"
      ]
     },
     "metadata": {},
     "output_type": "display_data"
    },
    {
     "data": {
      "application/vnd.jupyter.widget-view+json": {
       "model_id": "",
       "version_major": 2,
       "version_minor": 0
      },
      "text/plain": [
       "PGD - Iterations:   0%|          | 0/50 [00:00<?, ?it/s]"
      ]
     },
     "metadata": {},
     "output_type": "display_data"
    },
    {
     "name": "stdout",
     "output_type": "stream",
     "text": [
      "Prediction after pert: axolotl, mud puppy, Ambystoma mexicanum - confidence 1.00\n",
      "---------------------------------------------\n",
      "Prediction of adversarial sample after spatial deffense: axolotl, mud puppy, Ambystoma mexicanum - confidence 1.00\n",
      "---------------------------------------------\n",
      "original Prediction: hammerhead, hammerhead shark - confidence 1.00\n"
     ]
    },
    {
     "data": {
      "application/vnd.jupyter.widget-view+json": {
       "model_id": "96a9c8186dc542bc927d289474bb3248",
       "version_major": 2,
       "version_minor": 0
      },
      "text/plain": [
       "PGD - Random Initializations:   0%|          | 0/1 [00:00<?, ?it/s]"
      ]
     },
     "metadata": {},
     "output_type": "display_data"
    },
    {
     "data": {
      "application/vnd.jupyter.widget-view+json": {
       "model_id": "",
       "version_major": 2,
       "version_minor": 0
      },
      "text/plain": [
       "PGD - Iterations:   0%|          | 0/50 [00:00<?, ?it/s]"
      ]
     },
     "metadata": {},
     "output_type": "display_data"
    },
    {
     "name": "stdout",
     "output_type": "stream",
     "text": [
      "Prediction after pert: great white shark, white shark, man-eater, man-eating shark, Carcharodon carcharias - confidence 1.00\n",
      "---------------------------------------------\n",
      "Prediction of adversarial sample after spatial deffense: great white shark, white shark, man-eater, man-eating shark, Carcharodon carcharias - confidence 1.00\n",
      "---------------------------------------------\n",
      "original Prediction: electric ray, crampfish, numbfish, torpedo - confidence 0.87\n"
     ]
    },
    {
     "data": {
      "application/vnd.jupyter.widget-view+json": {
       "model_id": "dc0584650c534f2595c0f0176bff5814",
       "version_major": 2,
       "version_minor": 0
      },
      "text/plain": [
       "PGD - Random Initializations:   0%|          | 0/1 [00:00<?, ?it/s]"
      ]
     },
     "metadata": {},
     "output_type": "display_data"
    },
    {
     "data": {
      "application/vnd.jupyter.widget-view+json": {
       "model_id": "",
       "version_major": 2,
       "version_minor": 0
      },
      "text/plain": [
       "PGD - Iterations:   0%|          | 0/50 [00:00<?, ?it/s]"
      ]
     },
     "metadata": {},
     "output_type": "display_data"
    },
    {
     "name": "stdout",
     "output_type": "stream",
     "text": [
      "Prediction after pert: giant schnauzer - confidence 1.00\n",
      "---------------------------------------------\n",
      "Prediction of adversarial sample after spatial deffense: giant schnauzer - confidence 1.00\n",
      "---------------------------------------------\n",
      "original Prediction: electric ray, crampfish, numbfish, torpedo - confidence 0.87\n"
     ]
    },
    {
     "data": {
      "application/vnd.jupyter.widget-view+json": {
       "model_id": "055875533bbc43d9ab760afdc4adcf4a",
       "version_major": 2,
       "version_minor": 0
      },
      "text/plain": [
       "PGD - Random Initializations:   0%|          | 0/1 [00:00<?, ?it/s]"
      ]
     },
     "metadata": {},
     "output_type": "display_data"
    },
    {
     "data": {
      "application/vnd.jupyter.widget-view+json": {
       "model_id": "",
       "version_major": 2,
       "version_minor": 0
      },
      "text/plain": [
       "PGD - Iterations:   0%|          | 0/50 [00:00<?, ?it/s]"
      ]
     },
     "metadata": {},
     "output_type": "display_data"
    },
    {
     "name": "stdout",
     "output_type": "stream",
     "text": [
      "Prediction after pert: paper towel - confidence 1.00\n",
      "---------------------------------------------\n",
      "Prediction of adversarial sample after spatial deffense: paper towel - confidence 1.00\n",
      "---------------------------------------------\n",
      "original Prediction: electric ray, crampfish, numbfish, torpedo - confidence 0.68\n"
     ]
    },
    {
     "data": {
      "application/vnd.jupyter.widget-view+json": {
       "model_id": "a4609f00b053490b8867504b0d149c1e",
       "version_major": 2,
       "version_minor": 0
      },
      "text/plain": [
       "PGD - Random Initializations:   0%|          | 0/1 [00:00<?, ?it/s]"
      ]
     },
     "metadata": {},
     "output_type": "display_data"
    },
    {
     "data": {
      "application/vnd.jupyter.widget-view+json": {
       "model_id": "",
       "version_major": 2,
       "version_minor": 0
      },
      "text/plain": [
       "PGD - Iterations:   0%|          | 0/50 [00:00<?, ?it/s]"
      ]
     },
     "metadata": {},
     "output_type": "display_data"
    },
    {
     "name": "stdout",
     "output_type": "stream",
     "text": [
      "Prediction after pert: leatherback turtle, leatherback, leathery turtle, Dermochelys coriacea - confidence 1.00\n",
      "---------------------------------------------\n",
      "Prediction of adversarial sample after spatial deffense: leatherback turtle, leatherback, leathery turtle, Dermochelys coriacea - confidence 1.00\n",
      "---------------------------------------------\n",
      "original Prediction: thimble - confidence 0.94\n"
     ]
    },
    {
     "data": {
      "application/vnd.jupyter.widget-view+json": {
       "model_id": "986710df5259451da0b251c26829189c",
       "version_major": 2,
       "version_minor": 0
      },
      "text/plain": [
       "PGD - Random Initializations:   0%|          | 0/1 [00:00<?, ?it/s]"
      ]
     },
     "metadata": {},
     "output_type": "display_data"
    },
    {
     "data": {
      "application/vnd.jupyter.widget-view+json": {
       "model_id": "",
       "version_major": 2,
       "version_minor": 0
      },
      "text/plain": [
       "PGD - Iterations:   0%|          | 0/50 [00:00<?, ?it/s]"
      ]
     },
     "metadata": {},
     "output_type": "display_data"
    },
    {
     "name": "stdout",
     "output_type": "stream",
     "text": [
      "Prediction after pert: electric ray, crampfish, numbfish, torpedo - confidence 1.00\n",
      "---------------------------------------------\n",
      "Prediction of adversarial sample after spatial deffense: electric ray, crampfish, numbfish, torpedo - confidence 1.00\n",
      "---------------------------------------------\n",
      "original Prediction: hummingbird - confidence 0.86\n"
     ]
    },
    {
     "data": {
      "application/vnd.jupyter.widget-view+json": {
       "model_id": "36b1618315ec4edb9522b6b69026317f",
       "version_major": 2,
       "version_minor": 0
      },
      "text/plain": [
       "PGD - Random Initializations:   0%|          | 0/1 [00:00<?, ?it/s]"
      ]
     },
     "metadata": {},
     "output_type": "display_data"
    },
    {
     "data": {
      "application/vnd.jupyter.widget-view+json": {
       "model_id": "",
       "version_major": 2,
       "version_minor": 0
      },
      "text/plain": [
       "PGD - Iterations:   0%|          | 0/50 [00:00<?, ?it/s]"
      ]
     },
     "metadata": {},
     "output_type": "display_data"
    },
    {
     "name": "stdout",
     "output_type": "stream",
     "text": [
      "Prediction after pert: lycaenid, lycaenid butterfly - confidence 1.00\n",
      "---------------------------------------------\n",
      "Prediction of adversarial sample after spatial deffense: lycaenid, lycaenid butterfly - confidence 1.00\n",
      "---------------------------------------------\n",
      "original Prediction: electric ray, crampfish, numbfish, torpedo - confidence 0.96\n"
     ]
    },
    {
     "data": {
      "application/vnd.jupyter.widget-view+json": {
       "model_id": "5c60d11cb51847ac804ba2709599b4d2",
       "version_major": 2,
       "version_minor": 0
      },
      "text/plain": [
       "PGD - Random Initializations:   0%|          | 0/1 [00:00<?, ?it/s]"
      ]
     },
     "metadata": {},
     "output_type": "display_data"
    },
    {
     "data": {
      "application/vnd.jupyter.widget-view+json": {
       "model_id": "",
       "version_major": 2,
       "version_minor": 0
      },
      "text/plain": [
       "PGD - Iterations:   0%|          | 0/50 [00:00<?, ?it/s]"
      ]
     },
     "metadata": {},
     "output_type": "display_data"
    },
    {
     "name": "stdout",
     "output_type": "stream",
     "text": [
      "Prediction after pert: flatworm, platyhelminth - confidence 1.00\n",
      "---------------------------------------------\n",
      "Prediction of adversarial sample after spatial deffense: flatworm, platyhelminth - confidence 1.00\n",
      "---------------------------------------------\n",
      "original Prediction: stingray - confidence 0.72\n"
     ]
    },
    {
     "data": {
      "application/vnd.jupyter.widget-view+json": {
       "model_id": "f777dc13197a4d3ba330cb0d943b6cb0",
       "version_major": 2,
       "version_minor": 0
      },
      "text/plain": [
       "PGD - Random Initializations:   0%|          | 0/1 [00:00<?, ?it/s]"
      ]
     },
     "metadata": {},
     "output_type": "display_data"
    },
    {
     "data": {
      "application/vnd.jupyter.widget-view+json": {
       "model_id": "",
       "version_major": 2,
       "version_minor": 0
      },
      "text/plain": [
       "PGD - Iterations:   0%|          | 0/50 [00:00<?, ?it/s]"
      ]
     },
     "metadata": {},
     "output_type": "display_data"
    },
    {
     "name": "stdout",
     "output_type": "stream",
     "text": [
      "Prediction after pert: dugong, Dugong dugon - confidence 1.00\n",
      "---------------------------------------------\n",
      "Prediction of adversarial sample after spatial deffense: dugong, Dugong dugon - confidence 1.00\n",
      "---------------------------------------------\n",
      "original Prediction: bathtub, bathing tub, bath, tub - confidence 0.08\n"
     ]
    },
    {
     "data": {
      "application/vnd.jupyter.widget-view+json": {
       "model_id": "ab674712a4b6498db69ff28bca7eb09c",
       "version_major": 2,
       "version_minor": 0
      },
      "text/plain": [
       "PGD - Random Initializations:   0%|          | 0/1 [00:00<?, ?it/s]"
      ]
     },
     "metadata": {},
     "output_type": "display_data"
    },
    {
     "data": {
      "application/vnd.jupyter.widget-view+json": {
       "model_id": "",
       "version_major": 2,
       "version_minor": 0
      },
      "text/plain": [
       "PGD - Iterations:   0%|          | 0/50 [00:00<?, ?it/s]"
      ]
     },
     "metadata": {},
     "output_type": "display_data"
    },
    {
     "name": "stdout",
     "output_type": "stream",
     "text": [
      "Prediction after pert: Great Dane - confidence 1.00\n",
      "---------------------------------------------\n",
      "Prediction of adversarial sample after spatial deffense: Great Dane - confidence 1.00\n",
      "---------------------------------------------\n",
      "original Prediction: stingray - confidence 0.73\n"
     ]
    },
    {
     "data": {
      "application/vnd.jupyter.widget-view+json": {
       "model_id": "a5ee12af872e48a18e946e2ffea6d9d4",
       "version_major": 2,
       "version_minor": 0
      },
      "text/plain": [
       "PGD - Random Initializations:   0%|          | 0/1 [00:00<?, ?it/s]"
      ]
     },
     "metadata": {},
     "output_type": "display_data"
    },
    {
     "data": {
      "application/vnd.jupyter.widget-view+json": {
       "model_id": "",
       "version_major": 2,
       "version_minor": 0
      },
      "text/plain": [
       "PGD - Iterations:   0%|          | 0/50 [00:00<?, ?it/s]"
      ]
     },
     "metadata": {},
     "output_type": "display_data"
    },
    {
     "name": "stdout",
     "output_type": "stream",
     "text": [
      "Prediction after pert: bathing cap, swimming cap - confidence 1.00\n",
      "---------------------------------------------\n",
      "Prediction of adversarial sample after spatial deffense: bathing cap, swimming cap - confidence 1.00\n",
      "---------------------------------------------\n",
      "original Prediction: stingray - confidence 0.27\n"
     ]
    },
    {
     "data": {
      "application/vnd.jupyter.widget-view+json": {
       "model_id": "e5962509495b47a3b338bfda3eebbad6",
       "version_major": 2,
       "version_minor": 0
      },
      "text/plain": [
       "PGD - Random Initializations:   0%|          | 0/1 [00:00<?, ?it/s]"
      ]
     },
     "metadata": {},
     "output_type": "display_data"
    },
    {
     "data": {
      "application/vnd.jupyter.widget-view+json": {
       "model_id": "",
       "version_major": 2,
       "version_minor": 0
      },
      "text/plain": [
       "PGD - Iterations:   0%|          | 0/50 [00:00<?, ?it/s]"
      ]
     },
     "metadata": {},
     "output_type": "display_data"
    },
    {
     "name": "stdout",
     "output_type": "stream",
     "text": [
      "Prediction after pert: platypus, duckbill, duckbilled platypus, duck-billed platypus, Ornithorhynchus anatinus - confidence 1.00\n",
      "---------------------------------------------\n",
      "Prediction of adversarial sample after spatial deffense: platypus, duckbill, duckbilled platypus, duck-billed platypus, Ornithorhynchus anatinus - confidence 1.00\n",
      "---------------------------------------------\n",
      "original Prediction: stingray - confidence 0.79\n"
     ]
    },
    {
     "data": {
      "application/vnd.jupyter.widget-view+json": {
       "model_id": "0843481c40824debbf263cd88db3f920",
       "version_major": 2,
       "version_minor": 0
      },
      "text/plain": [
       "PGD - Random Initializations:   0%|          | 0/1 [00:00<?, ?it/s]"
      ]
     },
     "metadata": {},
     "output_type": "display_data"
    },
    {
     "data": {
      "application/vnd.jupyter.widget-view+json": {
       "model_id": "",
       "version_major": 2,
       "version_minor": 0
      },
      "text/plain": [
       "PGD - Iterations:   0%|          | 0/50 [00:00<?, ?it/s]"
      ]
     },
     "metadata": {},
     "output_type": "display_data"
    },
    {
     "name": "stdout",
     "output_type": "stream",
     "text": [
      "Prediction after pert: American black bear, black bear, Ursus americanus, Euarctos americanus - confidence 1.00\n",
      "---------------------------------------------\n",
      "Prediction of adversarial sample after spatial deffense: American black bear, black bear, Ursus americanus, Euarctos americanus - confidence 1.00\n",
      "---------------------------------------------\n",
      "original Prediction: stingray - confidence 0.71\n"
     ]
    },
    {
     "data": {
      "application/vnd.jupyter.widget-view+json": {
       "model_id": "8589cce6c0f148dca40602068cc8124e",
       "version_major": 2,
       "version_minor": 0
      },
      "text/plain": [
       "PGD - Random Initializations:   0%|          | 0/1 [00:00<?, ?it/s]"
      ]
     },
     "metadata": {},
     "output_type": "display_data"
    },
    {
     "data": {
      "application/vnd.jupyter.widget-view+json": {
       "model_id": "",
       "version_major": 2,
       "version_minor": 0
      },
      "text/plain": [
       "PGD - Iterations:   0%|          | 0/50 [00:00<?, ?it/s]"
      ]
     },
     "metadata": {},
     "output_type": "display_data"
    },
    {
     "name": "stdout",
     "output_type": "stream",
     "text": [
      "Prediction after pert: running shoe - confidence 1.00\n",
      "---------------------------------------------\n",
      "Prediction of adversarial sample after spatial deffense: running shoe - confidence 1.00\n",
      "---------------------------------------------\n",
      "original Prediction: sea cucumber, holothurian - confidence 0.24\n"
     ]
    },
    {
     "data": {
      "application/vnd.jupyter.widget-view+json": {
       "model_id": "16519473ebb84d0bb6e79b0a80f5520e",
       "version_major": 2,
       "version_minor": 0
      },
      "text/plain": [
       "PGD - Random Initializations:   0%|          | 0/1 [00:00<?, ?it/s]"
      ]
     },
     "metadata": {},
     "output_type": "display_data"
    },
    {
     "data": {
      "application/vnd.jupyter.widget-view+json": {
       "model_id": "",
       "version_major": 2,
       "version_minor": 0
      },
      "text/plain": [
       "PGD - Iterations:   0%|          | 0/50 [00:00<?, ?it/s]"
      ]
     },
     "metadata": {},
     "output_type": "display_data"
    },
    {
     "name": "stdout",
     "output_type": "stream",
     "text": [
      "Prediction after pert: guinea pig, Cavia cobaya - confidence 1.00\n",
      "---------------------------------------------\n",
      "Prediction of adversarial sample after spatial deffense: guinea pig, Cavia cobaya - confidence 1.00\n",
      "---------------------------------------------\n",
      "original Prediction: stupa, tope - confidence 0.58\n"
     ]
    },
    {
     "data": {
      "application/vnd.jupyter.widget-view+json": {
       "model_id": "942d90b829f04d9ba77efc1e4e0012f9",
       "version_major": 2,
       "version_minor": 0
      },
      "text/plain": [
       "PGD - Random Initializations:   0%|          | 0/1 [00:00<?, ?it/s]"
      ]
     },
     "metadata": {},
     "output_type": "display_data"
    },
    {
     "data": {
      "application/vnd.jupyter.widget-view+json": {
       "model_id": "",
       "version_major": 2,
       "version_minor": 0
      },
      "text/plain": [
       "PGD - Iterations:   0%|          | 0/50 [00:00<?, ?it/s]"
      ]
     },
     "metadata": {},
     "output_type": "display_data"
    },
    {
     "name": "stdout",
     "output_type": "stream",
     "text": [
      "Prediction after pert: picket fence, paling - confidence 1.00\n",
      "---------------------------------------------\n",
      "Prediction of adversarial sample after spatial deffense: picket fence, paling - confidence 1.00\n",
      "---------------------------------------------\n",
      "original Prediction: cock - confidence 0.86\n"
     ]
    },
    {
     "data": {
      "application/vnd.jupyter.widget-view+json": {
       "model_id": "b8f6d926d37d49f28255e1fae174a7ee",
       "version_major": 2,
       "version_minor": 0
      },
      "text/plain": [
       "PGD - Random Initializations:   0%|          | 0/1 [00:00<?, ?it/s]"
      ]
     },
     "metadata": {},
     "output_type": "display_data"
    },
    {
     "data": {
      "application/vnd.jupyter.widget-view+json": {
       "model_id": "",
       "version_major": 2,
       "version_minor": 0
      },
      "text/plain": [
       "PGD - Iterations:   0%|          | 0/50 [00:00<?, ?it/s]"
      ]
     },
     "metadata": {},
     "output_type": "display_data"
    },
    {
     "name": "stdout",
     "output_type": "stream",
     "text": [
      "Prediction after pert: house finch, linnet, Carpodacus mexicanus - confidence 1.00\n",
      "---------------------------------------------\n",
      "Prediction of adversarial sample after spatial deffense: house finch, linnet, Carpodacus mexicanus - confidence 1.00\n",
      "---------------------------------------------\n",
      "original Prediction: Mexican hairless - confidence 0.16\n"
     ]
    },
    {
     "data": {
      "application/vnd.jupyter.widget-view+json": {
       "model_id": "e1330356aa9a470492e6211f4167cc62",
       "version_major": 2,
       "version_minor": 0
      },
      "text/plain": [
       "PGD - Random Initializations:   0%|          | 0/1 [00:00<?, ?it/s]"
      ]
     },
     "metadata": {},
     "output_type": "display_data"
    },
    {
     "data": {
      "application/vnd.jupyter.widget-view+json": {
       "model_id": "",
       "version_major": 2,
       "version_minor": 0
      },
      "text/plain": [
       "PGD - Iterations:   0%|          | 0/50 [00:00<?, ?it/s]"
      ]
     },
     "metadata": {},
     "output_type": "display_data"
    },
    {
     "name": "stdout",
     "output_type": "stream",
     "text": [
      "Prediction after pert: birdhouse - confidence 1.00\n",
      "---------------------------------------------\n",
      "Prediction of adversarial sample after spatial deffense: birdhouse - confidence 1.00\n",
      "---------------------------------------------\n",
      "original Prediction: cock - confidence 0.95\n"
     ]
    },
    {
     "data": {
      "application/vnd.jupyter.widget-view+json": {
       "model_id": "d6e040edb4064d1aa81b497f7581ec14",
       "version_major": 2,
       "version_minor": 0
      },
      "text/plain": [
       "PGD - Random Initializations:   0%|          | 0/1 [00:00<?, ?it/s]"
      ]
     },
     "metadata": {},
     "output_type": "display_data"
    },
    {
     "data": {
      "application/vnd.jupyter.widget-view+json": {
       "model_id": "",
       "version_major": 2,
       "version_minor": 0
      },
      "text/plain": [
       "PGD - Iterations:   0%|          | 0/50 [00:00<?, ?it/s]"
      ]
     },
     "metadata": {},
     "output_type": "display_data"
    },
    {
     "name": "stdout",
     "output_type": "stream",
     "text": [
      "Prediction after pert: macaw - confidence 1.00\n",
      "---------------------------------------------\n",
      "Prediction of adversarial sample after spatial deffense: macaw - confidence 1.00\n",
      "---------------------------------------------\n",
      "original Prediction: hen - confidence 0.59\n"
     ]
    },
    {
     "data": {
      "application/vnd.jupyter.widget-view+json": {
       "model_id": "348476b9d87549a9a0e0d8523a5fd714",
       "version_major": 2,
       "version_minor": 0
      },
      "text/plain": [
       "PGD - Random Initializations:   0%|          | 0/1 [00:00<?, ?it/s]"
      ]
     },
     "metadata": {},
     "output_type": "display_data"
    },
    {
     "data": {
      "application/vnd.jupyter.widget-view+json": {
       "model_id": "",
       "version_major": 2,
       "version_minor": 0
      },
      "text/plain": [
       "PGD - Iterations:   0%|          | 0/50 [00:00<?, ?it/s]"
      ]
     },
     "metadata": {},
     "output_type": "display_data"
    },
    {
     "name": "stdout",
     "output_type": "stream",
     "text": [
      "Prediction after pert: cock - confidence 1.00\n",
      "---------------------------------------------\n",
      "Prediction of adversarial sample after spatial deffense: cock - confidence 1.00\n",
      "correctly classified after deffense\n",
      "---------------------------------------------\n",
      "original Prediction: cock - confidence 0.44\n"
     ]
    },
    {
     "data": {
      "application/vnd.jupyter.widget-view+json": {
       "model_id": "11872d7ecece44bca18193f059ba50fc",
       "version_major": 2,
       "version_minor": 0
      },
      "text/plain": [
       "PGD - Random Initializations:   0%|          | 0/1 [00:00<?, ?it/s]"
      ]
     },
     "metadata": {},
     "output_type": "display_data"
    },
    {
     "data": {
      "application/vnd.jupyter.widget-view+json": {
       "model_id": "",
       "version_major": 2,
       "version_minor": 0
      },
      "text/plain": [
       "PGD - Iterations:   0%|          | 0/50 [00:00<?, ?it/s]"
      ]
     },
     "metadata": {},
     "output_type": "display_data"
    },
    {
     "name": "stdout",
     "output_type": "stream",
     "text": [
      "Prediction after pert: matchstick - confidence 1.00\n",
      "---------------------------------------------\n",
      "Prediction of adversarial sample after spatial deffense: matchstick - confidence 1.00\n",
      "---------------------------------------------\n",
      "original Prediction: hen - confidence 0.78\n"
     ]
    },
    {
     "data": {
      "application/vnd.jupyter.widget-view+json": {
       "model_id": "c1821ea8a98947fab5f4bed123753a59",
       "version_major": 2,
       "version_minor": 0
      },
      "text/plain": [
       "PGD - Random Initializations:   0%|          | 0/1 [00:00<?, ?it/s]"
      ]
     },
     "metadata": {},
     "output_type": "display_data"
    },
    {
     "data": {
      "application/vnd.jupyter.widget-view+json": {
       "model_id": "",
       "version_major": 2,
       "version_minor": 0
      },
      "text/plain": [
       "PGD - Iterations:   0%|          | 0/50 [00:00<?, ?it/s]"
      ]
     },
     "metadata": {},
     "output_type": "display_data"
    },
    {
     "name": "stdout",
     "output_type": "stream",
     "text": [
      "Prediction after pert: ptarmigan - confidence 1.00\n",
      "---------------------------------------------\n",
      "Prediction of adversarial sample after spatial deffense: ptarmigan - confidence 1.00\n",
      "---------------------------------------------\n",
      "original Prediction: hen - confidence 0.93\n"
     ]
    },
    {
     "data": {
      "application/vnd.jupyter.widget-view+json": {
       "model_id": "9772dadb2c83465884ff0637a5a232dd",
       "version_major": 2,
       "version_minor": 0
      },
      "text/plain": [
       "PGD - Random Initializations:   0%|          | 0/1 [00:00<?, ?it/s]"
      ]
     },
     "metadata": {},
     "output_type": "display_data"
    },
    {
     "data": {
      "application/vnd.jupyter.widget-view+json": {
       "model_id": "",
       "version_major": 2,
       "version_minor": 0
      },
      "text/plain": [
       "PGD - Iterations:   0%|          | 0/50 [00:00<?, ?it/s]"
      ]
     },
     "metadata": {},
     "output_type": "display_data"
    },
    {
     "name": "stdout",
     "output_type": "stream",
     "text": [
      "Prediction after pert: peacock - confidence 1.00\n",
      "---------------------------------------------\n",
      "Prediction of adversarial sample after spatial deffense: peacock - confidence 1.00\n",
      "---------------------------------------------\n",
      "original Prediction: hen - confidence 0.95\n"
     ]
    },
    {
     "data": {
      "application/vnd.jupyter.widget-view+json": {
       "model_id": "7b8bf9581da2478491c0254eb13a95e8",
       "version_major": 2,
       "version_minor": 0
      },
      "text/plain": [
       "PGD - Random Initializations:   0%|          | 0/1 [00:00<?, ?it/s]"
      ]
     },
     "metadata": {},
     "output_type": "display_data"
    },
    {
     "data": {
      "application/vnd.jupyter.widget-view+json": {
       "model_id": "",
       "version_major": 2,
       "version_minor": 0
      },
      "text/plain": [
       "PGD - Iterations:   0%|          | 0/50 [00:00<?, ?it/s]"
      ]
     },
     "metadata": {},
     "output_type": "display_data"
    },
    {
     "name": "stdout",
     "output_type": "stream",
     "text": [
      "Prediction after pert: Indian elephant, Elephas maximus - confidence 1.00\n",
      "---------------------------------------------\n",
      "Prediction of adversarial sample after spatial deffense: Indian elephant, Elephas maximus - confidence 1.00\n",
      "---------------------------------------------\n",
      "original Prediction: hen - confidence 0.57\n"
     ]
    },
    {
     "data": {
      "application/vnd.jupyter.widget-view+json": {
       "model_id": "8d75c2a15029495197ab71846cc7f4a8",
       "version_major": 2,
       "version_minor": 0
      },
      "text/plain": [
       "PGD - Random Initializations:   0%|          | 0/1 [00:00<?, ?it/s]"
      ]
     },
     "metadata": {},
     "output_type": "display_data"
    },
    {
     "data": {
      "application/vnd.jupyter.widget-view+json": {
       "model_id": "",
       "version_major": 2,
       "version_minor": 0
      },
      "text/plain": [
       "PGD - Iterations:   0%|          | 0/50 [00:00<?, ?it/s]"
      ]
     },
     "metadata": {},
     "output_type": "display_data"
    },
    {
     "name": "stdout",
     "output_type": "stream",
     "text": [
      "Prediction after pert: cock - confidence 1.00\n",
      "---------------------------------------------\n",
      "Prediction of adversarial sample after spatial deffense: cock - confidence 1.00\n",
      "---------------------------------------------\n",
      "original Prediction: whippet - confidence 0.24\n"
     ]
    },
    {
     "data": {
      "application/vnd.jupyter.widget-view+json": {
       "model_id": "0e430ba13d4142fa9e8afbd8b5e98d3c",
       "version_major": 2,
       "version_minor": 0
      },
      "text/plain": [
       "PGD - Random Initializations:   0%|          | 0/1 [00:00<?, ?it/s]"
      ]
     },
     "metadata": {},
     "output_type": "display_data"
    },
    {
     "data": {
      "application/vnd.jupyter.widget-view+json": {
       "model_id": "",
       "version_major": 2,
       "version_minor": 0
      },
      "text/plain": [
       "PGD - Iterations:   0%|          | 0/50 [00:00<?, ?it/s]"
      ]
     },
     "metadata": {},
     "output_type": "display_data"
    },
    {
     "name": "stdout",
     "output_type": "stream",
     "text": [
      "Prediction after pert: hen - confidence 1.00\n",
      "---------------------------------------------\n",
      "Prediction of adversarial sample after spatial deffense: hen - confidence 1.00\n",
      "correctly classified after deffense\n",
      "---------------------------------------------\n",
      "original Prediction: ostrich, Struthio camelus - confidence 1.00\n"
     ]
    },
    {
     "data": {
      "application/vnd.jupyter.widget-view+json": {
       "model_id": "0e6773db1d0f40118eadd730333aad42",
       "version_major": 2,
       "version_minor": 0
      },
      "text/plain": [
       "PGD - Random Initializations:   0%|          | 0/1 [00:00<?, ?it/s]"
      ]
     },
     "metadata": {},
     "output_type": "display_data"
    },
    {
     "data": {
      "application/vnd.jupyter.widget-view+json": {
       "model_id": "",
       "version_major": 2,
       "version_minor": 0
      },
      "text/plain": [
       "PGD - Iterations:   0%|          | 0/50 [00:00<?, ?it/s]"
      ]
     },
     "metadata": {},
     "output_type": "display_data"
    },
    {
     "name": "stdout",
     "output_type": "stream",
     "text": [
      "Prediction after pert: miniature poodle - confidence 1.00\n",
      "---------------------------------------------\n",
      "Prediction of adversarial sample after spatial deffense: miniature poodle - confidence 0.84\n",
      "---------------------------------------------\n",
      "original Prediction: ostrich, Struthio camelus - confidence 0.99\n"
     ]
    },
    {
     "data": {
      "application/vnd.jupyter.widget-view+json": {
       "model_id": "e2f50b879b474ae1a35d563b9e3fd531",
       "version_major": 2,
       "version_minor": 0
      },
      "text/plain": [
       "PGD - Random Initializations:   0%|          | 0/1 [00:00<?, ?it/s]"
      ]
     },
     "metadata": {},
     "output_type": "display_data"
    },
    {
     "data": {
      "application/vnd.jupyter.widget-view+json": {
       "model_id": "",
       "version_major": 2,
       "version_minor": 0
      },
      "text/plain": [
       "PGD - Iterations:   0%|          | 0/50 [00:00<?, ?it/s]"
      ]
     },
     "metadata": {},
     "output_type": "display_data"
    },
    {
     "name": "stdout",
     "output_type": "stream",
     "text": [
      "Prediction after pert: African crocodile, Nile crocodile, Crocodylus niloticus - confidence 1.00\n",
      "---------------------------------------------\n",
      "Prediction of adversarial sample after spatial deffense: African crocodile, Nile crocodile, Crocodylus niloticus - confidence 1.00\n",
      "---------------------------------------------\n",
      "original Prediction: ostrich, Struthio camelus - confidence 1.00\n"
     ]
    },
    {
     "data": {
      "application/vnd.jupyter.widget-view+json": {
       "model_id": "03c2a1d3e91f4ecc97aa44dc334f821c",
       "version_major": 2,
       "version_minor": 0
      },
      "text/plain": [
       "PGD - Random Initializations:   0%|          | 0/1 [00:00<?, ?it/s]"
      ]
     },
     "metadata": {},
     "output_type": "display_data"
    },
    {
     "data": {
      "application/vnd.jupyter.widget-view+json": {
       "model_id": "",
       "version_major": 2,
       "version_minor": 0
      },
      "text/plain": [
       "PGD - Iterations:   0%|          | 0/50 [00:00<?, ?it/s]"
      ]
     },
     "metadata": {},
     "output_type": "display_data"
    },
    {
     "name": "stdout",
     "output_type": "stream",
     "text": [
      "Prediction after pert: bustard - confidence 1.00\n",
      "---------------------------------------------\n",
      "Prediction of adversarial sample after spatial deffense: bustard - confidence 1.00\n",
      "---------------------------------------------\n",
      "original Prediction: ostrich, Struthio camelus - confidence 0.78\n"
     ]
    },
    {
     "data": {
      "application/vnd.jupyter.widget-view+json": {
       "model_id": "5d695cdbde1343eb9e4bbd5592d7bfb9",
       "version_major": 2,
       "version_minor": 0
      },
      "text/plain": [
       "PGD - Random Initializations:   0%|          | 0/1 [00:00<?, ?it/s]"
      ]
     },
     "metadata": {},
     "output_type": "display_data"
    },
    {
     "data": {
      "application/vnd.jupyter.widget-view+json": {
       "model_id": "",
       "version_major": 2,
       "version_minor": 0
      },
      "text/plain": [
       "PGD - Iterations:   0%|          | 0/50 [00:00<?, ?it/s]"
      ]
     },
     "metadata": {},
     "output_type": "display_data"
    },
    {
     "name": "stdout",
     "output_type": "stream",
     "text": [
      "Prediction after pert: jackfruit, jak, jack - confidence 1.00\n",
      "---------------------------------------------\n",
      "Prediction of adversarial sample after spatial deffense: jackfruit, jak, jack - confidence 1.00\n",
      "---------------------------------------------\n",
      "original Prediction: ostrich, Struthio camelus - confidence 0.61\n"
     ]
    },
    {
     "data": {
      "application/vnd.jupyter.widget-view+json": {
       "model_id": "ede97e5114a74927a4e00c9c00d7b5ba",
       "version_major": 2,
       "version_minor": 0
      },
      "text/plain": [
       "PGD - Random Initializations:   0%|          | 0/1 [00:00<?, ?it/s]"
      ]
     },
     "metadata": {},
     "output_type": "display_data"
    },
    {
     "data": {
      "application/vnd.jupyter.widget-view+json": {
       "model_id": "",
       "version_major": 2,
       "version_minor": 0
      },
      "text/plain": [
       "PGD - Iterations:   0%|          | 0/50 [00:00<?, ?it/s]"
      ]
     },
     "metadata": {},
     "output_type": "display_data"
    },
    {
     "name": "stdout",
     "output_type": "stream",
     "text": [
      "Prediction after pert: ram, tup - confidence 0.50\n",
      "---------------------------------------------\n",
      "Prediction of adversarial sample after spatial deffense: ram, tup - confidence 0.62\n",
      "---------------------------------------------\n",
      "original Prediction: ostrich, Struthio camelus - confidence 1.00\n"
     ]
    },
    {
     "data": {
      "application/vnd.jupyter.widget-view+json": {
       "model_id": "086682134fc7431bae48afb9179f8d2d",
       "version_major": 2,
       "version_minor": 0
      },
      "text/plain": [
       "PGD - Random Initializations:   0%|          | 0/1 [00:00<?, ?it/s]"
      ]
     },
     "metadata": {},
     "output_type": "display_data"
    },
    {
     "data": {
      "application/vnd.jupyter.widget-view+json": {
       "model_id": "",
       "version_major": 2,
       "version_minor": 0
      },
      "text/plain": [
       "PGD - Iterations:   0%|          | 0/50 [00:00<?, ?it/s]"
      ]
     },
     "metadata": {},
     "output_type": "display_data"
    },
    {
     "name": "stdout",
     "output_type": "stream",
     "text": [
      "Prediction after pert: albatross, mollymawk - confidence 1.00\n",
      "---------------------------------------------\n",
      "Prediction of adversarial sample after spatial deffense: albatross, mollymawk - confidence 1.00\n",
      "---------------------------------------------\n",
      "original Prediction: brambling, Fringilla montifringilla - confidence 0.99\n"
     ]
    },
    {
     "data": {
      "application/vnd.jupyter.widget-view+json": {
       "model_id": "dca9a76c88a048dfad110592a1e3b676",
       "version_major": 2,
       "version_minor": 0
      },
      "text/plain": [
       "PGD - Random Initializations:   0%|          | 0/1 [00:00<?, ?it/s]"
      ]
     },
     "metadata": {},
     "output_type": "display_data"
    },
    {
     "data": {
      "application/vnd.jupyter.widget-view+json": {
       "model_id": "",
       "version_major": 2,
       "version_minor": 0
      },
      "text/plain": [
       "PGD - Iterations:   0%|          | 0/50 [00:00<?, ?it/s]"
      ]
     },
     "metadata": {},
     "output_type": "display_data"
    },
    {
     "name": "stdout",
     "output_type": "stream",
     "text": [
      "Prediction after pert: racket, racquet - confidence 1.00\n",
      "---------------------------------------------\n",
      "Prediction of adversarial sample after spatial deffense: racket, racquet - confidence 1.00\n",
      "---------------------------------------------\n",
      "original Prediction: hummingbird - confidence 0.26\n"
     ]
    },
    {
     "data": {
      "application/vnd.jupyter.widget-view+json": {
       "model_id": "0005077a66c2457593f020532eac59ad",
       "version_major": 2,
       "version_minor": 0
      },
      "text/plain": [
       "PGD - Random Initializations:   0%|          | 0/1 [00:00<?, ?it/s]"
      ]
     },
     "metadata": {},
     "output_type": "display_data"
    },
    {
     "data": {
      "application/vnd.jupyter.widget-view+json": {
       "model_id": "",
       "version_major": 2,
       "version_minor": 0
      },
      "text/plain": [
       "PGD - Iterations:   0%|          | 0/50 [00:00<?, ?it/s]"
      ]
     },
     "metadata": {},
     "output_type": "display_data"
    },
    {
     "name": "stdout",
     "output_type": "stream",
     "text": [
      "Prediction after pert: quail - confidence 1.00\n",
      "---------------------------------------------\n",
      "Prediction of adversarial sample after spatial deffense: quail - confidence 1.00\n",
      "---------------------------------------------\n",
      "original Prediction: brambling, Fringilla montifringilla - confidence 0.99\n"
     ]
    },
    {
     "data": {
      "application/vnd.jupyter.widget-view+json": {
       "model_id": "b8700b8fb4cb45279a3df768922cfa3c",
       "version_major": 2,
       "version_minor": 0
      },
      "text/plain": [
       "PGD - Random Initializations:   0%|          | 0/1 [00:00<?, ?it/s]"
      ]
     },
     "metadata": {},
     "output_type": "display_data"
    },
    {
     "data": {
      "application/vnd.jupyter.widget-view+json": {
       "model_id": "",
       "version_major": 2,
       "version_minor": 0
      },
      "text/plain": [
       "PGD - Iterations:   0%|          | 0/50 [00:00<?, ?it/s]"
      ]
     },
     "metadata": {},
     "output_type": "display_data"
    },
    {
     "name": "stdout",
     "output_type": "stream",
     "text": [
      "Prediction after pert: dowitcher - confidence 1.00\n",
      "---------------------------------------------\n",
      "Prediction of adversarial sample after spatial deffense: dowitcher - confidence 1.00\n",
      "---------------------------------------------\n",
      "original Prediction: brambling, Fringilla montifringilla - confidence 1.00\n"
     ]
    },
    {
     "data": {
      "application/vnd.jupyter.widget-view+json": {
       "model_id": "404c6cc9ff7e4c3e8c66fcbea4e5003c",
       "version_major": 2,
       "version_minor": 0
      },
      "text/plain": [
       "PGD - Random Initializations:   0%|          | 0/1 [00:00<?, ?it/s]"
      ]
     },
     "metadata": {},
     "output_type": "display_data"
    },
    {
     "data": {
      "application/vnd.jupyter.widget-view+json": {
       "model_id": "",
       "version_major": 2,
       "version_minor": 0
      },
      "text/plain": [
       "PGD - Iterations:   0%|          | 0/50 [00:00<?, ?it/s]"
      ]
     },
     "metadata": {},
     "output_type": "display_data"
    },
    {
     "name": "stdout",
     "output_type": "stream",
     "text": [
      "Prediction after pert: robin, American robin, Turdus migratorius - confidence 1.00\n",
      "---------------------------------------------\n",
      "Prediction of adversarial sample after spatial deffense: robin, American robin, Turdus migratorius - confidence 1.00\n",
      "---------------------------------------------\n",
      "original Prediction: brambling, Fringilla montifringilla - confidence 1.00\n"
     ]
    },
    {
     "data": {
      "application/vnd.jupyter.widget-view+json": {
       "model_id": "5eccdd9f1dd840e1bb4c43673f39a817",
       "version_major": 2,
       "version_minor": 0
      },
      "text/plain": [
       "PGD - Random Initializations:   0%|          | 0/1 [00:00<?, ?it/s]"
      ]
     },
     "metadata": {},
     "output_type": "display_data"
    },
    {
     "data": {
      "application/vnd.jupyter.widget-view+json": {
       "model_id": "",
       "version_major": 2,
       "version_minor": 0
      },
      "text/plain": [
       "PGD - Iterations:   0%|          | 0/50 [00:00<?, ?it/s]"
      ]
     },
     "metadata": {},
     "output_type": "display_data"
    },
    {
     "name": "stdout",
     "output_type": "stream",
     "text": [
      "Prediction after pert: space shuttle - confidence 1.00\n",
      "---------------------------------------------\n",
      "Prediction of adversarial sample after spatial deffense: space shuttle - confidence 1.00\n",
      "---------------------------------------------\n",
      "original Prediction: brambling, Fringilla montifringilla - confidence 1.00\n"
     ]
    },
    {
     "data": {
      "application/vnd.jupyter.widget-view+json": {
       "model_id": "c2de8e18e460486e9ffcfdf555cd720c",
       "version_major": 2,
       "version_minor": 0
      },
      "text/plain": [
       "PGD - Random Initializations:   0%|          | 0/1 [00:00<?, ?it/s]"
      ]
     },
     "metadata": {},
     "output_type": "display_data"
    },
    {
     "data": {
      "application/vnd.jupyter.widget-view+json": {
       "model_id": "",
       "version_major": 2,
       "version_minor": 0
      },
      "text/plain": [
       "PGD - Iterations:   0%|          | 0/50 [00:00<?, ?it/s]"
      ]
     },
     "metadata": {},
     "output_type": "display_data"
    },
    {
     "name": "stdout",
     "output_type": "stream",
     "text": [
      "Prediction after pert: bald eagle, American eagle, Haliaeetus leucocephalus - confidence 1.00\n",
      "---------------------------------------------\n",
      "Prediction of adversarial sample after spatial deffense: bald eagle, American eagle, Haliaeetus leucocephalus - confidence 1.00\n",
      "---------------------------------------------\n",
      "original Prediction: goldfinch, Carduelis carduelis - confidence 0.83\n"
     ]
    },
    {
     "data": {
      "application/vnd.jupyter.widget-view+json": {
       "model_id": "ea818fb188eb4564992ad795b562a464",
       "version_major": 2,
       "version_minor": 0
      },
      "text/plain": [
       "PGD - Random Initializations:   0%|          | 0/1 [00:00<?, ?it/s]"
      ]
     },
     "metadata": {},
     "output_type": "display_data"
    },
    {
     "data": {
      "application/vnd.jupyter.widget-view+json": {
       "model_id": "",
       "version_major": 2,
       "version_minor": 0
      },
      "text/plain": [
       "PGD - Iterations:   0%|          | 0/50 [00:00<?, ?it/s]"
      ]
     },
     "metadata": {},
     "output_type": "display_data"
    },
    {
     "name": "stdout",
     "output_type": "stream",
     "text": [
      "Prediction after pert: crane - confidence 1.00\n",
      "---------------------------------------------\n",
      "Prediction of adversarial sample after spatial deffense: crane - confidence 1.00\n",
      "---------------------------------------------\n",
      "original Prediction: bee eater - confidence 0.55\n"
     ]
    },
    {
     "data": {
      "application/vnd.jupyter.widget-view+json": {
       "model_id": "c7eb3970fc004b08ad5da656c3805692",
       "version_major": 2,
       "version_minor": 0
      },
      "text/plain": [
       "PGD - Random Initializations:   0%|          | 0/1 [00:00<?, ?it/s]"
      ]
     },
     "metadata": {},
     "output_type": "display_data"
    },
    {
     "data": {
      "application/vnd.jupyter.widget-view+json": {
       "model_id": "",
       "version_major": 2,
       "version_minor": 0
      },
      "text/plain": [
       "PGD - Iterations:   0%|          | 0/50 [00:00<?, ?it/s]"
      ]
     },
     "metadata": {},
     "output_type": "display_data"
    },
    {
     "name": "stdout",
     "output_type": "stream",
     "text": [
      "Prediction after pert: goldfinch, Carduelis carduelis - confidence 1.00\n",
      "---------------------------------------------\n",
      "Prediction of adversarial sample after spatial deffense: goldfinch, Carduelis carduelis - confidence 1.00\n",
      "---------------------------------------------\n",
      "original Prediction: worm fence, snake fence, snake-rail fence, Virginia fence - confidence 0.18\n"
     ]
    },
    {
     "data": {
      "application/vnd.jupyter.widget-view+json": {
       "model_id": "33e29df6348e41a5b04982aa3eed56ae",
       "version_major": 2,
       "version_minor": 0
      },
      "text/plain": [
       "PGD - Random Initializations:   0%|          | 0/1 [00:00<?, ?it/s]"
      ]
     },
     "metadata": {},
     "output_type": "display_data"
    },
    {
     "data": {
      "application/vnd.jupyter.widget-view+json": {
       "model_id": "",
       "version_major": 2,
       "version_minor": 0
      },
      "text/plain": [
       "PGD - Iterations:   0%|          | 0/50 [00:00<?, ?it/s]"
      ]
     },
     "metadata": {},
     "output_type": "display_data"
    },
    {
     "name": "stdout",
     "output_type": "stream",
     "text": [
      "Prediction after pert: purse - confidence 1.00\n",
      "---------------------------------------------\n",
      "Prediction of adversarial sample after spatial deffense: purse - confidence 1.00\n",
      "---------------------------------------------\n",
      "original Prediction: goldfinch, Carduelis carduelis - confidence 1.00\n"
     ]
    },
    {
     "data": {
      "application/vnd.jupyter.widget-view+json": {
       "model_id": "f09157d677214ef683a20781e050dc84",
       "version_major": 2,
       "version_minor": 0
      },
      "text/plain": [
       "PGD - Random Initializations:   0%|          | 0/1 [00:00<?, ?it/s]"
      ]
     },
     "metadata": {},
     "output_type": "display_data"
    },
    {
     "data": {
      "application/vnd.jupyter.widget-view+json": {
       "model_id": "",
       "version_major": 2,
       "version_minor": 0
      },
      "text/plain": [
       "PGD - Iterations:   0%|          | 0/50 [00:00<?, ?it/s]"
      ]
     },
     "metadata": {},
     "output_type": "display_data"
    },
    {
     "name": "stdout",
     "output_type": "stream",
     "text": [
      "Prediction after pert: bulbul - confidence 1.00\n",
      "---------------------------------------------\n",
      "Prediction of adversarial sample after spatial deffense: bulbul - confidence 1.00\n",
      "---------------------------------------------\n",
      "original Prediction: goldfinch, Carduelis carduelis - confidence 1.00\n"
     ]
    },
    {
     "data": {
      "application/vnd.jupyter.widget-view+json": {
       "model_id": "ead9011d4a0c4d1d9067a821a8766f48",
       "version_major": 2,
       "version_minor": 0
      },
      "text/plain": [
       "PGD - Random Initializations:   0%|          | 0/1 [00:00<?, ?it/s]"
      ]
     },
     "metadata": {},
     "output_type": "display_data"
    },
    {
     "data": {
      "application/vnd.jupyter.widget-view+json": {
       "model_id": "",
       "version_major": 2,
       "version_minor": 0
      },
      "text/plain": [
       "PGD - Iterations:   0%|          | 0/50 [00:00<?, ?it/s]"
      ]
     },
     "metadata": {},
     "output_type": "display_data"
    },
    {
     "name": "stdout",
     "output_type": "stream",
     "text": [
      "Prediction after pert: bee eater - confidence 1.00\n",
      "---------------------------------------------\n",
      "Prediction of adversarial sample after spatial deffense: bee eater - confidence 1.00\n",
      "---------------------------------------------\n",
      "original Prediction: goldfinch, Carduelis carduelis - confidence 0.80\n"
     ]
    },
    {
     "data": {
      "application/vnd.jupyter.widget-view+json": {
       "model_id": "214f4baf21fd4558aac6bf5d15f7c886",
       "version_major": 2,
       "version_minor": 0
      },
      "text/plain": [
       "PGD - Random Initializations:   0%|          | 0/1 [00:00<?, ?it/s]"
      ]
     },
     "metadata": {},
     "output_type": "display_data"
    },
    {
     "data": {
      "application/vnd.jupyter.widget-view+json": {
       "model_id": "",
       "version_major": 2,
       "version_minor": 0
      },
      "text/plain": [
       "PGD - Iterations:   0%|          | 0/50 [00:00<?, ?it/s]"
      ]
     },
     "metadata": {},
     "output_type": "display_data"
    },
    {
     "name": "stdout",
     "output_type": "stream",
     "text": [
      "Prediction after pert: brambling, Fringilla montifringilla - confidence 1.00\n",
      "---------------------------------------------\n",
      "Prediction of adversarial sample after spatial deffense: brambling, Fringilla montifringilla - confidence 1.00\n",
      "---------------------------------------------\n",
      "original Prediction: house finch, linnet, Carpodacus mexicanus - confidence 0.85\n"
     ]
    },
    {
     "data": {
      "application/vnd.jupyter.widget-view+json": {
       "model_id": "53c3599e1e8b4f40bad3ebd220d366ea",
       "version_major": 2,
       "version_minor": 0
      },
      "text/plain": [
       "PGD - Random Initializations:   0%|          | 0/1 [00:00<?, ?it/s]"
      ]
     },
     "metadata": {},
     "output_type": "display_data"
    },
    {
     "data": {
      "application/vnd.jupyter.widget-view+json": {
       "model_id": "",
       "version_major": 2,
       "version_minor": 0
      },
      "text/plain": [
       "PGD - Iterations:   0%|          | 0/50 [00:00<?, ?it/s]"
      ]
     },
     "metadata": {},
     "output_type": "display_data"
    },
    {
     "name": "stdout",
     "output_type": "stream",
     "text": [
      "Prediction after pert: brambling, Fringilla montifringilla - confidence 1.00\n",
      "---------------------------------------------\n",
      "Prediction of adversarial sample after spatial deffense: brambling, Fringilla montifringilla - confidence 1.00\n",
      "---------------------------------------------\n",
      "original Prediction: house finch, linnet, Carpodacus mexicanus - confidence 0.96\n"
     ]
    },
    {
     "data": {
      "application/vnd.jupyter.widget-view+json": {
       "model_id": "9e32dd455eb343b8b7b2328180be67e0",
       "version_major": 2,
       "version_minor": 0
      },
      "text/plain": [
       "PGD - Random Initializations:   0%|          | 0/1 [00:00<?, ?it/s]"
      ]
     },
     "metadata": {},
     "output_type": "display_data"
    },
    {
     "data": {
      "application/vnd.jupyter.widget-view+json": {
       "model_id": "",
       "version_major": 2,
       "version_minor": 0
      },
      "text/plain": [
       "PGD - Iterations:   0%|          | 0/50 [00:00<?, ?it/s]"
      ]
     },
     "metadata": {},
     "output_type": "display_data"
    },
    {
     "name": "stdout",
     "output_type": "stream",
     "text": [
      "Prediction after pert: bath towel - confidence 1.00\n",
      "---------------------------------------------\n",
      "Prediction of adversarial sample after spatial deffense: bath towel - confidence 1.00\n",
      "---------------------------------------------\n",
      "original Prediction: great grey owl, great gray owl, Strix nebulosa - confidence 0.31\n"
     ]
    },
    {
     "data": {
      "application/vnd.jupyter.widget-view+json": {
       "model_id": "4b048187a4fe4382a01a1f3df35bdb79",
       "version_major": 2,
       "version_minor": 0
      },
      "text/plain": [
       "PGD - Random Initializations:   0%|          | 0/1 [00:00<?, ?it/s]"
      ]
     },
     "metadata": {},
     "output_type": "display_data"
    },
    {
     "data": {
      "application/vnd.jupyter.widget-view+json": {
       "model_id": "",
       "version_major": 2,
       "version_minor": 0
      },
      "text/plain": [
       "PGD - Iterations:   0%|          | 0/50 [00:00<?, ?it/s]"
      ]
     },
     "metadata": {},
     "output_type": "display_data"
    },
    {
     "name": "stdout",
     "output_type": "stream",
     "text": [
      "Prediction after pert: house finch, linnet, Carpodacus mexicanus - confidence 1.00\n",
      "---------------------------------------------\n",
      "Prediction of adversarial sample after spatial deffense: house finch, linnet, Carpodacus mexicanus - confidence 1.00\n",
      "---------------------------------------------\n",
      "original Prediction: house finch, linnet, Carpodacus mexicanus - confidence 1.00\n"
     ]
    },
    {
     "data": {
      "application/vnd.jupyter.widget-view+json": {
       "model_id": "2ba877c94ca74fdfbfd11c6d2083309e",
       "version_major": 2,
       "version_minor": 0
      },
      "text/plain": [
       "PGD - Random Initializations:   0%|          | 0/1 [00:00<?, ?it/s]"
      ]
     },
     "metadata": {},
     "output_type": "display_data"
    },
    {
     "data": {
      "application/vnd.jupyter.widget-view+json": {
       "model_id": "",
       "version_major": 2,
       "version_minor": 0
      },
      "text/plain": [
       "PGD - Iterations:   0%|          | 0/50 [00:00<?, ?it/s]"
      ]
     },
     "metadata": {},
     "output_type": "display_data"
    },
    {
     "name": "stdout",
     "output_type": "stream",
     "text": [
      "Prediction after pert: bee eater - confidence 1.00\n",
      "---------------------------------------------\n",
      "Prediction of adversarial sample after spatial deffense: bee eater - confidence 1.00\n",
      "---------------------------------------------\n",
      "original Prediction: house finch, linnet, Carpodacus mexicanus - confidence 0.99\n"
     ]
    },
    {
     "data": {
      "application/vnd.jupyter.widget-view+json": {
       "model_id": "1d5331c7362548f3bef67c97df766f31",
       "version_major": 2,
       "version_minor": 0
      },
      "text/plain": [
       "PGD - Random Initializations:   0%|          | 0/1 [00:00<?, ?it/s]"
      ]
     },
     "metadata": {},
     "output_type": "display_data"
    },
    {
     "data": {
      "application/vnd.jupyter.widget-view+json": {
       "model_id": "",
       "version_major": 2,
       "version_minor": 0
      },
      "text/plain": [
       "PGD - Iterations:   0%|          | 0/50 [00:00<?, ?it/s]"
      ]
     },
     "metadata": {},
     "output_type": "display_data"
    },
    {
     "name": "stdout",
     "output_type": "stream",
     "text": [
      "Prediction after pert: water ouzel, dipper - confidence 1.00\n",
      "---------------------------------------------\n",
      "Prediction of adversarial sample after spatial deffense: water ouzel, dipper - confidence 1.00\n",
      "---------------------------------------------\n",
      "original Prediction: house finch, linnet, Carpodacus mexicanus - confidence 1.00\n"
     ]
    },
    {
     "data": {
      "application/vnd.jupyter.widget-view+json": {
       "model_id": "be1565192ce84444a54d4ee7f457875e",
       "version_major": 2,
       "version_minor": 0
      },
      "text/plain": [
       "PGD - Random Initializations:   0%|          | 0/1 [00:00<?, ?it/s]"
      ]
     },
     "metadata": {},
     "output_type": "display_data"
    },
    {
     "data": {
      "application/vnd.jupyter.widget-view+json": {
       "model_id": "",
       "version_major": 2,
       "version_minor": 0
      },
      "text/plain": [
       "PGD - Iterations:   0%|          | 0/50 [00:00<?, ?it/s]"
      ]
     },
     "metadata": {},
     "output_type": "display_data"
    },
    {
     "name": "stdout",
     "output_type": "stream",
     "text": [
      "Prediction after pert: goldfinch, Carduelis carduelis - confidence 1.00\n",
      "---------------------------------------------\n",
      "Prediction of adversarial sample after spatial deffense: goldfinch, Carduelis carduelis - confidence 1.00\n",
      "---------------------------------------------\n",
      "original Prediction: junco, snowbird - confidence 0.98\n"
     ]
    },
    {
     "data": {
      "application/vnd.jupyter.widget-view+json": {
       "model_id": "85457337a66048ccaea963ba341221a0",
       "version_major": 2,
       "version_minor": 0
      },
      "text/plain": [
       "PGD - Random Initializations:   0%|          | 0/1 [00:00<?, ?it/s]"
      ]
     },
     "metadata": {},
     "output_type": "display_data"
    },
    {
     "data": {
      "application/vnd.jupyter.widget-view+json": {
       "model_id": "",
       "version_major": 2,
       "version_minor": 0
      },
      "text/plain": [
       "PGD - Iterations:   0%|          | 0/50 [00:00<?, ?it/s]"
      ]
     },
     "metadata": {},
     "output_type": "display_data"
    },
    {
     "name": "stdout",
     "output_type": "stream",
     "text": [
      "Prediction after pert: brambling, Fringilla montifringilla - confidence 1.00\n",
      "---------------------------------------------\n",
      "Prediction of adversarial sample after spatial deffense: brambling, Fringilla montifringilla - confidence 1.00\n",
      "---------------------------------------------\n",
      "original Prediction: junco, snowbird - confidence 0.98\n"
     ]
    },
    {
     "data": {
      "application/vnd.jupyter.widget-view+json": {
       "model_id": "2c661e3bad1f40f99f0a0904cb5aff1c",
       "version_major": 2,
       "version_minor": 0
      },
      "text/plain": [
       "PGD - Random Initializations:   0%|          | 0/1 [00:00<?, ?it/s]"
      ]
     },
     "metadata": {},
     "output_type": "display_data"
    },
    {
     "data": {
      "application/vnd.jupyter.widget-view+json": {
       "model_id": "",
       "version_major": 2,
       "version_minor": 0
      },
      "text/plain": [
       "PGD - Iterations:   0%|          | 0/50 [00:00<?, ?it/s]"
      ]
     },
     "metadata": {},
     "output_type": "display_data"
    },
    {
     "name": "stdout",
     "output_type": "stream",
     "text": [
      "Prediction after pert: three-toed sloth, ai, Bradypus tridactylus - confidence 1.00\n",
      "---------------------------------------------\n",
      "Prediction of adversarial sample after spatial deffense: three-toed sloth, ai, Bradypus tridactylus - confidence 1.00\n",
      "---------------------------------------------\n",
      "original Prediction: marmot - confidence 0.39\n"
     ]
    },
    {
     "data": {
      "application/vnd.jupyter.widget-view+json": {
       "model_id": "0100fe2ea0114a1a87ac77e9ef99cbc4",
       "version_major": 2,
       "version_minor": 0
      },
      "text/plain": [
       "PGD - Random Initializations:   0%|          | 0/1 [00:00<?, ?it/s]"
      ]
     },
     "metadata": {},
     "output_type": "display_data"
    },
    {
     "data": {
      "application/vnd.jupyter.widget-view+json": {
       "model_id": "",
       "version_major": 2,
       "version_minor": 0
      },
      "text/plain": [
       "PGD - Iterations:   0%|          | 0/50 [00:00<?, ?it/s]"
      ]
     },
     "metadata": {},
     "output_type": "display_data"
    },
    {
     "name": "stdout",
     "output_type": "stream",
     "text": [
      "Prediction after pert: junco, snowbird - confidence 1.00\n",
      "---------------------------------------------\n",
      "Prediction of adversarial sample after spatial deffense: junco, snowbird - confidence 1.00\n",
      "---------------------------------------------\n",
      "original Prediction: quail - confidence 0.43\n"
     ]
    },
    {
     "data": {
      "application/vnd.jupyter.widget-view+json": {
       "model_id": "1468cb6d18e04e42a4d05dc3523cf20f",
       "version_major": 2,
       "version_minor": 0
      },
      "text/plain": [
       "PGD - Random Initializations:   0%|          | 0/1 [00:00<?, ?it/s]"
      ]
     },
     "metadata": {},
     "output_type": "display_data"
    },
    {
     "data": {
      "application/vnd.jupyter.widget-view+json": {
       "model_id": "",
       "version_major": 2,
       "version_minor": 0
      },
      "text/plain": [
       "PGD - Iterations:   0%|          | 0/50 [00:00<?, ?it/s]"
      ]
     },
     "metadata": {},
     "output_type": "display_data"
    },
    {
     "name": "stdout",
     "output_type": "stream",
     "text": [
      "Prediction after pert: junco, snowbird - confidence 1.00\n",
      "---------------------------------------------\n",
      "Prediction of adversarial sample after spatial deffense: junco, snowbird - confidence 1.00\n",
      "---------------------------------------------\n",
      "original Prediction: junco, snowbird - confidence 1.00\n"
     ]
    },
    {
     "data": {
      "application/vnd.jupyter.widget-view+json": {
       "model_id": "238f82fe1d7147f8824f3402d195ae14",
       "version_major": 2,
       "version_minor": 0
      },
      "text/plain": [
       "PGD - Random Initializations:   0%|          | 0/1 [00:00<?, ?it/s]"
      ]
     },
     "metadata": {},
     "output_type": "display_data"
    },
    {
     "data": {
      "application/vnd.jupyter.widget-view+json": {
       "model_id": "",
       "version_major": 2,
       "version_minor": 0
      },
      "text/plain": [
       "PGD - Iterations:   0%|          | 0/50 [00:00<?, ?it/s]"
      ]
     },
     "metadata": {},
     "output_type": "display_data"
    },
    {
     "name": "stdout",
     "output_type": "stream",
     "text": [
      "Prediction after pert: dragonfly, darning needle, devil's darning needle, sewing needle, snake feeder, snake doctor, mosquito hawk, skeeter hawk - confidence 1.00\n",
      "---------------------------------------------\n",
      "Prediction of adversarial sample after spatial deffense: dragonfly, darning needle, devil's darning needle, sewing needle, snake feeder, snake doctor, mosquito hawk, skeeter hawk - confidence 0.99\n",
      "---------------------------------------------\n",
      "original Prediction: junco, snowbird - confidence 0.79\n"
     ]
    },
    {
     "data": {
      "application/vnd.jupyter.widget-view+json": {
       "model_id": "7715c1b2704e456189c45adffb44cdef",
       "version_major": 2,
       "version_minor": 0
      },
      "text/plain": [
       "PGD - Random Initializations:   0%|          | 0/1 [00:00<?, ?it/s]"
      ]
     },
     "metadata": {},
     "output_type": "display_data"
    },
    {
     "data": {
      "application/vnd.jupyter.widget-view+json": {
       "model_id": "",
       "version_major": 2,
       "version_minor": 0
      },
      "text/plain": [
       "PGD - Iterations:   0%|          | 0/50 [00:00<?, ?it/s]"
      ]
     },
     "metadata": {},
     "output_type": "display_data"
    },
    {
     "name": "stdout",
     "output_type": "stream",
     "text": [
      "Prediction after pert: red-backed sandpiper, dunlin, Erolia alpina - confidence 1.00\n",
      "---------------------------------------------\n",
      "Prediction of adversarial sample after spatial deffense: red-backed sandpiper, dunlin, Erolia alpina - confidence 1.00\n",
      "---------------------------------------------\n",
      "original Prediction: bald eagle, American eagle, Haliaeetus leucocephalus - confidence 0.09\n"
     ]
    },
    {
     "data": {
      "application/vnd.jupyter.widget-view+json": {
       "model_id": "b0eb386b37c24d40ade051ac1ab65992",
       "version_major": 2,
       "version_minor": 0
      },
      "text/plain": [
       "PGD - Random Initializations:   0%|          | 0/1 [00:00<?, ?it/s]"
      ]
     },
     "metadata": {},
     "output_type": "display_data"
    },
    {
     "data": {
      "application/vnd.jupyter.widget-view+json": {
       "model_id": "",
       "version_major": 2,
       "version_minor": 0
      },
      "text/plain": [
       "PGD - Iterations:   0%|          | 0/50 [00:00<?, ?it/s]"
      ]
     },
     "metadata": {},
     "output_type": "display_data"
    },
    {
     "name": "stdout",
     "output_type": "stream",
     "text": [
      "Prediction after pert: handkerchief, hankie, hanky, hankey - confidence 1.00\n",
      "---------------------------------------------\n",
      "Prediction of adversarial sample after spatial deffense: handkerchief, hankie, hanky, hankey - confidence 1.00\n",
      "---------------------------------------------\n",
      "original Prediction: indigo bunting, indigo finch, indigo bird, Passerina cyanea - confidence 0.99\n"
     ]
    },
    {
     "data": {
      "application/vnd.jupyter.widget-view+json": {
       "model_id": "ad7161e00a914f13869378cd5230445e",
       "version_major": 2,
       "version_minor": 0
      },
      "text/plain": [
       "PGD - Random Initializations:   0%|          | 0/1 [00:00<?, ?it/s]"
      ]
     },
     "metadata": {},
     "output_type": "display_data"
    },
    {
     "data": {
      "application/vnd.jupyter.widget-view+json": {
       "model_id": "",
       "version_major": 2,
       "version_minor": 0
      },
      "text/plain": [
       "PGD - Iterations:   0%|          | 0/50 [00:00<?, ?it/s]"
      ]
     },
     "metadata": {},
     "output_type": "display_data"
    },
    {
     "name": "stdout",
     "output_type": "stream",
     "text": [
      "Prediction after pert: jacamar - confidence 1.00\n",
      "---------------------------------------------\n",
      "Prediction of adversarial sample after spatial deffense: jacamar - confidence 1.00\n",
      "---------------------------------------------\n",
      "original Prediction: indigo bunting, indigo finch, indigo bird, Passerina cyanea - confidence 1.00\n"
     ]
    },
    {
     "data": {
      "application/vnd.jupyter.widget-view+json": {
       "model_id": "27bc305ccee54726acb34ae9e9c61f01",
       "version_major": 2,
       "version_minor": 0
      },
      "text/plain": [
       "PGD - Random Initializations:   0%|          | 0/1 [00:00<?, ?it/s]"
      ]
     },
     "metadata": {},
     "output_type": "display_data"
    },
    {
     "data": {
      "application/vnd.jupyter.widget-view+json": {
       "model_id": "",
       "version_major": 2,
       "version_minor": 0
      },
      "text/plain": [
       "PGD - Iterations:   0%|          | 0/50 [00:00<?, ?it/s]"
      ]
     },
     "metadata": {},
     "output_type": "display_data"
    },
    {
     "name": "stdout",
     "output_type": "stream",
     "text": [
      "Prediction after pert: hummingbird - confidence 1.00\n",
      "---------------------------------------------\n",
      "Prediction of adversarial sample after spatial deffense: hummingbird - confidence 1.00\n",
      "---------------------------------------------\n",
      "original Prediction: indigo bunting, indigo finch, indigo bird, Passerina cyanea - confidence 0.98\n"
     ]
    },
    {
     "data": {
      "application/vnd.jupyter.widget-view+json": {
       "model_id": "b95be4f20eae41589a34a9b166c3bc1e",
       "version_major": 2,
       "version_minor": 0
      },
      "text/plain": [
       "PGD - Random Initializations:   0%|          | 0/1 [00:00<?, ?it/s]"
      ]
     },
     "metadata": {},
     "output_type": "display_data"
    },
    {
     "data": {
      "application/vnd.jupyter.widget-view+json": {
       "model_id": "",
       "version_major": 2,
       "version_minor": 0
      },
      "text/plain": [
       "PGD - Iterations:   0%|          | 0/50 [00:00<?, ?it/s]"
      ]
     },
     "metadata": {},
     "output_type": "display_data"
    },
    {
     "name": "stdout",
     "output_type": "stream",
     "text": [
      "Prediction after pert: indri, indris, Indri indri, Indri brevicaudatus - confidence 0.98\n",
      "---------------------------------------------\n",
      "Prediction of adversarial sample after spatial deffense: indri, indris, Indri indri, Indri brevicaudatus - confidence 0.98\n",
      "---------------------------------------------\n",
      "original Prediction: indigo bunting, indigo finch, indigo bird, Passerina cyanea - confidence 0.98\n"
     ]
    },
    {
     "data": {
      "application/vnd.jupyter.widget-view+json": {
       "model_id": "c1530a0ab8944343b0b5cf1753708ad4",
       "version_major": 2,
       "version_minor": 0
      },
      "text/plain": [
       "PGD - Random Initializations:   0%|          | 0/1 [00:00<?, ?it/s]"
      ]
     },
     "metadata": {},
     "output_type": "display_data"
    },
    {
     "data": {
      "application/vnd.jupyter.widget-view+json": {
       "model_id": "",
       "version_major": 2,
       "version_minor": 0
      },
      "text/plain": [
       "PGD - Iterations:   0%|          | 0/50 [00:00<?, ?it/s]"
      ]
     },
     "metadata": {},
     "output_type": "display_data"
    },
    {
     "name": "stdout",
     "output_type": "stream",
     "text": [
      "Prediction after pert: hummingbird - confidence 1.00\n",
      "---------------------------------------------\n",
      "Prediction of adversarial sample after spatial deffense: hummingbird - confidence 1.00\n",
      "---------------------------------------------\n",
      "original Prediction: indigo bunting, indigo finch, indigo bird, Passerina cyanea - confidence 1.00\n"
     ]
    },
    {
     "data": {
      "application/vnd.jupyter.widget-view+json": {
       "model_id": "38d72c92a55743c4979e64ceaab42d10",
       "version_major": 2,
       "version_minor": 0
      },
      "text/plain": [
       "PGD - Random Initializations:   0%|          | 0/1 [00:00<?, ?it/s]"
      ]
     },
     "metadata": {},
     "output_type": "display_data"
    },
    {
     "data": {
      "application/vnd.jupyter.widget-view+json": {
       "model_id": "",
       "version_major": 2,
       "version_minor": 0
      },
      "text/plain": [
       "PGD - Iterations:   0%|          | 0/50 [00:00<?, ?it/s]"
      ]
     },
     "metadata": {},
     "output_type": "display_data"
    },
    {
     "name": "stdout",
     "output_type": "stream",
     "text": [
      "Prediction after pert: jay - confidence 1.00\n",
      "---------------------------------------------\n",
      "Prediction of adversarial sample after spatial deffense: jay - confidence 1.00\n",
      "---------------------------------------------\n",
      "original Prediction: robin, American robin, Turdus migratorius - confidence 0.70\n"
     ]
    },
    {
     "data": {
      "application/vnd.jupyter.widget-view+json": {
       "model_id": "ea40520342af4ac99f1d90027fe412ea",
       "version_major": 2,
       "version_minor": 0
      },
      "text/plain": [
       "PGD - Random Initializations:   0%|          | 0/1 [00:00<?, ?it/s]"
      ]
     },
     "metadata": {},
     "output_type": "display_data"
    },
    {
     "data": {
      "application/vnd.jupyter.widget-view+json": {
       "model_id": "",
       "version_major": 2,
       "version_minor": 0
      },
      "text/plain": [
       "PGD - Iterations:   0%|          | 0/50 [00:00<?, ?it/s]"
      ]
     },
     "metadata": {},
     "output_type": "display_data"
    },
    {
     "name": "stdout",
     "output_type": "stream",
     "text": [
      "Prediction after pert: brambling, Fringilla montifringilla - confidence 1.00\n",
      "---------------------------------------------\n",
      "Prediction of adversarial sample after spatial deffense: brambling, Fringilla montifringilla - confidence 1.00\n",
      "---------------------------------------------\n",
      "original Prediction: robin, American robin, Turdus migratorius - confidence 0.95\n"
     ]
    },
    {
     "data": {
      "application/vnd.jupyter.widget-view+json": {
       "model_id": "62a97494b7724977952bef7da32ef499",
       "version_major": 2,
       "version_minor": 0
      },
      "text/plain": [
       "PGD - Random Initializations:   0%|          | 0/1 [00:00<?, ?it/s]"
      ]
     },
     "metadata": {},
     "output_type": "display_data"
    },
    {
     "data": {
      "application/vnd.jupyter.widget-view+json": {
       "model_id": "",
       "version_major": 2,
       "version_minor": 0
      },
      "text/plain": [
       "PGD - Iterations:   0%|          | 0/50 [00:00<?, ?it/s]"
      ]
     },
     "metadata": {},
     "output_type": "display_data"
    },
    {
     "name": "stdout",
     "output_type": "stream",
     "text": [
      "Prediction after pert: dragonfly, darning needle, devil's darning needle, sewing needle, snake feeder, snake doctor, mosquito hawk, skeeter hawk - confidence 1.00\n",
      "---------------------------------------------\n",
      "Prediction of adversarial sample after spatial deffense: dragonfly, darning needle, devil's darning needle, sewing needle, snake feeder, snake doctor, mosquito hawk, skeeter hawk - confidence 1.00\n",
      "---------------------------------------------\n",
      "original Prediction: robin, American robin, Turdus migratorius - confidence 0.99\n"
     ]
    },
    {
     "data": {
      "application/vnd.jupyter.widget-view+json": {
       "model_id": "2cbceb093abe40a1b738c40ba55e3181",
       "version_major": 2,
       "version_minor": 0
      },
      "text/plain": [
       "PGD - Random Initializations:   0%|          | 0/1 [00:00<?, ?it/s]"
      ]
     },
     "metadata": {},
     "output_type": "display_data"
    },
    {
     "data": {
      "application/vnd.jupyter.widget-view+json": {
       "model_id": "",
       "version_major": 2,
       "version_minor": 0
      },
      "text/plain": [
       "PGD - Iterations:   0%|          | 0/50 [00:00<?, ?it/s]"
      ]
     },
     "metadata": {},
     "output_type": "display_data"
    },
    {
     "name": "stdout",
     "output_type": "stream",
     "text": [
      "Prediction after pert: coucal - confidence 1.00\n",
      "---------------------------------------------\n",
      "Prediction of adversarial sample after spatial deffense: coucal - confidence 1.00\n",
      "---------------------------------------------\n",
      "original Prediction: coucal - confidence 0.44\n"
     ]
    },
    {
     "data": {
      "application/vnd.jupyter.widget-view+json": {
       "model_id": "d54220f296734bd78f76ed66f6ac8e11",
       "version_major": 2,
       "version_minor": 0
      },
      "text/plain": [
       "PGD - Random Initializations:   0%|          | 0/1 [00:00<?, ?it/s]"
      ]
     },
     "metadata": {},
     "output_type": "display_data"
    },
    {
     "data": {
      "application/vnd.jupyter.widget-view+json": {
       "model_id": "",
       "version_major": 2,
       "version_minor": 0
      },
      "text/plain": [
       "PGD - Iterations:   0%|          | 0/50 [00:00<?, ?it/s]"
      ]
     },
     "metadata": {},
     "output_type": "display_data"
    },
    {
     "name": "stdout",
     "output_type": "stream",
     "text": [
      "Prediction after pert: robin, American robin, Turdus migratorius - confidence 1.00\n",
      "---------------------------------------------\n",
      "Prediction of adversarial sample after spatial deffense: robin, American robin, Turdus migratorius - confidence 1.00\n",
      "---------------------------------------------\n",
      "original Prediction: fountain - confidence 0.07\n"
     ]
    },
    {
     "data": {
      "application/vnd.jupyter.widget-view+json": {
       "model_id": "2cbe987c0c6f4dbbb7aae7cbbfb654a4",
       "version_major": 2,
       "version_minor": 0
      },
      "text/plain": [
       "PGD - Random Initializations:   0%|          | 0/1 [00:00<?, ?it/s]"
      ]
     },
     "metadata": {},
     "output_type": "display_data"
    },
    {
     "data": {
      "application/vnd.jupyter.widget-view+json": {
       "model_id": "",
       "version_major": 2,
       "version_minor": 0
      },
      "text/plain": [
       "PGD - Iterations:   0%|          | 0/50 [00:00<?, ?it/s]"
      ]
     },
     "metadata": {},
     "output_type": "display_data"
    },
    {
     "name": "stdout",
     "output_type": "stream",
     "text": [
      "Prediction after pert: ostrich, Struthio camelus - confidence 1.00\n",
      "---------------------------------------------\n",
      "Prediction of adversarial sample after spatial deffense: ostrich, Struthio camelus - confidence 1.00\n",
      "---------------------------------------------\n",
      "original Prediction: robin, American robin, Turdus migratorius - confidence 1.00\n"
     ]
    },
    {
     "data": {
      "application/vnd.jupyter.widget-view+json": {
       "model_id": "ac3e0566e57c4d0da9bf58d3e1f23440",
       "version_major": 2,
       "version_minor": 0
      },
      "text/plain": [
       "PGD - Random Initializations:   0%|          | 0/1 [00:00<?, ?it/s]"
      ]
     },
     "metadata": {},
     "output_type": "display_data"
    },
    {
     "data": {
      "application/vnd.jupyter.widget-view+json": {
       "model_id": "",
       "version_major": 2,
       "version_minor": 0
      },
      "text/plain": [
       "PGD - Iterations:   0%|          | 0/50 [00:00<?, ?it/s]"
      ]
     },
     "metadata": {},
     "output_type": "display_data"
    },
    {
     "name": "stdout",
     "output_type": "stream",
     "text": [
      "Prediction after pert: Indian cobra, Naja naja - confidence 1.00\n",
      "---------------------------------------------\n",
      "Prediction of adversarial sample after spatial deffense: Indian cobra, Naja naja - confidence 1.00\n",
      "---------------------------------------------\n",
      "original Prediction: bulbul - confidence 0.87\n"
     ]
    },
    {
     "data": {
      "application/vnd.jupyter.widget-view+json": {
       "model_id": "d364c0906ff24a4282d6655d6f18f64e",
       "version_major": 2,
       "version_minor": 0
      },
      "text/plain": [
       "PGD - Random Initializations:   0%|          | 0/1 [00:00<?, ?it/s]"
      ]
     },
     "metadata": {},
     "output_type": "display_data"
    },
    {
     "data": {
      "application/vnd.jupyter.widget-view+json": {
       "model_id": "",
       "version_major": 2,
       "version_minor": 0
      },
      "text/plain": [
       "PGD - Iterations:   0%|          | 0/50 [00:00<?, ?it/s]"
      ]
     },
     "metadata": {},
     "output_type": "display_data"
    },
    {
     "name": "stdout",
     "output_type": "stream",
     "text": [
      "Prediction after pert: European gallinule, Porphyrio porphyrio - confidence 1.00\n",
      "---------------------------------------------\n",
      "Prediction of adversarial sample after spatial deffense: European gallinule, Porphyrio porphyrio - confidence 1.00\n",
      "---------------------------------------------\n",
      "original Prediction: vulture - confidence 0.36\n"
     ]
    },
    {
     "data": {
      "application/vnd.jupyter.widget-view+json": {
       "model_id": "44ca22c64d174e16a30429feb69dedb8",
       "version_major": 2,
       "version_minor": 0
      },
      "text/plain": [
       "PGD - Random Initializations:   0%|          | 0/1 [00:00<?, ?it/s]"
      ]
     },
     "metadata": {},
     "output_type": "display_data"
    },
    {
     "data": {
      "application/vnd.jupyter.widget-view+json": {
       "model_id": "",
       "version_major": 2,
       "version_minor": 0
      },
      "text/plain": [
       "PGD - Iterations:   0%|          | 0/50 [00:00<?, ?it/s]"
      ]
     },
     "metadata": {},
     "output_type": "display_data"
    },
    {
     "name": "stdout",
     "output_type": "stream",
     "text": [
      "Prediction after pert: ruffed grouse, partridge, Bonasa umbellus - confidence 1.00\n",
      "---------------------------------------------\n",
      "Prediction of adversarial sample after spatial deffense: ruffed grouse, partridge, Bonasa umbellus - confidence 1.00\n",
      "---------------------------------------------\n",
      "original Prediction: bulbul - confidence 0.84\n"
     ]
    },
    {
     "data": {
      "application/vnd.jupyter.widget-view+json": {
       "model_id": "7b9dcdc28c3540f480dbb5e27cd57278",
       "version_major": 2,
       "version_minor": 0
      },
      "text/plain": [
       "PGD - Random Initializations:   0%|          | 0/1 [00:00<?, ?it/s]"
      ]
     },
     "metadata": {},
     "output_type": "display_data"
    },
    {
     "data": {
      "application/vnd.jupyter.widget-view+json": {
       "model_id": "",
       "version_major": 2,
       "version_minor": 0
      },
      "text/plain": [
       "PGD - Iterations:   0%|          | 0/50 [00:00<?, ?it/s]"
      ]
     },
     "metadata": {},
     "output_type": "display_data"
    },
    {
     "name": "stdout",
     "output_type": "stream",
     "text": [
      "Prediction after pert: agama - confidence 1.00\n",
      "---------------------------------------------\n",
      "Prediction of adversarial sample after spatial deffense: agama - confidence 1.00\n",
      "---------------------------------------------\n",
      "original Prediction: bulbul - confidence 0.77\n"
     ]
    },
    {
     "data": {
      "application/vnd.jupyter.widget-view+json": {
       "model_id": "d1e7dc1f84894b499f400b4cdcbfc8ec",
       "version_major": 2,
       "version_minor": 0
      },
      "text/plain": [
       "PGD - Random Initializations:   0%|          | 0/1 [00:00<?, ?it/s]"
      ]
     },
     "metadata": {},
     "output_type": "display_data"
    },
    {
     "data": {
      "application/vnd.jupyter.widget-view+json": {
       "model_id": "",
       "version_major": 2,
       "version_minor": 0
      },
      "text/plain": [
       "PGD - Iterations:   0%|          | 0/50 [00:00<?, ?it/s]"
      ]
     },
     "metadata": {},
     "output_type": "display_data"
    },
    {
     "name": "stdout",
     "output_type": "stream",
     "text": [
      "Prediction after pert: hummingbird - confidence 1.00\n",
      "---------------------------------------------\n",
      "Prediction of adversarial sample after spatial deffense: hummingbird - confidence 1.00\n",
      "---------------------------------------------\n",
      "original Prediction: bulbul - confidence 1.00\n"
     ]
    },
    {
     "data": {
      "application/vnd.jupyter.widget-view+json": {
       "model_id": "39720fe5dea74ac3bb114b9d8e674809",
       "version_major": 2,
       "version_minor": 0
      },
      "text/plain": [
       "PGD - Random Initializations:   0%|          | 0/1 [00:00<?, ?it/s]"
      ]
     },
     "metadata": {},
     "output_type": "display_data"
    },
    {
     "data": {
      "application/vnd.jupyter.widget-view+json": {
       "model_id": "",
       "version_major": 2,
       "version_minor": 0
      },
      "text/plain": [
       "PGD - Iterations:   0%|          | 0/50 [00:00<?, ?it/s]"
      ]
     },
     "metadata": {},
     "output_type": "display_data"
    },
    {
     "name": "stdout",
     "output_type": "stream",
     "text": [
      "Prediction after pert: jay - confidence 1.00\n",
      "---------------------------------------------\n",
      "Prediction of adversarial sample after spatial deffense: jay - confidence 1.00\n",
      "---------------------------------------------\n",
      "original Prediction: bulbul - confidence 0.98\n"
     ]
    },
    {
     "data": {
      "application/vnd.jupyter.widget-view+json": {
       "model_id": "7d57bf0c81fa41b1859f0280524709e3",
       "version_major": 2,
       "version_minor": 0
      },
      "text/plain": [
       "PGD - Random Initializations:   0%|          | 0/1 [00:00<?, ?it/s]"
      ]
     },
     "metadata": {},
     "output_type": "display_data"
    },
    {
     "data": {
      "application/vnd.jupyter.widget-view+json": {
       "model_id": "",
       "version_major": 2,
       "version_minor": 0
      },
      "text/plain": [
       "PGD - Iterations:   0%|          | 0/50 [00:00<?, ?it/s]"
      ]
     },
     "metadata": {},
     "output_type": "display_data"
    },
    {
     "name": "stdout",
     "output_type": "stream",
     "text": [
      "Prediction after pert: jay - confidence 1.00\n",
      "---------------------------------------------\n",
      "Prediction of adversarial sample after spatial deffense: jay - confidence 1.00\n",
      "---------------------------------------------\n",
      "original Prediction: jay - confidence 1.00\n"
     ]
    },
    {
     "data": {
      "application/vnd.jupyter.widget-view+json": {
       "model_id": "c4ae2ed3602745e09224e9e47965e990",
       "version_major": 2,
       "version_minor": 0
      },
      "text/plain": [
       "PGD - Random Initializations:   0%|          | 0/1 [00:00<?, ?it/s]"
      ]
     },
     "metadata": {},
     "output_type": "display_data"
    },
    {
     "data": {
      "application/vnd.jupyter.widget-view+json": {
       "model_id": "",
       "version_major": 2,
       "version_minor": 0
      },
      "text/plain": [
       "PGD - Iterations:   0%|          | 0/50 [00:00<?, ?it/s]"
      ]
     },
     "metadata": {},
     "output_type": "display_data"
    },
    {
     "name": "stdout",
     "output_type": "stream",
     "text": [
      "Prediction after pert: magpie - confidence 1.00\n",
      "---------------------------------------------\n",
      "Prediction of adversarial sample after spatial deffense: magpie - confidence 1.00\n",
      "---------------------------------------------\n",
      "original Prediction: hummingbird - confidence 0.43\n"
     ]
    },
    {
     "data": {
      "application/vnd.jupyter.widget-view+json": {
       "model_id": "74749bf98cc441eeb8184ddeef1d9663",
       "version_major": 2,
       "version_minor": 0
      },
      "text/plain": [
       "PGD - Random Initializations:   0%|          | 0/1 [00:00<?, ?it/s]"
      ]
     },
     "metadata": {},
     "output_type": "display_data"
    },
    {
     "data": {
      "application/vnd.jupyter.widget-view+json": {
       "model_id": "",
       "version_major": 2,
       "version_minor": 0
      },
      "text/plain": [
       "PGD - Iterations:   0%|          | 0/50 [00:00<?, ?it/s]"
      ]
     },
     "metadata": {},
     "output_type": "display_data"
    },
    {
     "name": "stdout",
     "output_type": "stream",
     "text": [
      "Prediction after pert: malinois - confidence 1.00\n",
      "---------------------------------------------\n",
      "Prediction of adversarial sample after spatial deffense: malinois - confidence 1.00\n",
      "---------------------------------------------\n",
      "original Prediction: jay - confidence 1.00\n"
     ]
    },
    {
     "data": {
      "application/vnd.jupyter.widget-view+json": {
       "model_id": "6039c622471b4c0fb3c1fa9eea46b4d7",
       "version_major": 2,
       "version_minor": 0
      },
      "text/plain": [
       "PGD - Random Initializations:   0%|          | 0/1 [00:00<?, ?it/s]"
      ]
     },
     "metadata": {},
     "output_type": "display_data"
    },
    {
     "data": {
      "application/vnd.jupyter.widget-view+json": {
       "model_id": "",
       "version_major": 2,
       "version_minor": 0
      },
      "text/plain": [
       "PGD - Iterations:   0%|          | 0/50 [00:00<?, ?it/s]"
      ]
     },
     "metadata": {},
     "output_type": "display_data"
    },
    {
     "name": "stdout",
     "output_type": "stream",
     "text": [
      "Prediction after pert: chickadee - confidence 1.00\n",
      "---------------------------------------------\n",
      "Prediction of adversarial sample after spatial deffense: chickadee - confidence 1.00\n",
      "---------------------------------------------\n",
      "original Prediction: jay - confidence 1.00\n"
     ]
    },
    {
     "data": {
      "application/vnd.jupyter.widget-view+json": {
       "model_id": "2c9df5e9fb7e4826895b3b27b6d759a2",
       "version_major": 2,
       "version_minor": 0
      },
      "text/plain": [
       "PGD - Random Initializations:   0%|          | 0/1 [00:00<?, ?it/s]"
      ]
     },
     "metadata": {},
     "output_type": "display_data"
    },
    {
     "data": {
      "application/vnd.jupyter.widget-view+json": {
       "model_id": "",
       "version_major": 2,
       "version_minor": 0
      },
      "text/plain": [
       "PGD - Iterations:   0%|          | 0/50 [00:00<?, ?it/s]"
      ]
     },
     "metadata": {},
     "output_type": "display_data"
    },
    {
     "name": "stdout",
     "output_type": "stream",
     "text": [
      "Prediction after pert: Madagascar cat, ring-tailed lemur, Lemur catta - confidence 1.00\n",
      "---------------------------------------------\n",
      "Prediction of adversarial sample after spatial deffense: Madagascar cat, ring-tailed lemur, Lemur catta - confidence 1.00\n",
      "---------------------------------------------\n",
      "original Prediction: jay - confidence 1.00\n"
     ]
    },
    {
     "data": {
      "application/vnd.jupyter.widget-view+json": {
       "model_id": "87fc22704188474d97b7ff2c73812bc0",
       "version_major": 2,
       "version_minor": 0
      },
      "text/plain": [
       "PGD - Random Initializations:   0%|          | 0/1 [00:00<?, ?it/s]"
      ]
     },
     "metadata": {},
     "output_type": "display_data"
    },
    {
     "data": {
      "application/vnd.jupyter.widget-view+json": {
       "model_id": "",
       "version_major": 2,
       "version_minor": 0
      },
      "text/plain": [
       "PGD - Iterations:   0%|          | 0/50 [00:00<?, ?it/s]"
      ]
     },
     "metadata": {},
     "output_type": "display_data"
    },
    {
     "name": "stdout",
     "output_type": "stream",
     "text": [
      "Prediction after pert: bustard - confidence 1.00\n",
      "---------------------------------------------\n",
      "Prediction of adversarial sample after spatial deffense: bustard - confidence 1.00\n",
      "---------------------------------------------\n",
      "original Prediction: jay - confidence 0.98\n"
     ]
    },
    {
     "data": {
      "application/vnd.jupyter.widget-view+json": {
       "model_id": "68e744d41f8e435eb51847d70dbfaaa2",
       "version_major": 2,
       "version_minor": 0
      },
      "text/plain": [
       "PGD - Random Initializations:   0%|          | 0/1 [00:00<?, ?it/s]"
      ]
     },
     "metadata": {},
     "output_type": "display_data"
    },
    {
     "data": {
      "application/vnd.jupyter.widget-view+json": {
       "model_id": "",
       "version_major": 2,
       "version_minor": 0
      },
      "text/plain": [
       "PGD - Iterations:   0%|          | 0/50 [00:00<?, ?it/s]"
      ]
     },
     "metadata": {},
     "output_type": "display_data"
    },
    {
     "name": "stdout",
     "output_type": "stream",
     "text": [
      "Prediction after pert: water ouzel, dipper - confidence 1.00\n",
      "---------------------------------------------\n",
      "Prediction of adversarial sample after spatial deffense: water ouzel, dipper - confidence 1.00\n",
      "---------------------------------------------\n",
      "original Prediction: magpie - confidence 0.96\n"
     ]
    },
    {
     "data": {
      "application/vnd.jupyter.widget-view+json": {
       "model_id": "4d5ee09fe2a64edd83382fc9d2f1b8b8",
       "version_major": 2,
       "version_minor": 0
      },
      "text/plain": [
       "PGD - Random Initializations:   0%|          | 0/1 [00:00<?, ?it/s]"
      ]
     },
     "metadata": {},
     "output_type": "display_data"
    },
    {
     "data": {
      "application/vnd.jupyter.widget-view+json": {
       "model_id": "",
       "version_major": 2,
       "version_minor": 0
      },
      "text/plain": [
       "PGD - Iterations:   0%|          | 0/50 [00:00<?, ?it/s]"
      ]
     },
     "metadata": {},
     "output_type": "display_data"
    },
    {
     "name": "stdout",
     "output_type": "stream",
     "text": [
      "Prediction after pert: brambling, Fringilla montifringilla - confidence 1.00\n",
      "---------------------------------------------\n",
      "Prediction of adversarial sample after spatial deffense: brambling, Fringilla montifringilla - confidence 1.00\n",
      "---------------------------------------------\n",
      "original Prediction: kite - confidence 0.43\n"
     ]
    },
    {
     "data": {
      "application/vnd.jupyter.widget-view+json": {
       "model_id": "e491fdd723e544389772a46da0b4474b",
       "version_major": 2,
       "version_minor": 0
      },
      "text/plain": [
       "PGD - Random Initializations:   0%|          | 0/1 [00:00<?, ?it/s]"
      ]
     },
     "metadata": {},
     "output_type": "display_data"
    },
    {
     "data": {
      "application/vnd.jupyter.widget-view+json": {
       "model_id": "",
       "version_major": 2,
       "version_minor": 0
      },
      "text/plain": [
       "PGD - Iterations:   0%|          | 0/50 [00:00<?, ?it/s]"
      ]
     },
     "metadata": {},
     "output_type": "display_data"
    },
    {
     "name": "stdout",
     "output_type": "stream",
     "text": [
      "Prediction after pert: bald eagle, American eagle, Haliaeetus leucocephalus - confidence 1.00\n",
      "---------------------------------------------\n",
      "Prediction of adversarial sample after spatial deffense: bald eagle, American eagle, Haliaeetus leucocephalus - confidence 1.00\n",
      "---------------------------------------------\n",
      "original Prediction: magpie - confidence 1.00\n"
     ]
    },
    {
     "data": {
      "application/vnd.jupyter.widget-view+json": {
       "model_id": "b9a2339ccc5b4365b87d6b784aac49db",
       "version_major": 2,
       "version_minor": 0
      },
      "text/plain": [
       "PGD - Random Initializations:   0%|          | 0/1 [00:00<?, ?it/s]"
      ]
     },
     "metadata": {},
     "output_type": "display_data"
    },
    {
     "data": {
      "application/vnd.jupyter.widget-view+json": {
       "model_id": "",
       "version_major": 2,
       "version_minor": 0
      },
      "text/plain": [
       "PGD - Iterations:   0%|          | 0/50 [00:00<?, ?it/s]"
      ]
     },
     "metadata": {},
     "output_type": "display_data"
    },
    {
     "name": "stdout",
     "output_type": "stream",
     "text": [
      "Prediction after pert: water ouzel, dipper - confidence 1.00\n",
      "---------------------------------------------\n",
      "Prediction of adversarial sample after spatial deffense: water ouzel, dipper - confidence 1.00\n",
      "---------------------------------------------\n",
      "original Prediction: magpie - confidence 0.90\n"
     ]
    },
    {
     "data": {
      "application/vnd.jupyter.widget-view+json": {
       "model_id": "5a482acc9d6c4f94899cb4123910e5f3",
       "version_major": 2,
       "version_minor": 0
      },
      "text/plain": [
       "PGD - Random Initializations:   0%|          | 0/1 [00:00<?, ?it/s]"
      ]
     },
     "metadata": {},
     "output_type": "display_data"
    },
    {
     "data": {
      "application/vnd.jupyter.widget-view+json": {
       "model_id": "",
       "version_major": 2,
       "version_minor": 0
      },
      "text/plain": [
       "PGD - Iterations:   0%|          | 0/50 [00:00<?, ?it/s]"
      ]
     },
     "metadata": {},
     "output_type": "display_data"
    },
    {
     "name": "stdout",
     "output_type": "stream",
     "text": [
      "Prediction after pert: ptarmigan - confidence 1.00\n",
      "---------------------------------------------\n",
      "Prediction of adversarial sample after spatial deffense: ptarmigan - confidence 1.00\n",
      "---------------------------------------------\n",
      "original Prediction: vulture - confidence 0.32\n"
     ]
    },
    {
     "data": {
      "application/vnd.jupyter.widget-view+json": {
       "model_id": "0e88736d3ffb468ba20898eb104ac360",
       "version_major": 2,
       "version_minor": 0
      },
      "text/plain": [
       "PGD - Random Initializations:   0%|          | 0/1 [00:00<?, ?it/s]"
      ]
     },
     "metadata": {},
     "output_type": "display_data"
    },
    {
     "data": {
      "application/vnd.jupyter.widget-view+json": {
       "model_id": "",
       "version_major": 2,
       "version_minor": 0
      },
      "text/plain": [
       "PGD - Iterations:   0%|          | 0/50 [00:00<?, ?it/s]"
      ]
     },
     "metadata": {},
     "output_type": "display_data"
    },
    {
     "name": "stdout",
     "output_type": "stream",
     "text": [
      "Prediction after pert: American egret, great white heron, Egretta albus - confidence 1.00\n",
      "---------------------------------------------\n",
      "Prediction of adversarial sample after spatial deffense: American egret, great white heron, Egretta albus - confidence 1.00\n",
      "---------------------------------------------\n",
      "original Prediction: magpie - confidence 0.97\n"
     ]
    },
    {
     "data": {
      "application/vnd.jupyter.widget-view+json": {
       "model_id": "d053fa7a293d4b779b6e6972bd3c33d1",
       "version_major": 2,
       "version_minor": 0
      },
      "text/plain": [
       "PGD - Random Initializations:   0%|          | 0/1 [00:00<?, ?it/s]"
      ]
     },
     "metadata": {},
     "output_type": "display_data"
    },
    {
     "data": {
      "application/vnd.jupyter.widget-view+json": {
       "model_id": "",
       "version_major": 2,
       "version_minor": 0
      },
      "text/plain": [
       "PGD - Iterations:   0%|          | 0/50 [00:00<?, ?it/s]"
      ]
     },
     "metadata": {},
     "output_type": "display_data"
    },
    {
     "name": "stdout",
     "output_type": "stream",
     "text": [
      "Prediction after pert: bustard - confidence 1.00\n",
      "---------------------------------------------\n",
      "Prediction of adversarial sample after spatial deffense: bustard - confidence 1.00\n",
      "---------------------------------------------\n",
      "original Prediction: chickadee - confidence 1.00\n"
     ]
    },
    {
     "data": {
      "application/vnd.jupyter.widget-view+json": {
       "model_id": "0266d215c9e84861ae49ebfc2dde4627",
       "version_major": 2,
       "version_minor": 0
      },
      "text/plain": [
       "PGD - Random Initializations:   0%|          | 0/1 [00:00<?, ?it/s]"
      ]
     },
     "metadata": {},
     "output_type": "display_data"
    },
    {
     "data": {
      "application/vnd.jupyter.widget-view+json": {
       "model_id": "",
       "version_major": 2,
       "version_minor": 0
      },
      "text/plain": [
       "PGD - Iterations:   0%|          | 0/50 [00:00<?, ?it/s]"
      ]
     },
     "metadata": {},
     "output_type": "display_data"
    },
    {
     "name": "stdout",
     "output_type": "stream",
     "text": [
      "Prediction after pert: brambling, Fringilla montifringilla - confidence 1.00\n",
      "---------------------------------------------\n",
      "Prediction of adversarial sample after spatial deffense: brambling, Fringilla montifringilla - confidence 1.00\n",
      "---------------------------------------------\n",
      "original Prediction: chickadee - confidence 0.91\n"
     ]
    },
    {
     "data": {
      "application/vnd.jupyter.widget-view+json": {
       "model_id": "ea84cafdd2a54731ab0a481b67be0979",
       "version_major": 2,
       "version_minor": 0
      },
      "text/plain": [
       "PGD - Random Initializations:   0%|          | 0/1 [00:00<?, ?it/s]"
      ]
     },
     "metadata": {},
     "output_type": "display_data"
    },
    {
     "data": {
      "application/vnd.jupyter.widget-view+json": {
       "model_id": "",
       "version_major": 2,
       "version_minor": 0
      },
      "text/plain": [
       "PGD - Iterations:   0%|          | 0/50 [00:00<?, ?it/s]"
      ]
     },
     "metadata": {},
     "output_type": "display_data"
    },
    {
     "name": "stdout",
     "output_type": "stream",
     "text": [
      "Prediction after pert: black grouse - confidence 1.00\n",
      "---------------------------------------------\n",
      "Prediction of adversarial sample after spatial deffense: black grouse - confidence 1.00\n",
      "---------------------------------------------\n",
      "original Prediction: chickadee - confidence 0.93\n"
     ]
    },
    {
     "data": {
      "application/vnd.jupyter.widget-view+json": {
       "model_id": "038f5246d0fc436a83b2012c8eb7f2a7",
       "version_major": 2,
       "version_minor": 0
      },
      "text/plain": [
       "PGD - Random Initializations:   0%|          | 0/1 [00:00<?, ?it/s]"
      ]
     },
     "metadata": {},
     "output_type": "display_data"
    },
    {
     "data": {
      "application/vnd.jupyter.widget-view+json": {
       "model_id": "",
       "version_major": 2,
       "version_minor": 0
      },
      "text/plain": [
       "PGD - Iterations:   0%|          | 0/50 [00:00<?, ?it/s]"
      ]
     },
     "metadata": {},
     "output_type": "display_data"
    },
    {
     "name": "stdout",
     "output_type": "stream",
     "text": [
      "Prediction after pert: junco, snowbird - confidence 1.00\n",
      "---------------------------------------------\n",
      "Prediction of adversarial sample after spatial deffense: junco, snowbird - confidence 1.00\n",
      "---------------------------------------------\n",
      "original Prediction: chickadee - confidence 1.00\n"
     ]
    },
    {
     "data": {
      "application/vnd.jupyter.widget-view+json": {
       "model_id": "f832b3bcdadc4e1b8885c04129f2b921",
       "version_major": 2,
       "version_minor": 0
      },
      "text/plain": [
       "PGD - Random Initializations:   0%|          | 0/1 [00:00<?, ?it/s]"
      ]
     },
     "metadata": {},
     "output_type": "display_data"
    },
    {
     "data": {
      "application/vnd.jupyter.widget-view+json": {
       "model_id": "",
       "version_major": 2,
       "version_minor": 0
      },
      "text/plain": [
       "PGD - Iterations:   0%|          | 0/50 [00:00<?, ?it/s]"
      ]
     },
     "metadata": {},
     "output_type": "display_data"
    },
    {
     "name": "stdout",
     "output_type": "stream",
     "text": [
      "Prediction after pert: prairie chicken, prairie grouse, prairie fowl - confidence 1.00\n",
      "---------------------------------------------\n",
      "Prediction of adversarial sample after spatial deffense: prairie chicken, prairie grouse, prairie fowl - confidence 1.00\n",
      "---------------------------------------------\n",
      "original Prediction: chickadee - confidence 0.97\n"
     ]
    },
    {
     "data": {
      "application/vnd.jupyter.widget-view+json": {
       "model_id": "74955a03e3c549f1b4ea59628e63ad0e",
       "version_major": 2,
       "version_minor": 0
      },
      "text/plain": [
       "PGD - Random Initializations:   0%|          | 0/1 [00:00<?, ?it/s]"
      ]
     },
     "metadata": {},
     "output_type": "display_data"
    },
    {
     "data": {
      "application/vnd.jupyter.widget-view+json": {
       "model_id": "",
       "version_major": 2,
       "version_minor": 0
      },
      "text/plain": [
       "PGD - Iterations:   0%|          | 0/50 [00:00<?, ?it/s]"
      ]
     },
     "metadata": {},
     "output_type": "display_data"
    },
    {
     "name": "stdout",
     "output_type": "stream",
     "text": [
      "Prediction after pert: quail - confidence 1.00\n",
      "---------------------------------------------\n",
      "Prediction of adversarial sample after spatial deffense: quail - confidence 1.00\n",
      "---------------------------------------------\n",
      "original Prediction: chickadee - confidence 1.00\n"
     ]
    },
    {
     "data": {
      "application/vnd.jupyter.widget-view+json": {
       "model_id": "71b30dfd78d54e24b60f08fceb3d7d91",
       "version_major": 2,
       "version_minor": 0
      },
      "text/plain": [
       "PGD - Random Initializations:   0%|          | 0/1 [00:00<?, ?it/s]"
      ]
     },
     "metadata": {},
     "output_type": "display_data"
    },
    {
     "data": {
      "application/vnd.jupyter.widget-view+json": {
       "model_id": "",
       "version_major": 2,
       "version_minor": 0
      },
      "text/plain": [
       "PGD - Iterations:   0%|          | 0/50 [00:00<?, ?it/s]"
      ]
     },
     "metadata": {},
     "output_type": "display_data"
    },
    {
     "name": "stdout",
     "output_type": "stream",
     "text": [
      "Prediction after pert: junco, snowbird - confidence 1.00\n",
      "---------------------------------------------\n",
      "Prediction of adversarial sample after spatial deffense: junco, snowbird - confidence 1.00\n",
      "---------------------------------------------\n",
      "original Prediction: water ouzel, dipper - confidence 0.46\n"
     ]
    },
    {
     "data": {
      "application/vnd.jupyter.widget-view+json": {
       "model_id": "b1ad6e3c8a334522aedd8622d4660189",
       "version_major": 2,
       "version_minor": 0
      },
      "text/plain": [
       "PGD - Random Initializations:   0%|          | 0/1 [00:00<?, ?it/s]"
      ]
     },
     "metadata": {},
     "output_type": "display_data"
    },
    {
     "data": {
      "application/vnd.jupyter.widget-view+json": {
       "model_id": "",
       "version_major": 2,
       "version_minor": 0
      },
      "text/plain": [
       "PGD - Iterations:   0%|          | 0/50 [00:00<?, ?it/s]"
      ]
     },
     "metadata": {},
     "output_type": "display_data"
    },
    {
     "name": "stdout",
     "output_type": "stream",
     "text": [
      "Prediction after pert: African crocodile, Nile crocodile, Crocodylus niloticus - confidence 1.00\n",
      "---------------------------------------------\n",
      "Prediction of adversarial sample after spatial deffense: African crocodile, Nile crocodile, Crocodylus niloticus - confidence 1.00\n",
      "---------------------------------------------\n",
      "original Prediction: water ouzel, dipper - confidence 1.00\n"
     ]
    },
    {
     "data": {
      "application/vnd.jupyter.widget-view+json": {
       "model_id": "6febcbee4c264d89916dac2a916ffc96",
       "version_major": 2,
       "version_minor": 0
      },
      "text/plain": [
       "PGD - Random Initializations:   0%|          | 0/1 [00:00<?, ?it/s]"
      ]
     },
     "metadata": {},
     "output_type": "display_data"
    },
    {
     "data": {
      "application/vnd.jupyter.widget-view+json": {
       "model_id": "",
       "version_major": 2,
       "version_minor": 0
      },
      "text/plain": [
       "PGD - Iterations:   0%|          | 0/50 [00:00<?, ?it/s]"
      ]
     },
     "metadata": {},
     "output_type": "display_data"
    },
    {
     "name": "stdout",
     "output_type": "stream",
     "text": [
      "Prediction after pert: Komodo dragon, Komodo lizard, dragon lizard, giant lizard, Varanus komodoensis - confidence 1.00\n",
      "---------------------------------------------\n",
      "Prediction of adversarial sample after spatial deffense: Komodo dragon, Komodo lizard, dragon lizard, giant lizard, Varanus komodoensis - confidence 1.00\n",
      "---------------------------------------------\n",
      "original Prediction: water ouzel, dipper - confidence 0.98\n"
     ]
    },
    {
     "data": {
      "application/vnd.jupyter.widget-view+json": {
       "model_id": "66f3765f6c694323961d552eb46ebdea",
       "version_major": 2,
       "version_minor": 0
      },
      "text/plain": [
       "PGD - Random Initializations:   0%|          | 0/1 [00:00<?, ?it/s]"
      ]
     },
     "metadata": {},
     "output_type": "display_data"
    },
    {
     "data": {
      "application/vnd.jupyter.widget-view+json": {
       "model_id": "",
       "version_major": 2,
       "version_minor": 0
      },
      "text/plain": [
       "PGD - Iterations:   0%|          | 0/50 [00:00<?, ?it/s]"
      ]
     },
     "metadata": {},
     "output_type": "display_data"
    },
    {
     "name": "stdout",
     "output_type": "stream",
     "text": [
      "Prediction after pert: redshank, Tringa totanus - confidence 1.00\n",
      "---------------------------------------------\n",
      "Prediction of adversarial sample after spatial deffense: redshank, Tringa totanus - confidence 1.00\n",
      "---------------------------------------------\n",
      "original Prediction: water ouzel, dipper - confidence 0.93\n"
     ]
    },
    {
     "data": {
      "application/vnd.jupyter.widget-view+json": {
       "model_id": "365db99057d744a7bd648b6e59071f97",
       "version_major": 2,
       "version_minor": 0
      },
      "text/plain": [
       "PGD - Random Initializations:   0%|          | 0/1 [00:00<?, ?it/s]"
      ]
     },
     "metadata": {},
     "output_type": "display_data"
    },
    {
     "data": {
      "application/vnd.jupyter.widget-view+json": {
       "model_id": "",
       "version_major": 2,
       "version_minor": 0
      },
      "text/plain": [
       "PGD - Iterations:   0%|          | 0/50 [00:00<?, ?it/s]"
      ]
     },
     "metadata": {},
     "output_type": "display_data"
    },
    {
     "name": "stdout",
     "output_type": "stream",
     "text": [
      "Prediction after pert: drake - confidence 1.00\n",
      "---------------------------------------------\n",
      "Prediction of adversarial sample after spatial deffense: drake - confidence 1.00\n",
      "---------------------------------------------\n",
      "original Prediction: water ouzel, dipper - confidence 1.00\n"
     ]
    },
    {
     "data": {
      "application/vnd.jupyter.widget-view+json": {
       "model_id": "23a600bb01fb4284bbf36e23eaa8d58d",
       "version_major": 2,
       "version_minor": 0
      },
      "text/plain": [
       "PGD - Random Initializations:   0%|          | 0/1 [00:00<?, ?it/s]"
      ]
     },
     "metadata": {},
     "output_type": "display_data"
    },
    {
     "data": {
      "application/vnd.jupyter.widget-view+json": {
       "model_id": "",
       "version_major": 2,
       "version_minor": 0
      },
      "text/plain": [
       "PGD - Iterations:   0%|          | 0/50 [00:00<?, ?it/s]"
      ]
     },
     "metadata": {},
     "output_type": "display_data"
    },
    {
     "name": "stdout",
     "output_type": "stream",
     "text": [
      "Prediction after pert: bulbul - confidence 1.00\n",
      "---------------------------------------------\n",
      "Prediction of adversarial sample after spatial deffense: bulbul - confidence 1.00\n",
      "---------------------------------------------\n",
      "original Prediction: water ouzel, dipper - confidence 1.00\n"
     ]
    },
    {
     "data": {
      "application/vnd.jupyter.widget-view+json": {
       "model_id": "8b2540a51e5949fa926c284c6b742bf0",
       "version_major": 2,
       "version_minor": 0
      },
      "text/plain": [
       "PGD - Random Initializations:   0%|          | 0/1 [00:00<?, ?it/s]"
      ]
     },
     "metadata": {},
     "output_type": "display_data"
    },
    {
     "data": {
      "application/vnd.jupyter.widget-view+json": {
       "model_id": "",
       "version_major": 2,
       "version_minor": 0
      },
      "text/plain": [
       "PGD - Iterations:   0%|          | 0/50 [00:00<?, ?it/s]"
      ]
     },
     "metadata": {},
     "output_type": "display_data"
    },
    {
     "name": "stdout",
     "output_type": "stream",
     "text": [
      "Prediction after pert: ostrich, Struthio camelus - confidence 1.00\n",
      "---------------------------------------------\n",
      "Prediction of adversarial sample after spatial deffense: ostrich, Struthio camelus - confidence 1.00\n",
      "---------------------------------------------\n",
      "original Prediction: ruffed grouse, partridge, Bonasa umbellus - confidence 0.51\n"
     ]
    },
    {
     "data": {
      "application/vnd.jupyter.widget-view+json": {
       "model_id": "067ec3dc852d4cbab3d6a8d18cb7eb36",
       "version_major": 2,
       "version_minor": 0
      },
      "text/plain": [
       "PGD - Random Initializations:   0%|          | 0/1 [00:00<?, ?it/s]"
      ]
     },
     "metadata": {},
     "output_type": "display_data"
    },
    {
     "data": {
      "application/vnd.jupyter.widget-view+json": {
       "model_id": "",
       "version_major": 2,
       "version_minor": 0
      },
      "text/plain": [
       "PGD - Iterations:   0%|          | 0/50 [00:00<?, ?it/s]"
      ]
     },
     "metadata": {},
     "output_type": "display_data"
    },
    {
     "name": "stdout",
     "output_type": "stream",
     "text": [
      "Prediction after pert: megalith, megalithic structure - confidence 1.00\n",
      "---------------------------------------------\n",
      "Prediction of adversarial sample after spatial deffense: megalith, megalithic structure - confidence 1.00\n",
      "---------------------------------------------\n",
      "original Prediction: kite - confidence 0.98\n"
     ]
    },
    {
     "data": {
      "application/vnd.jupyter.widget-view+json": {
       "model_id": "43e65a78d1694a71a4cc97a92d66c315",
       "version_major": 2,
       "version_minor": 0
      },
      "text/plain": [
       "PGD - Random Initializations:   0%|          | 0/1 [00:00<?, ?it/s]"
      ]
     },
     "metadata": {},
     "output_type": "display_data"
    },
    {
     "data": {
      "application/vnd.jupyter.widget-view+json": {
       "model_id": "",
       "version_major": 2,
       "version_minor": 0
      },
      "text/plain": [
       "PGD - Iterations:   0%|          | 0/50 [00:00<?, ?it/s]"
      ]
     },
     "metadata": {},
     "output_type": "display_data"
    },
    {
     "name": "stdout",
     "output_type": "stream",
     "text": [
      "Prediction after pert: quill, quill pen - confidence 1.00\n",
      "---------------------------------------------\n",
      "Prediction of adversarial sample after spatial deffense: quill, quill pen - confidence 1.00\n",
      "---------------------------------------------\n",
      "original Prediction: kite - confidence 0.90\n"
     ]
    },
    {
     "data": {
      "application/vnd.jupyter.widget-view+json": {
       "model_id": "d3961f165e0440cfaa5645c1a9acec29",
       "version_major": 2,
       "version_minor": 0
      },
      "text/plain": [
       "PGD - Random Initializations:   0%|          | 0/1 [00:00<?, ?it/s]"
      ]
     },
     "metadata": {},
     "output_type": "display_data"
    },
    {
     "data": {
      "application/vnd.jupyter.widget-view+json": {
       "model_id": "",
       "version_major": 2,
       "version_minor": 0
      },
      "text/plain": [
       "PGD - Iterations:   0%|          | 0/50 [00:00<?, ?it/s]"
      ]
     },
     "metadata": {},
     "output_type": "display_data"
    },
    {
     "name": "stdout",
     "output_type": "stream",
     "text": [
      "Prediction after pert: black swan, Cygnus atratus - confidence 1.00\n",
      "---------------------------------------------\n",
      "Prediction of adversarial sample after spatial deffense: black swan, Cygnus atratus - confidence 1.00\n",
      "---------------------------------------------\n",
      "original Prediction: kite - confidence 0.83\n"
     ]
    },
    {
     "data": {
      "application/vnd.jupyter.widget-view+json": {
       "model_id": "dcc72abe5a944bed844bc7527ce4d999",
       "version_major": 2,
       "version_minor": 0
      },
      "text/plain": [
       "PGD - Random Initializations:   0%|          | 0/1 [00:00<?, ?it/s]"
      ]
     },
     "metadata": {},
     "output_type": "display_data"
    },
    {
     "data": {
      "application/vnd.jupyter.widget-view+json": {
       "model_id": "",
       "version_major": 2,
       "version_minor": 0
      },
      "text/plain": [
       "PGD - Iterations:   0%|          | 0/50 [00:00<?, ?it/s]"
      ]
     },
     "metadata": {},
     "output_type": "display_data"
    },
    {
     "name": "stdout",
     "output_type": "stream",
     "text": [
      "Prediction after pert: paper towel - confidence 1.00\n",
      "---------------------------------------------\n",
      "Prediction of adversarial sample after spatial deffense: paper towel - confidence 1.00\n",
      "---------------------------------------------\n",
      "original Prediction: kite - confidence 1.00\n"
     ]
    },
    {
     "data": {
      "application/vnd.jupyter.widget-view+json": {
       "model_id": "8137c4efca1545189d8e26a07dc95022",
       "version_major": 2,
       "version_minor": 0
      },
      "text/plain": [
       "PGD - Random Initializations:   0%|          | 0/1 [00:00<?, ?it/s]"
      ]
     },
     "metadata": {},
     "output_type": "display_data"
    },
    {
     "data": {
      "application/vnd.jupyter.widget-view+json": {
       "model_id": "",
       "version_major": 2,
       "version_minor": 0
      },
      "text/plain": [
       "PGD - Iterations:   0%|          | 0/50 [00:00<?, ?it/s]"
      ]
     },
     "metadata": {},
     "output_type": "display_data"
    },
    {
     "name": "stdout",
     "output_type": "stream",
     "text": [
      "Prediction after pert: partridge - confidence 0.97\n",
      "---------------------------------------------\n",
      "Prediction of adversarial sample after spatial deffense: partridge - confidence 0.93\n",
      "---------------------------------------------\n",
      "original Prediction: kite - confidence 0.83\n"
     ]
    },
    {
     "data": {
      "application/vnd.jupyter.widget-view+json": {
       "model_id": "1ea37f6f59584a1e823d9531a627d7a7",
       "version_major": 2,
       "version_minor": 0
      },
      "text/plain": [
       "PGD - Random Initializations:   0%|          | 0/1 [00:00<?, ?it/s]"
      ]
     },
     "metadata": {},
     "output_type": "display_data"
    },
    {
     "data": {
      "application/vnd.jupyter.widget-view+json": {
       "model_id": "",
       "version_major": 2,
       "version_minor": 0
      },
      "text/plain": [
       "PGD - Iterations:   0%|          | 0/50 [00:00<?, ?it/s]"
      ]
     },
     "metadata": {},
     "output_type": "display_data"
    },
    {
     "name": "stdout",
     "output_type": "stream",
     "text": [
      "Prediction after pert: bald eagle, American eagle, Haliaeetus leucocephalus - confidence 1.00\n",
      "---------------------------------------------\n",
      "Prediction of adversarial sample after spatial deffense: bald eagle, American eagle, Haliaeetus leucocephalus - confidence 1.00\n",
      "---------------------------------------------\n",
      "original Prediction: bald eagle, American eagle, Haliaeetus leucocephalus - confidence 0.75\n"
     ]
    },
    {
     "data": {
      "application/vnd.jupyter.widget-view+json": {
       "model_id": "0d4c206b82a641a3b2bf6d64275d2c36",
       "version_major": 2,
       "version_minor": 0
      },
      "text/plain": [
       "PGD - Random Initializations:   0%|          | 0/1 [00:00<?, ?it/s]"
      ]
     },
     "metadata": {},
     "output_type": "display_data"
    },
    {
     "data": {
      "application/vnd.jupyter.widget-view+json": {
       "model_id": "",
       "version_major": 2,
       "version_minor": 0
      },
      "text/plain": [
       "PGD - Iterations:   0%|          | 0/50 [00:00<?, ?it/s]"
      ]
     },
     "metadata": {},
     "output_type": "display_data"
    },
    {
     "name": "stdout",
     "output_type": "stream",
     "text": [
      "Prediction after pert: coucal - confidence 1.00\n",
      "---------------------------------------------\n",
      "Prediction of adversarial sample after spatial deffense: coucal - confidence 1.00\n",
      "---------------------------------------------\n",
      "original Prediction: bald eagle, American eagle, Haliaeetus leucocephalus - confidence 0.68\n"
     ]
    },
    {
     "data": {
      "application/vnd.jupyter.widget-view+json": {
       "model_id": "67b3746f58bc47a98013080933deb873",
       "version_major": 2,
       "version_minor": 0
      },
      "text/plain": [
       "PGD - Random Initializations:   0%|          | 0/1 [00:00<?, ?it/s]"
      ]
     },
     "metadata": {},
     "output_type": "display_data"
    },
    {
     "data": {
      "application/vnd.jupyter.widget-view+json": {
       "model_id": "",
       "version_major": 2,
       "version_minor": 0
      },
      "text/plain": [
       "PGD - Iterations:   0%|          | 0/50 [00:00<?, ?it/s]"
      ]
     },
     "metadata": {},
     "output_type": "display_data"
    },
    {
     "name": "stdout",
     "output_type": "stream",
     "text": [
      "Prediction after pert: warthog - confidence 1.00\n",
      "---------------------------------------------\n",
      "Prediction of adversarial sample after spatial deffense: warthog - confidence 1.00\n",
      "---------------------------------------------\n",
      "original Prediction: bald eagle, American eagle, Haliaeetus leucocephalus - confidence 0.81\n"
     ]
    },
    {
     "data": {
      "application/vnd.jupyter.widget-view+json": {
       "model_id": "448ae1d81a914fbe9664a88236b7f97e",
       "version_major": 2,
       "version_minor": 0
      },
      "text/plain": [
       "PGD - Random Initializations:   0%|          | 0/1 [00:00<?, ?it/s]"
      ]
     },
     "metadata": {},
     "output_type": "display_data"
    },
    {
     "data": {
      "application/vnd.jupyter.widget-view+json": {
       "model_id": "",
       "version_major": 2,
       "version_minor": 0
      },
      "text/plain": [
       "PGD - Iterations:   0%|          | 0/50 [00:00<?, ?it/s]"
      ]
     },
     "metadata": {},
     "output_type": "display_data"
    },
    {
     "name": "stdout",
     "output_type": "stream",
     "text": [
      "Prediction after pert: Indian cobra, Naja naja - confidence 1.00\n",
      "---------------------------------------------\n",
      "Prediction of adversarial sample after spatial deffense: Indian cobra, Naja naja - confidence 1.00\n",
      "---------------------------------------------\n",
      "original Prediction: water ouzel, dipper - confidence 0.81\n"
     ]
    },
    {
     "data": {
      "application/vnd.jupyter.widget-view+json": {
       "model_id": "6519ae72a41d4310b323372a0edbb7bd",
       "version_major": 2,
       "version_minor": 0
      },
      "text/plain": [
       "PGD - Random Initializations:   0%|          | 0/1 [00:00<?, ?it/s]"
      ]
     },
     "metadata": {},
     "output_type": "display_data"
    },
    {
     "data": {
      "application/vnd.jupyter.widget-view+json": {
       "model_id": "",
       "version_major": 2,
       "version_minor": 0
      },
      "text/plain": [
       "PGD - Iterations:   0%|          | 0/50 [00:00<?, ?it/s]"
      ]
     },
     "metadata": {},
     "output_type": "display_data"
    },
    {
     "name": "stdout",
     "output_type": "stream",
     "text": [
      "Prediction after pert: bald eagle, American eagle, Haliaeetus leucocephalus - confidence 1.00\n",
      "---------------------------------------------\n",
      "Prediction of adversarial sample after spatial deffense: bald eagle, American eagle, Haliaeetus leucocephalus - confidence 1.00\n",
      "---------------------------------------------\n",
      "original Prediction: bald eagle, American eagle, Haliaeetus leucocephalus - confidence 1.00\n"
     ]
    },
    {
     "data": {
      "application/vnd.jupyter.widget-view+json": {
       "model_id": "d84499d52fbf4403867b36700955b551",
       "version_major": 2,
       "version_minor": 0
      },
      "text/plain": [
       "PGD - Random Initializations:   0%|          | 0/1 [00:00<?, ?it/s]"
      ]
     },
     "metadata": {},
     "output_type": "display_data"
    },
    {
     "data": {
      "application/vnd.jupyter.widget-view+json": {
       "model_id": "",
       "version_major": 2,
       "version_minor": 0
      },
      "text/plain": [
       "PGD - Iterations:   0%|          | 0/50 [00:00<?, ?it/s]"
      ]
     },
     "metadata": {},
     "output_type": "display_data"
    },
    {
     "name": "stdout",
     "output_type": "stream",
     "text": [
      "Prediction after pert: panpipe, pandean pipe, syrinx - confidence 1.00\n",
      "---------------------------------------------\n",
      "Prediction of adversarial sample after spatial deffense: panpipe, pandean pipe, syrinx - confidence 1.00\n",
      "---------------------------------------------\n",
      "original Prediction: vulture - confidence 0.63\n"
     ]
    },
    {
     "data": {
      "application/vnd.jupyter.widget-view+json": {
       "model_id": "2433354845fb40e490af8bd922a4d6be",
       "version_major": 2,
       "version_minor": 0
      },
      "text/plain": [
       "PGD - Random Initializations:   0%|          | 0/1 [00:00<?, ?it/s]"
      ]
     },
     "metadata": {},
     "output_type": "display_data"
    },
    {
     "data": {
      "application/vnd.jupyter.widget-view+json": {
       "model_id": "",
       "version_major": 2,
       "version_minor": 0
      },
      "text/plain": [
       "PGD - Iterations:   0%|          | 0/50 [00:00<?, ?it/s]"
      ]
     },
     "metadata": {},
     "output_type": "display_data"
    },
    {
     "name": "stdout",
     "output_type": "stream",
     "text": [
      "Prediction after pert: long-horned beetle, longicorn, longicorn beetle - confidence 1.00\n",
      "---------------------------------------------\n",
      "Prediction of adversarial sample after spatial deffense: long-horned beetle, longicorn, longicorn beetle - confidence 1.00\n",
      "---------------------------------------------\n",
      "original Prediction: wreck - confidence 0.37\n"
     ]
    },
    {
     "data": {
      "application/vnd.jupyter.widget-view+json": {
       "model_id": "64c78deabe0847b69d8817863a1ba77b",
       "version_major": 2,
       "version_minor": 0
      },
      "text/plain": [
       "PGD - Random Initializations:   0%|          | 0/1 [00:00<?, ?it/s]"
      ]
     },
     "metadata": {},
     "output_type": "display_data"
    },
    {
     "data": {
      "application/vnd.jupyter.widget-view+json": {
       "model_id": "",
       "version_major": 2,
       "version_minor": 0
      },
      "text/plain": [
       "PGD - Iterations:   0%|          | 0/50 [00:00<?, ?it/s]"
      ]
     },
     "metadata": {},
     "output_type": "display_data"
    },
    {
     "name": "stdout",
     "output_type": "stream",
     "text": [
      "Prediction after pert: cricket - confidence 1.00\n",
      "---------------------------------------------\n",
      "Prediction of adversarial sample after spatial deffense: cricket - confidence 1.00\n",
      "---------------------------------------------\n",
      "original Prediction: vulture - confidence 0.33\n"
     ]
    },
    {
     "data": {
      "application/vnd.jupyter.widget-view+json": {
       "model_id": "09747136ff8841849eb556068d034074",
       "version_major": 2,
       "version_minor": 0
      },
      "text/plain": [
       "PGD - Random Initializations:   0%|          | 0/1 [00:00<?, ?it/s]"
      ]
     },
     "metadata": {},
     "output_type": "display_data"
    },
    {
     "data": {
      "application/vnd.jupyter.widget-view+json": {
       "model_id": "",
       "version_major": 2,
       "version_minor": 0
      },
      "text/plain": [
       "PGD - Iterations:   0%|          | 0/50 [00:00<?, ?it/s]"
      ]
     },
     "metadata": {},
     "output_type": "display_data"
    },
    {
     "name": "stdout",
     "output_type": "stream",
     "text": [
      "Prediction after pert: pole - confidence 1.00\n",
      "---------------------------------------------\n",
      "Prediction of adversarial sample after spatial deffense: pole - confidence 1.00\n",
      "---------------------------------------------\n",
      "original Prediction: swab, swob, mop - confidence 0.23\n"
     ]
    },
    {
     "data": {
      "application/vnd.jupyter.widget-view+json": {
       "model_id": "685a545414b94bcd90f3eae17b7dd3a9",
       "version_major": 2,
       "version_minor": 0
      },
      "text/plain": [
       "PGD - Random Initializations:   0%|          | 0/1 [00:00<?, ?it/s]"
      ]
     },
     "metadata": {},
     "output_type": "display_data"
    },
    {
     "data": {
      "application/vnd.jupyter.widget-view+json": {
       "model_id": "",
       "version_major": 2,
       "version_minor": 0
      },
      "text/plain": [
       "PGD - Iterations:   0%|          | 0/50 [00:00<?, ?it/s]"
      ]
     },
     "metadata": {},
     "output_type": "display_data"
    },
    {
     "name": "stdout",
     "output_type": "stream",
     "text": [
      "Prediction after pert: megalith, megalithic structure - confidence 1.00\n",
      "---------------------------------------------\n",
      "Prediction of adversarial sample after spatial deffense: megalith, megalithic structure - confidence 1.00\n",
      "---------------------------------------------\n",
      "original Prediction: vulture - confidence 0.65\n"
     ]
    },
    {
     "data": {
      "application/vnd.jupyter.widget-view+json": {
       "model_id": "7e296c2b16fa41b7b98381cfbdf07a8b",
       "version_major": 2,
       "version_minor": 0
      },
      "text/plain": [
       "PGD - Random Initializations:   0%|          | 0/1 [00:00<?, ?it/s]"
      ]
     },
     "metadata": {},
     "output_type": "display_data"
    },
    {
     "data": {
      "application/vnd.jupyter.widget-view+json": {
       "model_id": "",
       "version_major": 2,
       "version_minor": 0
      },
      "text/plain": [
       "PGD - Iterations:   0%|          | 0/50 [00:00<?, ?it/s]"
      ]
     },
     "metadata": {},
     "output_type": "display_data"
    },
    {
     "name": "stdout",
     "output_type": "stream",
     "text": [
      "Prediction after pert: sulphur-crested cockatoo, Kakatoe galerita, Cacatua galerita - confidence 1.00\n",
      "---------------------------------------------\n",
      "Prediction of adversarial sample after spatial deffense: sulphur-crested cockatoo, Kakatoe galerita, Cacatua galerita - confidence 1.00\n",
      "---------------------------------------------\n",
      "original Prediction: vulture - confidence 1.00\n"
     ]
    },
    {
     "data": {
      "application/vnd.jupyter.widget-view+json": {
       "model_id": "9ab2b660e24d442684554902ea314364",
       "version_major": 2,
       "version_minor": 0
      },
      "text/plain": [
       "PGD - Random Initializations:   0%|          | 0/1 [00:00<?, ?it/s]"
      ]
     },
     "metadata": {},
     "output_type": "display_data"
    },
    {
     "data": {
      "application/vnd.jupyter.widget-view+json": {
       "model_id": "",
       "version_major": 2,
       "version_minor": 0
      },
      "text/plain": [
       "PGD - Iterations:   0%|          | 0/50 [00:00<?, ?it/s]"
      ]
     },
     "metadata": {},
     "output_type": "display_data"
    },
    {
     "name": "stdout",
     "output_type": "stream",
     "text": [
      "Prediction after pert: hen - confidence 1.00\n",
      "---------------------------------------------\n",
      "Prediction of adversarial sample after spatial deffense: hen - confidence 1.00\n",
      "---------------------------------------------\n",
      "original Prediction: vulture - confidence 1.00\n"
     ]
    },
    {
     "data": {
      "application/vnd.jupyter.widget-view+json": {
       "model_id": "7ecfbb98352140e3b42d74ff7f2dcba7",
       "version_major": 2,
       "version_minor": 0
      },
      "text/plain": [
       "PGD - Random Initializations:   0%|          | 0/1 [00:00<?, ?it/s]"
      ]
     },
     "metadata": {},
     "output_type": "display_data"
    },
    {
     "data": {
      "application/vnd.jupyter.widget-view+json": {
       "model_id": "",
       "version_major": 2,
       "version_minor": 0
      },
      "text/plain": [
       "PGD - Iterations:   0%|          | 0/50 [00:00<?, ?it/s]"
      ]
     },
     "metadata": {},
     "output_type": "display_data"
    },
    {
     "name": "stdout",
     "output_type": "stream",
     "text": [
      "Prediction after pert: ptarmigan - confidence 1.00\n",
      "---------------------------------------------\n",
      "Prediction of adversarial sample after spatial deffense: ptarmigan - confidence 1.00\n",
      "---------------------------------------------\n",
      "original Prediction: great grey owl, great gray owl, Strix nebulosa - confidence 1.00\n"
     ]
    },
    {
     "data": {
      "application/vnd.jupyter.widget-view+json": {
       "model_id": "be7c59c1e73847f0b5108e5720940222",
       "version_major": 2,
       "version_minor": 0
      },
      "text/plain": [
       "PGD - Random Initializations:   0%|          | 0/1 [00:00<?, ?it/s]"
      ]
     },
     "metadata": {},
     "output_type": "display_data"
    },
    {
     "data": {
      "application/vnd.jupyter.widget-view+json": {
       "model_id": "",
       "version_major": 2,
       "version_minor": 0
      },
      "text/plain": [
       "PGD - Iterations:   0%|          | 0/50 [00:00<?, ?it/s]"
      ]
     },
     "metadata": {},
     "output_type": "display_data"
    },
    {
     "name": "stdout",
     "output_type": "stream",
     "text": [
      "Prediction after pert: wombat - confidence 1.00\n",
      "---------------------------------------------\n",
      "Prediction of adversarial sample after spatial deffense: wombat - confidence 1.00\n",
      "---------------------------------------------\n",
      "original Prediction: great grey owl, great gray owl, Strix nebulosa - confidence 1.00\n"
     ]
    },
    {
     "data": {
      "application/vnd.jupyter.widget-view+json": {
       "model_id": "49fae4dd47004a17afb91cc55bad2ce6",
       "version_major": 2,
       "version_minor": 0
      },
      "text/plain": [
       "PGD - Random Initializations:   0%|          | 0/1 [00:00<?, ?it/s]"
      ]
     },
     "metadata": {},
     "output_type": "display_data"
    },
    {
     "data": {
      "application/vnd.jupyter.widget-view+json": {
       "model_id": "",
       "version_major": 2,
       "version_minor": 0
      },
      "text/plain": [
       "PGD - Iterations:   0%|          | 0/50 [00:00<?, ?it/s]"
      ]
     },
     "metadata": {},
     "output_type": "display_data"
    },
    {
     "name": "stdout",
     "output_type": "stream",
     "text": [
      "Prediction after pert: grasshopper, hopper - confidence 0.94\n",
      "---------------------------------------------\n",
      "Prediction of adversarial sample after spatial deffense: grasshopper, hopper - confidence 0.92\n",
      "---------------------------------------------\n",
      "original Prediction: great grey owl, great gray owl, Strix nebulosa - confidence 1.00\n"
     ]
    },
    {
     "data": {
      "application/vnd.jupyter.widget-view+json": {
       "model_id": "3ad442e724a14ca183a7ec5424f7d646",
       "version_major": 2,
       "version_minor": 0
      },
      "text/plain": [
       "PGD - Random Initializations:   0%|          | 0/1 [00:00<?, ?it/s]"
      ]
     },
     "metadata": {},
     "output_type": "display_data"
    },
    {
     "data": {
      "application/vnd.jupyter.widget-view+json": {
       "model_id": "",
       "version_major": 2,
       "version_minor": 0
      },
      "text/plain": [
       "PGD - Iterations:   0%|          | 0/50 [00:00<?, ?it/s]"
      ]
     },
     "metadata": {},
     "output_type": "display_data"
    },
    {
     "name": "stdout",
     "output_type": "stream",
     "text": [
      "Prediction after pert: vase - confidence 1.00\n",
      "---------------------------------------------\n",
      "Prediction of adversarial sample after spatial deffense: vase - confidence 1.00\n",
      "---------------------------------------------\n",
      "original Prediction: great grey owl, great gray owl, Strix nebulosa - confidence 1.00\n"
     ]
    },
    {
     "data": {
      "application/vnd.jupyter.widget-view+json": {
       "model_id": "bb4212d5098f4cc6bd3f2a49fad0f3be",
       "version_major": 2,
       "version_minor": 0
      },
      "text/plain": [
       "PGD - Random Initializations:   0%|          | 0/1 [00:00<?, ?it/s]"
      ]
     },
     "metadata": {},
     "output_type": "display_data"
    },
    {
     "data": {
      "application/vnd.jupyter.widget-view+json": {
       "model_id": "",
       "version_major": 2,
       "version_minor": 0
      },
      "text/plain": [
       "PGD - Iterations:   0%|          | 0/50 [00:00<?, ?it/s]"
      ]
     },
     "metadata": {},
     "output_type": "display_data"
    },
    {
     "name": "stdout",
     "output_type": "stream",
     "text": [
      "Prediction after pert: African grey, African gray, Psittacus erithacus - confidence 1.00\n",
      "---------------------------------------------\n",
      "Prediction of adversarial sample after spatial deffense: African grey, African gray, Psittacus erithacus - confidence 1.00\n",
      "---------------------------------------------\n",
      "original Prediction: great grey owl, great gray owl, Strix nebulosa - confidence 1.00\n"
     ]
    },
    {
     "data": {
      "application/vnd.jupyter.widget-view+json": {
       "model_id": "200a504e4b1c485c83123f6a08d4dd34",
       "version_major": 2,
       "version_minor": 0
      },
      "text/plain": [
       "PGD - Random Initializations:   0%|          | 0/1 [00:00<?, ?it/s]"
      ]
     },
     "metadata": {},
     "output_type": "display_data"
    },
    {
     "data": {
      "application/vnd.jupyter.widget-view+json": {
       "model_id": "",
       "version_major": 2,
       "version_minor": 0
      },
      "text/plain": [
       "PGD - Iterations:   0%|          | 0/50 [00:00<?, ?it/s]"
      ]
     },
     "metadata": {},
     "output_type": "display_data"
    },
    {
     "name": "stdout",
     "output_type": "stream",
     "text": [
      "Prediction after pert: snow leopard, ounce, Panthera uncia - confidence 1.00\n",
      "---------------------------------------------\n",
      "Prediction of adversarial sample after spatial deffense: snow leopard, ounce, Panthera uncia - confidence 1.00\n",
      "---------------------------------------------\n",
      "original Prediction: great grey owl, great gray owl, Strix nebulosa - confidence 0.99\n"
     ]
    },
    {
     "data": {
      "application/vnd.jupyter.widget-view+json": {
       "model_id": "c660a51fd632490d83e928ba206f5832",
       "version_major": 2,
       "version_minor": 0
      },
      "text/plain": [
       "PGD - Random Initializations:   0%|          | 0/1 [00:00<?, ?it/s]"
      ]
     },
     "metadata": {},
     "output_type": "display_data"
    },
    {
     "data": {
      "application/vnd.jupyter.widget-view+json": {
       "model_id": "",
       "version_major": 2,
       "version_minor": 0
      },
      "text/plain": [
       "PGD - Iterations:   0%|          | 0/50 [00:00<?, ?it/s]"
      ]
     },
     "metadata": {},
     "output_type": "display_data"
    },
    {
     "name": "stdout",
     "output_type": "stream",
     "text": [
      "Prediction after pert: spiny lobster, langouste, rock lobster, crawfish, crayfish, sea crawfish - confidence 1.00\n",
      "---------------------------------------------\n",
      "Prediction of adversarial sample after spatial deffense: spiny lobster, langouste, rock lobster, crawfish, crayfish, sea crawfish - confidence 1.00\n",
      "---------------------------------------------\n",
      "original Prediction: European fire salamander, Salamandra salamandra - confidence 1.00\n"
     ]
    },
    {
     "data": {
      "application/vnd.jupyter.widget-view+json": {
       "model_id": "deeb5f31bd5841c2a7be05b7ebd602bc",
       "version_major": 2,
       "version_minor": 0
      },
      "text/plain": [
       "PGD - Random Initializations:   0%|          | 0/1 [00:00<?, ?it/s]"
      ]
     },
     "metadata": {},
     "output_type": "display_data"
    },
    {
     "data": {
      "application/vnd.jupyter.widget-view+json": {
       "model_id": "",
       "version_major": 2,
       "version_minor": 0
      },
      "text/plain": [
       "PGD - Iterations:   0%|          | 0/50 [00:00<?, ?it/s]"
      ]
     },
     "metadata": {},
     "output_type": "display_data"
    },
    {
     "name": "stdout",
     "output_type": "stream",
     "text": [
      "Prediction after pert: leaf beetle, chrysomelid - confidence 1.00\n",
      "---------------------------------------------\n",
      "Prediction of adversarial sample after spatial deffense: leaf beetle, chrysomelid - confidence 1.00\n",
      "---------------------------------------------\n",
      "original Prediction: European fire salamander, Salamandra salamandra - confidence 0.94\n"
     ]
    },
    {
     "data": {
      "application/vnd.jupyter.widget-view+json": {
       "model_id": "ff669983625f4e95a236c5b4bb5178d2",
       "version_major": 2,
       "version_minor": 0
      },
      "text/plain": [
       "PGD - Random Initializations:   0%|          | 0/1 [00:00<?, ?it/s]"
      ]
     },
     "metadata": {},
     "output_type": "display_data"
    },
    {
     "data": {
      "application/vnd.jupyter.widget-view+json": {
       "model_id": "",
       "version_major": 2,
       "version_minor": 0
      },
      "text/plain": [
       "PGD - Iterations:   0%|          | 0/50 [00:00<?, ?it/s]"
      ]
     },
     "metadata": {},
     "output_type": "display_data"
    },
    {
     "name": "stdout",
     "output_type": "stream",
     "text": [
      "Prediction after pert: bee - confidence 1.00\n",
      "---------------------------------------------\n",
      "Prediction of adversarial sample after spatial deffense: bee - confidence 1.00\n",
      "---------------------------------------------\n",
      "original Prediction: European fire salamander, Salamandra salamandra - confidence 0.98\n"
     ]
    },
    {
     "data": {
      "application/vnd.jupyter.widget-view+json": {
       "model_id": "75eca419677c4207ba2961f83dd84022",
       "version_major": 2,
       "version_minor": 0
      },
      "text/plain": [
       "PGD - Random Initializations:   0%|          | 0/1 [00:00<?, ?it/s]"
      ]
     },
     "metadata": {},
     "output_type": "display_data"
    },
    {
     "data": {
      "application/vnd.jupyter.widget-view+json": {
       "model_id": "",
       "version_major": 2,
       "version_minor": 0
      },
      "text/plain": [
       "PGD - Iterations:   0%|          | 0/50 [00:00<?, ?it/s]"
      ]
     },
     "metadata": {},
     "output_type": "display_data"
    },
    {
     "name": "stdout",
     "output_type": "stream",
     "text": [
      "Prediction after pert: spotted salamander, Ambystoma maculatum - confidence 1.00\n",
      "---------------------------------------------\n",
      "Prediction of adversarial sample after spatial deffense: spotted salamander, Ambystoma maculatum - confidence 1.00\n",
      "---------------------------------------------\n",
      "original Prediction: European fire salamander, Salamandra salamandra - confidence 0.98\n"
     ]
    },
    {
     "data": {
      "application/vnd.jupyter.widget-view+json": {
       "model_id": "93933ac44c1f44c596f0e0f062e60a21",
       "version_major": 2,
       "version_minor": 0
      },
      "text/plain": [
       "PGD - Random Initializations:   0%|          | 0/1 [00:00<?, ?it/s]"
      ]
     },
     "metadata": {},
     "output_type": "display_data"
    },
    {
     "data": {
      "application/vnd.jupyter.widget-view+json": {
       "model_id": "",
       "version_major": 2,
       "version_minor": 0
      },
      "text/plain": [
       "PGD - Iterations:   0%|          | 0/50 [00:00<?, ?it/s]"
      ]
     },
     "metadata": {},
     "output_type": "display_data"
    },
    {
     "name": "stdout",
     "output_type": "stream",
     "text": [
      "Prediction after pert: rock beauty, Holocanthus tricolor - confidence 1.00\n",
      "---------------------------------------------\n",
      "Prediction of adversarial sample after spatial deffense: rock beauty, Holocanthus tricolor - confidence 1.00\n",
      "---------------------------------------------\n",
      "original Prediction: European fire salamander, Salamandra salamandra - confidence 1.00\n"
     ]
    },
    {
     "data": {
      "application/vnd.jupyter.widget-view+json": {
       "model_id": "17fb9fd81ef24afbb7338649b72cac7c",
       "version_major": 2,
       "version_minor": 0
      },
      "text/plain": [
       "PGD - Random Initializations:   0%|          | 0/1 [00:00<?, ?it/s]"
      ]
     },
     "metadata": {},
     "output_type": "display_data"
    },
    {
     "data": {
      "application/vnd.jupyter.widget-view+json": {
       "model_id": "",
       "version_major": 2,
       "version_minor": 0
      },
      "text/plain": [
       "PGD - Iterations:   0%|          | 0/50 [00:00<?, ?it/s]"
      ]
     },
     "metadata": {},
     "output_type": "display_data"
    },
    {
     "name": "stdout",
     "output_type": "stream",
     "text": [
      "Prediction after pert: leaf beetle, chrysomelid - confidence 1.00\n",
      "---------------------------------------------\n",
      "Prediction of adversarial sample after spatial deffense: leaf beetle, chrysomelid - confidence 1.00\n",
      "---------------------------------------------\n",
      "original Prediction: European fire salamander, Salamandra salamandra - confidence 0.99\n"
     ]
    },
    {
     "data": {
      "application/vnd.jupyter.widget-view+json": {
       "model_id": "aeb1bd8ea6f24790b5b55f17621ac520",
       "version_major": 2,
       "version_minor": 0
      },
      "text/plain": [
       "PGD - Random Initializations:   0%|          | 0/1 [00:00<?, ?it/s]"
      ]
     },
     "metadata": {},
     "output_type": "display_data"
    },
    {
     "data": {
      "application/vnd.jupyter.widget-view+json": {
       "model_id": "",
       "version_major": 2,
       "version_minor": 0
      },
      "text/plain": [
       "PGD - Iterations:   0%|          | 0/50 [00:00<?, ?it/s]"
      ]
     },
     "metadata": {},
     "output_type": "display_data"
    },
    {
     "name": "stdout",
     "output_type": "stream",
     "text": [
      "Prediction after pert: spotted salamander, Ambystoma maculatum - confidence 1.00\n",
      "---------------------------------------------\n",
      "Prediction of adversarial sample after spatial deffense: spotted salamander, Ambystoma maculatum - confidence 1.00\n",
      "---------------------------------------------\n",
      "original Prediction: spotted salamander, Ambystoma maculatum - confidence 0.78\n"
     ]
    },
    {
     "data": {
      "application/vnd.jupyter.widget-view+json": {
       "model_id": "7a719012a87b4b8cbe765f8ffb2810ff",
       "version_major": 2,
       "version_minor": 0
      },
      "text/plain": [
       "PGD - Random Initializations:   0%|          | 0/1 [00:00<?, ?it/s]"
      ]
     },
     "metadata": {},
     "output_type": "display_data"
    },
    {
     "data": {
      "application/vnd.jupyter.widget-view+json": {
       "model_id": "",
       "version_major": 2,
       "version_minor": 0
      },
      "text/plain": [
       "PGD - Iterations:   0%|          | 0/50 [00:00<?, ?it/s]"
      ]
     },
     "metadata": {},
     "output_type": "display_data"
    },
    {
     "name": "stdout",
     "output_type": "stream",
     "text": [
      "Prediction after pert: centipede - confidence 1.00\n",
      "---------------------------------------------\n",
      "Prediction of adversarial sample after spatial deffense: centipede - confidence 1.00\n",
      "---------------------------------------------\n",
      "original Prediction: common newt, Triturus vulgaris - confidence 0.10\n"
     ]
    },
    {
     "data": {
      "application/vnd.jupyter.widget-view+json": {
       "model_id": "8ffaa4af31d2430b8799a9881db24642",
       "version_major": 2,
       "version_minor": 0
      },
      "text/plain": [
       "PGD - Random Initializations:   0%|          | 0/1 [00:00<?, ?it/s]"
      ]
     },
     "metadata": {},
     "output_type": "display_data"
    },
    {
     "data": {
      "application/vnd.jupyter.widget-view+json": {
       "model_id": "",
       "version_major": 2,
       "version_minor": 0
      },
      "text/plain": [
       "PGD - Iterations:   0%|          | 0/50 [00:00<?, ?it/s]"
      ]
     },
     "metadata": {},
     "output_type": "display_data"
    },
    {
     "name": "stdout",
     "output_type": "stream",
     "text": [
      "Prediction after pert: custard apple - confidence 1.00\n",
      "---------------------------------------------\n",
      "Prediction of adversarial sample after spatial deffense: custard apple - confidence 1.00\n",
      "---------------------------------------------\n",
      "original Prediction: alligator lizard - confidence 0.22\n"
     ]
    },
    {
     "data": {
      "application/vnd.jupyter.widget-view+json": {
       "model_id": "cabe5360c7014a6cb7e53a2a693c8905",
       "version_major": 2,
       "version_minor": 0
      },
      "text/plain": [
       "PGD - Random Initializations:   0%|          | 0/1 [00:00<?, ?it/s]"
      ]
     },
     "metadata": {},
     "output_type": "display_data"
    },
    {
     "data": {
      "application/vnd.jupyter.widget-view+json": {
       "model_id": "",
       "version_major": 2,
       "version_minor": 0
      },
      "text/plain": [
       "PGD - Iterations:   0%|          | 0/50 [00:00<?, ?it/s]"
      ]
     },
     "metadata": {},
     "output_type": "display_data"
    },
    {
     "name": "stdout",
     "output_type": "stream",
     "text": [
      "Prediction after pert: axolotl, mud puppy, Ambystoma mexicanum - confidence 1.00\n",
      "---------------------------------------------\n",
      "Prediction of adversarial sample after spatial deffense: axolotl, mud puppy, Ambystoma mexicanum - confidence 1.00\n",
      "---------------------------------------------\n",
      "original Prediction: common newt, Triturus vulgaris - confidence 0.82\n"
     ]
    },
    {
     "data": {
      "application/vnd.jupyter.widget-view+json": {
       "model_id": "552adec63cb94e9faf6a892cc28d0258",
       "version_major": 2,
       "version_minor": 0
      },
      "text/plain": [
       "PGD - Random Initializations:   0%|          | 0/1 [00:00<?, ?it/s]"
      ]
     },
     "metadata": {},
     "output_type": "display_data"
    },
    {
     "data": {
      "application/vnd.jupyter.widget-view+json": {
       "model_id": "",
       "version_major": 2,
       "version_minor": 0
      },
      "text/plain": [
       "PGD - Iterations:   0%|          | 0/50 [00:00<?, ?it/s]"
      ]
     },
     "metadata": {},
     "output_type": "display_data"
    },
    {
     "name": "stdout",
     "output_type": "stream",
     "text": [
      "Prediction after pert: axolotl, mud puppy, Ambystoma mexicanum - confidence 1.00\n",
      "---------------------------------------------\n",
      "Prediction of adversarial sample after spatial deffense: axolotl, mud puppy, Ambystoma mexicanum - confidence 1.00\n",
      "---------------------------------------------\n",
      "original Prediction: common newt, Triturus vulgaris - confidence 0.36\n"
     ]
    },
    {
     "data": {
      "application/vnd.jupyter.widget-view+json": {
       "model_id": "7eb16f97335e4939aab7664c8ff76479",
       "version_major": 2,
       "version_minor": 0
      },
      "text/plain": [
       "PGD - Random Initializations:   0%|          | 0/1 [00:00<?, ?it/s]"
      ]
     },
     "metadata": {},
     "output_type": "display_data"
    },
    {
     "data": {
      "application/vnd.jupyter.widget-view+json": {
       "model_id": "",
       "version_major": 2,
       "version_minor": 0
      },
      "text/plain": [
       "PGD - Iterations:   0%|          | 0/50 [00:00<?, ?it/s]"
      ]
     },
     "metadata": {},
     "output_type": "display_data"
    },
    {
     "name": "stdout",
     "output_type": "stream",
     "text": [
      "Prediction after pert: vault - confidence 1.00\n",
      "---------------------------------------------\n",
      "Prediction of adversarial sample after spatial deffense: vault - confidence 1.00\n",
      "---------------------------------------------\n",
      "original Prediction: common newt, Triturus vulgaris - confidence 0.34\n"
     ]
    },
    {
     "data": {
      "application/vnd.jupyter.widget-view+json": {
       "model_id": "267f51e0523c47488c63ccc4deeb8d13",
       "version_major": 2,
       "version_minor": 0
      },
      "text/plain": [
       "PGD - Random Initializations:   0%|          | 0/1 [00:00<?, ?it/s]"
      ]
     },
     "metadata": {},
     "output_type": "display_data"
    },
    {
     "data": {
      "application/vnd.jupyter.widget-view+json": {
       "model_id": "",
       "version_major": 2,
       "version_minor": 0
      },
      "text/plain": [
       "PGD - Iterations:   0%|          | 0/50 [00:00<?, ?it/s]"
      ]
     },
     "metadata": {},
     "output_type": "display_data"
    },
    {
     "name": "stdout",
     "output_type": "stream",
     "text": [
      "Prediction after pert: loggerhead, loggerhead turtle, Caretta caretta - confidence 1.00\n",
      "---------------------------------------------\n",
      "Prediction of adversarial sample after spatial deffense: loggerhead, loggerhead turtle, Caretta caretta - confidence 1.00\n",
      "---------------------------------------------\n",
      "original Prediction: eft - confidence 0.83\n"
     ]
    },
    {
     "data": {
      "application/vnd.jupyter.widget-view+json": {
       "model_id": "ff771f4a36eb49d2ad0d0b53f6a5cca0",
       "version_major": 2,
       "version_minor": 0
      },
      "text/plain": [
       "PGD - Random Initializations:   0%|          | 0/1 [00:00<?, ?it/s]"
      ]
     },
     "metadata": {},
     "output_type": "display_data"
    },
    {
     "data": {
      "application/vnd.jupyter.widget-view+json": {
       "model_id": "",
       "version_major": 2,
       "version_minor": 0
      },
      "text/plain": [
       "PGD - Iterations:   0%|          | 0/50 [00:00<?, ?it/s]"
      ]
     },
     "metadata": {},
     "output_type": "display_data"
    },
    {
     "name": "stdout",
     "output_type": "stream",
     "text": [
      "Prediction after pert: red wolf, maned wolf, Canis rufus, Canis niger - confidence 1.00\n",
      "---------------------------------------------\n",
      "Prediction of adversarial sample after spatial deffense: red wolf, maned wolf, Canis rufus, Canis niger - confidence 0.99\n",
      "---------------------------------------------\n",
      "original Prediction: eft - confidence 0.62\n"
     ]
    },
    {
     "data": {
      "application/vnd.jupyter.widget-view+json": {
       "model_id": "9485962fa2cf452e8f9a80c6cfc4ee3f",
       "version_major": 2,
       "version_minor": 0
      },
      "text/plain": [
       "PGD - Random Initializations:   0%|          | 0/1 [00:00<?, ?it/s]"
      ]
     },
     "metadata": {},
     "output_type": "display_data"
    },
    {
     "data": {
      "application/vnd.jupyter.widget-view+json": {
       "model_id": "",
       "version_major": 2,
       "version_minor": 0
      },
      "text/plain": [
       "PGD - Iterations:   0%|          | 0/50 [00:00<?, ?it/s]"
      ]
     },
     "metadata": {},
     "output_type": "display_data"
    },
    {
     "name": "stdout",
     "output_type": "stream",
     "text": [
      "Prediction after pert: English setter - confidence 1.00\n",
      "---------------------------------------------\n",
      "Prediction of adversarial sample after spatial deffense: English setter - confidence 1.00\n",
      "---------------------------------------------\n",
      "original Prediction: eft - confidence 0.91\n"
     ]
    },
    {
     "data": {
      "application/vnd.jupyter.widget-view+json": {
       "model_id": "fc3a6e18b06f4cf18eb3e85b05574ac3",
       "version_major": 2,
       "version_minor": 0
      },
      "text/plain": [
       "PGD - Random Initializations:   0%|          | 0/1 [00:00<?, ?it/s]"
      ]
     },
     "metadata": {},
     "output_type": "display_data"
    },
    {
     "data": {
      "application/vnd.jupyter.widget-view+json": {
       "model_id": "",
       "version_major": 2,
       "version_minor": 0
      },
      "text/plain": [
       "PGD - Iterations:   0%|          | 0/50 [00:00<?, ?it/s]"
      ]
     },
     "metadata": {},
     "output_type": "display_data"
    },
    {
     "name": "stdout",
     "output_type": "stream",
     "text": [
      "Prediction after pert: triceratops - confidence 1.00\n",
      "---------------------------------------------\n",
      "Prediction of adversarial sample after spatial deffense: triceratops - confidence 1.00\n",
      "---------------------------------------------\n",
      "original Prediction: eft - confidence 0.83\n"
     ]
    },
    {
     "data": {
      "application/vnd.jupyter.widget-view+json": {
       "model_id": "1132ecdeac31470199128cc1c306e325",
       "version_major": 2,
       "version_minor": 0
      },
      "text/plain": [
       "PGD - Random Initializations:   0%|          | 0/1 [00:00<?, ?it/s]"
      ]
     },
     "metadata": {},
     "output_type": "display_data"
    },
    {
     "data": {
      "application/vnd.jupyter.widget-view+json": {
       "model_id": "",
       "version_major": 2,
       "version_minor": 0
      },
      "text/plain": [
       "PGD - Iterations:   0%|          | 0/50 [00:00<?, ?it/s]"
      ]
     },
     "metadata": {},
     "output_type": "display_data"
    },
    {
     "name": "stdout",
     "output_type": "stream",
     "text": [
      "Prediction after pert: common iguana, iguana, Iguana iguana - confidence 1.00\n",
      "---------------------------------------------\n",
      "Prediction of adversarial sample after spatial deffense: common iguana, iguana, Iguana iguana - confidence 1.00\n",
      "---------------------------------------------\n",
      "original Prediction: eft - confidence 0.97\n"
     ]
    },
    {
     "data": {
      "application/vnd.jupyter.widget-view+json": {
       "model_id": "a6984ab5d6bc4636885ff2f2910d460c",
       "version_major": 2,
       "version_minor": 0
      },
      "text/plain": [
       "PGD - Random Initializations:   0%|          | 0/1 [00:00<?, ?it/s]"
      ]
     },
     "metadata": {},
     "output_type": "display_data"
    },
    {
     "data": {
      "application/vnd.jupyter.widget-view+json": {
       "model_id": "",
       "version_major": 2,
       "version_minor": 0
      },
      "text/plain": [
       "PGD - Iterations:   0%|          | 0/50 [00:00<?, ?it/s]"
      ]
     },
     "metadata": {},
     "output_type": "display_data"
    },
    {
     "name": "stdout",
     "output_type": "stream",
     "text": [
      "Prediction after pert: long-horned beetle, longicorn, longicorn beetle - confidence 1.00\n",
      "---------------------------------------------\n",
      "Prediction of adversarial sample after spatial deffense: long-horned beetle, longicorn, longicorn beetle - confidence 1.00\n",
      "---------------------------------------------\n",
      "original Prediction: coyote, prairie wolf, brush wolf, Canis latrans - confidence 0.15\n"
     ]
    },
    {
     "data": {
      "application/vnd.jupyter.widget-view+json": {
       "model_id": "67a703e697f848beaab156b977f5e089",
       "version_major": 2,
       "version_minor": 0
      },
      "text/plain": [
       "PGD - Random Initializations:   0%|          | 0/1 [00:00<?, ?it/s]"
      ]
     },
     "metadata": {},
     "output_type": "display_data"
    },
    {
     "data": {
      "application/vnd.jupyter.widget-view+json": {
       "model_id": "",
       "version_major": 2,
       "version_minor": 0
      },
      "text/plain": [
       "PGD - Iterations:   0%|          | 0/50 [00:00<?, ?it/s]"
      ]
     },
     "metadata": {},
     "output_type": "display_data"
    },
    {
     "name": "stdout",
     "output_type": "stream",
     "text": [
      "Prediction after pert: thatch, thatched roof - confidence 1.00\n",
      "---------------------------------------------\n",
      "Prediction of adversarial sample after spatial deffense: thatch, thatched roof - confidence 1.00\n",
      "---------------------------------------------\n",
      "original Prediction: Gila monster, Heloderma suspectum - confidence 0.30\n"
     ]
    },
    {
     "data": {
      "application/vnd.jupyter.widget-view+json": {
       "model_id": "9144ec878ef849ae87d97b8de48d2278",
       "version_major": 2,
       "version_minor": 0
      },
      "text/plain": [
       "PGD - Random Initializations:   0%|          | 0/1 [00:00<?, ?it/s]"
      ]
     },
     "metadata": {},
     "output_type": "display_data"
    },
    {
     "data": {
      "application/vnd.jupyter.widget-view+json": {
       "model_id": "",
       "version_major": 2,
       "version_minor": 0
      },
      "text/plain": [
       "PGD - Iterations:   0%|          | 0/50 [00:00<?, ?it/s]"
      ]
     },
     "metadata": {},
     "output_type": "display_data"
    },
    {
     "name": "stdout",
     "output_type": "stream",
     "text": [
      "Prediction after pert: cleaver, meat cleaver, chopper - confidence 1.00\n",
      "---------------------------------------------\n",
      "Prediction of adversarial sample after spatial deffense: cleaver, meat cleaver, chopper - confidence 1.00\n",
      "---------------------------------------------\n",
      "original Prediction: spiny lobster, langouste, rock lobster, crawfish, crayfish, sea crawfish - confidence 0.20\n"
     ]
    },
    {
     "data": {
      "application/vnd.jupyter.widget-view+json": {
       "model_id": "c8a99fd5040f4e3aa7cbeb12b223fc48",
       "version_major": 2,
       "version_minor": 0
      },
      "text/plain": [
       "PGD - Random Initializations:   0%|          | 0/1 [00:00<?, ?it/s]"
      ]
     },
     "metadata": {},
     "output_type": "display_data"
    },
    {
     "data": {
      "application/vnd.jupyter.widget-view+json": {
       "model_id": "",
       "version_major": 2,
       "version_minor": 0
      },
      "text/plain": [
       "PGD - Iterations:   0%|          | 0/50 [00:00<?, ?it/s]"
      ]
     },
     "metadata": {},
     "output_type": "display_data"
    },
    {
     "name": "stdout",
     "output_type": "stream",
     "text": [
      "Prediction after pert: mud turtle - confidence 0.93\n",
      "---------------------------------------------\n",
      "Prediction of adversarial sample after spatial deffense: mud turtle - confidence 0.88\n",
      "---------------------------------------------\n",
      "original Prediction: spotted salamander, Ambystoma maculatum - confidence 0.58\n"
     ]
    },
    {
     "data": {
      "application/vnd.jupyter.widget-view+json": {
       "model_id": "e83ff16b5cd94780bf321a22158403c0",
       "version_major": 2,
       "version_minor": 0
      },
      "text/plain": [
       "PGD - Random Initializations:   0%|          | 0/1 [00:00<?, ?it/s]"
      ]
     },
     "metadata": {},
     "output_type": "display_data"
    },
    {
     "data": {
      "application/vnd.jupyter.widget-view+json": {
       "model_id": "",
       "version_major": 2,
       "version_minor": 0
      },
      "text/plain": [
       "PGD - Iterations:   0%|          | 0/50 [00:00<?, ?it/s]"
      ]
     },
     "metadata": {},
     "output_type": "display_data"
    },
    {
     "name": "stdout",
     "output_type": "stream",
     "text": [
      "Prediction after pert: European fire salamander, Salamandra salamandra - confidence 1.00\n",
      "---------------------------------------------\n",
      "Prediction of adversarial sample after spatial deffense: European fire salamander, Salamandra salamandra - confidence 1.00\n",
      "---------------------------------------------\n",
      "original Prediction: European fire salamander, Salamandra salamandra - confidence 0.25\n"
     ]
    },
    {
     "data": {
      "application/vnd.jupyter.widget-view+json": {
       "model_id": "a652a461f9d347078a6ac0c0e87607a2",
       "version_major": 2,
       "version_minor": 0
      },
      "text/plain": [
       "PGD - Random Initializations:   0%|          | 0/1 [00:00<?, ?it/s]"
      ]
     },
     "metadata": {},
     "output_type": "display_data"
    },
    {
     "data": {
      "application/vnd.jupyter.widget-view+json": {
       "model_id": "",
       "version_major": 2,
       "version_minor": 0
      },
      "text/plain": [
       "PGD - Iterations:   0%|          | 0/50 [00:00<?, ?it/s]"
      ]
     },
     "metadata": {},
     "output_type": "display_data"
    },
    {
     "name": "stdout",
     "output_type": "stream",
     "text": [
      "Prediction after pert: flatworm, platyhelminth - confidence 1.00\n",
      "---------------------------------------------\n",
      "Prediction of adversarial sample after spatial deffense: flatworm, platyhelminth - confidence 1.00\n",
      "---------------------------------------------\n",
      "original Prediction: spotted salamander, Ambystoma maculatum - confidence 1.00\n"
     ]
    },
    {
     "data": {
      "application/vnd.jupyter.widget-view+json": {
       "model_id": "2050ee1203094ea78630f2a68317e302",
       "version_major": 2,
       "version_minor": 0
      },
      "text/plain": [
       "PGD - Random Initializations:   0%|          | 0/1 [00:00<?, ?it/s]"
      ]
     },
     "metadata": {},
     "output_type": "display_data"
    },
    {
     "data": {
      "application/vnd.jupyter.widget-view+json": {
       "model_id": "",
       "version_major": 2,
       "version_minor": 0
      },
      "text/plain": [
       "PGD - Iterations:   0%|          | 0/50 [00:00<?, ?it/s]"
      ]
     },
     "metadata": {},
     "output_type": "display_data"
    },
    {
     "name": "stdout",
     "output_type": "stream",
     "text": [
      "Prediction after pert: European fire salamander, Salamandra salamandra - confidence 1.00\n",
      "---------------------------------------------\n",
      "Prediction of adversarial sample after spatial deffense: European fire salamander, Salamandra salamandra - confidence 1.00\n",
      "---------------------------------------------\n",
      "original Prediction: spotted salamander, Ambystoma maculatum - confidence 0.69\n"
     ]
    },
    {
     "data": {
      "application/vnd.jupyter.widget-view+json": {
       "model_id": "c2bb7994562c4ecb999c34bccb41c42b",
       "version_major": 2,
       "version_minor": 0
      },
      "text/plain": [
       "PGD - Random Initializations:   0%|          | 0/1 [00:00<?, ?it/s]"
      ]
     },
     "metadata": {},
     "output_type": "display_data"
    },
    {
     "data": {
      "application/vnd.jupyter.widget-view+json": {
       "model_id": "",
       "version_major": 2,
       "version_minor": 0
      },
      "text/plain": [
       "PGD - Iterations:   0%|          | 0/50 [00:00<?, ?it/s]"
      ]
     },
     "metadata": {},
     "output_type": "display_data"
    },
    {
     "name": "stdout",
     "output_type": "stream",
     "text": [
      "Prediction after pert: tiger beetle - confidence 1.00\n",
      "---------------------------------------------\n",
      "Prediction of adversarial sample after spatial deffense: tiger beetle - confidence 1.00\n",
      "---------------------------------------------\n",
      "original Prediction: axolotl, mud puppy, Ambystoma mexicanum - confidence 0.70\n"
     ]
    },
    {
     "data": {
      "application/vnd.jupyter.widget-view+json": {
       "model_id": "e97c34a36e5c46a68c9539e2bcd67e6d",
       "version_major": 2,
       "version_minor": 0
      },
      "text/plain": [
       "PGD - Random Initializations:   0%|          | 0/1 [00:00<?, ?it/s]"
      ]
     },
     "metadata": {},
     "output_type": "display_data"
    },
    {
     "data": {
      "application/vnd.jupyter.widget-view+json": {
       "model_id": "",
       "version_major": 2,
       "version_minor": 0
      },
      "text/plain": [
       "PGD - Iterations:   0%|          | 0/50 [00:00<?, ?it/s]"
      ]
     },
     "metadata": {},
     "output_type": "display_data"
    },
    {
     "name": "stdout",
     "output_type": "stream",
     "text": [
      "Prediction after pert: goldfish, Carassius auratus - confidence 1.00\n",
      "---------------------------------------------\n",
      "Prediction of adversarial sample after spatial deffense: goldfish, Carassius auratus - confidence 1.00\n",
      "---------------------------------------------\n",
      "original Prediction: isopod - confidence 0.27\n"
     ]
    },
    {
     "data": {
      "application/vnd.jupyter.widget-view+json": {
       "model_id": "feeef4c0059d44f6892f636c488eefd3",
       "version_major": 2,
       "version_minor": 0
      },
      "text/plain": [
       "PGD - Random Initializations:   0%|          | 0/1 [00:00<?, ?it/s]"
      ]
     },
     "metadata": {},
     "output_type": "display_data"
    },
    {
     "data": {
      "application/vnd.jupyter.widget-view+json": {
       "model_id": "",
       "version_major": 2,
       "version_minor": 0
      },
      "text/plain": [
       "PGD - Iterations:   0%|          | 0/50 [00:00<?, ?it/s]"
      ]
     },
     "metadata": {},
     "output_type": "display_data"
    },
    {
     "name": "stdout",
     "output_type": "stream",
     "text": [
      "Prediction after pert: menu - confidence 1.00\n",
      "---------------------------------------------\n",
      "Prediction of adversarial sample after spatial deffense: menu - confidence 1.00\n",
      "---------------------------------------------\n",
      "original Prediction: altar - confidence 0.07\n"
     ]
    },
    {
     "data": {
      "application/vnd.jupyter.widget-view+json": {
       "model_id": "4adcea7767184242acc7f20173e4c7bf",
       "version_major": 2,
       "version_minor": 0
      },
      "text/plain": [
       "PGD - Random Initializations:   0%|          | 0/1 [00:00<?, ?it/s]"
      ]
     },
     "metadata": {},
     "output_type": "display_data"
    },
    {
     "data": {
      "application/vnd.jupyter.widget-view+json": {
       "model_id": "",
       "version_major": 2,
       "version_minor": 0
      },
      "text/plain": [
       "PGD - Iterations:   0%|          | 0/50 [00:00<?, ?it/s]"
      ]
     },
     "metadata": {},
     "output_type": "display_data"
    },
    {
     "name": "stdout",
     "output_type": "stream",
     "text": [
      "Prediction after pert: mongoose - confidence 1.00\n",
      "---------------------------------------------\n",
      "Prediction of adversarial sample after spatial deffense: mongoose - confidence 1.00\n",
      "---------------------------------------------\n",
      "original Prediction: axolotl, mud puppy, Ambystoma mexicanum - confidence 1.00\n"
     ]
    },
    {
     "data": {
      "application/vnd.jupyter.widget-view+json": {
       "model_id": "15c54ae43a2a4288819cf92add2058f1",
       "version_major": 2,
       "version_minor": 0
      },
      "text/plain": [
       "PGD - Random Initializations:   0%|          | 0/1 [00:00<?, ?it/s]"
      ]
     },
     "metadata": {},
     "output_type": "display_data"
    },
    {
     "data": {
      "application/vnd.jupyter.widget-view+json": {
       "model_id": "",
       "version_major": 2,
       "version_minor": 0
      },
      "text/plain": [
       "PGD - Iterations:   0%|          | 0/50 [00:00<?, ?it/s]"
      ]
     },
     "metadata": {},
     "output_type": "display_data"
    },
    {
     "name": "stdout",
     "output_type": "stream",
     "text": [
      "Prediction after pert: goldfish, Carassius auratus - confidence 1.00\n",
      "---------------------------------------------\n",
      "Prediction of adversarial sample after spatial deffense: goldfish, Carassius auratus - confidence 1.00\n",
      "---------------------------------------------\n",
      "original Prediction: axolotl, mud puppy, Ambystoma mexicanum - confidence 1.00\n"
     ]
    },
    {
     "data": {
      "application/vnd.jupyter.widget-view+json": {
       "model_id": "dba9c40186c24d6092a0f5a970290236",
       "version_major": 2,
       "version_minor": 0
      },
      "text/plain": [
       "PGD - Random Initializations:   0%|          | 0/1 [00:00<?, ?it/s]"
      ]
     },
     "metadata": {},
     "output_type": "display_data"
    },
    {
     "data": {
      "application/vnd.jupyter.widget-view+json": {
       "model_id": "",
       "version_major": 2,
       "version_minor": 0
      },
      "text/plain": [
       "PGD - Iterations:   0%|          | 0/50 [00:00<?, ?it/s]"
      ]
     },
     "metadata": {},
     "output_type": "display_data"
    },
    {
     "name": "stdout",
     "output_type": "stream",
     "text": [
      "Prediction after pert: mountain bike, all-terrain bike, off-roader - confidence 1.00\n",
      "---------------------------------------------\n",
      "Prediction of adversarial sample after spatial deffense: mountain bike, all-terrain bike, off-roader - confidence 1.00\n",
      "---------------------------------------------\n",
      "original Prediction: axolotl, mud puppy, Ambystoma mexicanum - confidence 1.00\n"
     ]
    },
    {
     "data": {
      "application/vnd.jupyter.widget-view+json": {
       "model_id": "bc35a7cc286c4a909f1795befbe32165",
       "version_major": 2,
       "version_minor": 0
      },
      "text/plain": [
       "PGD - Random Initializations:   0%|          | 0/1 [00:00<?, ?it/s]"
      ]
     },
     "metadata": {},
     "output_type": "display_data"
    },
    {
     "data": {
      "application/vnd.jupyter.widget-view+json": {
       "model_id": "",
       "version_major": 2,
       "version_minor": 0
      },
      "text/plain": [
       "PGD - Iterations:   0%|          | 0/50 [00:00<?, ?it/s]"
      ]
     },
     "metadata": {},
     "output_type": "display_data"
    },
    {
     "name": "stdout",
     "output_type": "stream",
     "text": [
      "Prediction after pert: conch - confidence 1.00\n",
      "---------------------------------------------\n",
      "Prediction of adversarial sample after spatial deffense: conch - confidence 1.00\n",
      "---------------------------------------------\n",
      "original Prediction: bullfrog, Rana catesbeiana - confidence 0.99\n"
     ]
    },
    {
     "data": {
      "application/vnd.jupyter.widget-view+json": {
       "model_id": "f3ed3bf9cd9949fd87b52935528ba9f5",
       "version_major": 2,
       "version_minor": 0
      },
      "text/plain": [
       "PGD - Random Initializations:   0%|          | 0/1 [00:00<?, ?it/s]"
      ]
     },
     "metadata": {},
     "output_type": "display_data"
    },
    {
     "data": {
      "application/vnd.jupyter.widget-view+json": {
       "model_id": "",
       "version_major": 2,
       "version_minor": 0
      },
      "text/plain": [
       "PGD - Iterations:   0%|          | 0/50 [00:00<?, ?it/s]"
      ]
     },
     "metadata": {},
     "output_type": "display_data"
    },
    {
     "name": "stdout",
     "output_type": "stream",
     "text": [
      "Prediction after pert: African chameleon, Chamaeleo chamaeleon - confidence 1.00\n",
      "---------------------------------------------\n",
      "Prediction of adversarial sample after spatial deffense: African chameleon, Chamaeleo chamaeleon - confidence 1.00\n",
      "---------------------------------------------\n",
      "original Prediction: bullfrog, Rana catesbeiana - confidence 0.95\n"
     ]
    },
    {
     "data": {
      "application/vnd.jupyter.widget-view+json": {
       "model_id": "64c6283781a24c07a08bf854a865fab3",
       "version_major": 2,
       "version_minor": 0
      },
      "text/plain": [
       "PGD - Random Initializations:   0%|          | 0/1 [00:00<?, ?it/s]"
      ]
     },
     "metadata": {},
     "output_type": "display_data"
    },
    {
     "data": {
      "application/vnd.jupyter.widget-view+json": {
       "model_id": "",
       "version_major": 2,
       "version_minor": 0
      },
      "text/plain": [
       "PGD - Iterations:   0%|          | 0/50 [00:00<?, ?it/s]"
      ]
     },
     "metadata": {},
     "output_type": "display_data"
    },
    {
     "name": "stdout",
     "output_type": "stream",
     "text": [
      "Prediction after pert: tree frog, tree-frog - confidence 1.00\n",
      "---------------------------------------------\n",
      "Prediction of adversarial sample after spatial deffense: tree frog, tree-frog - confidence 1.00\n",
      "---------------------------------------------\n",
      "original Prediction: tailed frog, bell toad, ribbed toad, tailed toad, Ascaphus trui - confidence 0.38\n"
     ]
    },
    {
     "data": {
      "application/vnd.jupyter.widget-view+json": {
       "model_id": "04c636c9b7294290bb2b936645f4fa2f",
       "version_major": 2,
       "version_minor": 0
      },
      "text/plain": [
       "PGD - Random Initializations:   0%|          | 0/1 [00:00<?, ?it/s]"
      ]
     },
     "metadata": {},
     "output_type": "display_data"
    },
    {
     "data": {
      "application/vnd.jupyter.widget-view+json": {
       "model_id": "",
       "version_major": 2,
       "version_minor": 0
      },
      "text/plain": [
       "PGD - Iterations:   0%|          | 0/50 [00:00<?, ?it/s]"
      ]
     },
     "metadata": {},
     "output_type": "display_data"
    },
    {
     "name": "stdout",
     "output_type": "stream",
     "text": [
      "Prediction after pert: bullfrog, Rana catesbeiana - confidence 1.00\n",
      "---------------------------------------------\n",
      "Prediction of adversarial sample after spatial deffense: bullfrog, Rana catesbeiana - confidence 1.00\n",
      "---------------------------------------------\n",
      "original Prediction: bullfrog, Rana catesbeiana - confidence 0.33\n"
     ]
    },
    {
     "data": {
      "application/vnd.jupyter.widget-view+json": {
       "model_id": "d87e0f1075e14a43a1e6dfb93126fff7",
       "version_major": 2,
       "version_minor": 0
      },
      "text/plain": [
       "PGD - Random Initializations:   0%|          | 0/1 [00:00<?, ?it/s]"
      ]
     },
     "metadata": {},
     "output_type": "display_data"
    },
    {
     "data": {
      "application/vnd.jupyter.widget-view+json": {
       "model_id": "",
       "version_major": 2,
       "version_minor": 0
      },
      "text/plain": [
       "PGD - Iterations:   0%|          | 0/50 [00:00<?, ?it/s]"
      ]
     },
     "metadata": {},
     "output_type": "display_data"
    },
    {
     "name": "stdout",
     "output_type": "stream",
     "text": [
      "Prediction after pert: box turtle, box tortoise - confidence 1.00\n",
      "---------------------------------------------\n",
      "Prediction of adversarial sample after spatial deffense: box turtle, box tortoise - confidence 1.00\n",
      "---------------------------------------------\n",
      "original Prediction: bullfrog, Rana catesbeiana - confidence 0.54\n"
     ]
    },
    {
     "data": {
      "application/vnd.jupyter.widget-view+json": {
       "model_id": "badfc9c051a146a593916497c751c7b8",
       "version_major": 2,
       "version_minor": 0
      },
      "text/plain": [
       "PGD - Random Initializations:   0%|          | 0/1 [00:00<?, ?it/s]"
      ]
     },
     "metadata": {},
     "output_type": "display_data"
    },
    {
     "data": {
      "application/vnd.jupyter.widget-view+json": {
       "model_id": "",
       "version_major": 2,
       "version_minor": 0
      },
      "text/plain": [
       "PGD - Iterations:   0%|          | 0/50 [00:00<?, ?it/s]"
      ]
     },
     "metadata": {},
     "output_type": "display_data"
    },
    {
     "name": "stdout",
     "output_type": "stream",
     "text": [
      "Prediction after pert: Komodo dragon, Komodo lizard, dragon lizard, giant lizard, Varanus komodoensis - confidence 1.00\n",
      "---------------------------------------------\n",
      "Prediction of adversarial sample after spatial deffense: Komodo dragon, Komodo lizard, dragon lizard, giant lizard, Varanus komodoensis - confidence 1.00\n",
      "---------------------------------------------\n",
      "original Prediction: dowitcher - confidence 0.26\n"
     ]
    },
    {
     "data": {
      "application/vnd.jupyter.widget-view+json": {
       "model_id": "244c0cad8fe74c3ea626d947c2ef4eb0",
       "version_major": 2,
       "version_minor": 0
      },
      "text/plain": [
       "PGD - Random Initializations:   0%|          | 0/1 [00:00<?, ?it/s]"
      ]
     },
     "metadata": {},
     "output_type": "display_data"
    },
    {
     "data": {
      "application/vnd.jupyter.widget-view+json": {
       "model_id": "",
       "version_major": 2,
       "version_minor": 0
      },
      "text/plain": [
       "PGD - Iterations:   0%|          | 0/50 [00:00<?, ?it/s]"
      ]
     },
     "metadata": {},
     "output_type": "display_data"
    },
    {
     "name": "stdout",
     "output_type": "stream",
     "text": [
      "Prediction after pert: little blue heron, Egretta caerulea - confidence 1.00\n",
      "---------------------------------------------\n",
      "Prediction of adversarial sample after spatial deffense: little blue heron, Egretta caerulea - confidence 1.00\n",
      "---------------------------------------------\n",
      "original Prediction: tree frog, tree-frog - confidence 0.66\n"
     ]
    },
    {
     "data": {
      "application/vnd.jupyter.widget-view+json": {
       "model_id": "58f5896f0a3c47b0b61ff7b4b9628b4c",
       "version_major": 2,
       "version_minor": 0
      },
      "text/plain": [
       "PGD - Random Initializations:   0%|          | 0/1 [00:00<?, ?it/s]"
      ]
     },
     "metadata": {},
     "output_type": "display_data"
    },
    {
     "data": {
      "application/vnd.jupyter.widget-view+json": {
       "model_id": "",
       "version_major": 2,
       "version_minor": 0
      },
      "text/plain": [
       "PGD - Iterations:   0%|          | 0/50 [00:00<?, ?it/s]"
      ]
     },
     "metadata": {},
     "output_type": "display_data"
    },
    {
     "name": "stdout",
     "output_type": "stream",
     "text": [
      "Prediction after pert: swab, swob, mop - confidence 1.00\n",
      "---------------------------------------------\n",
      "Prediction of adversarial sample after spatial deffense: swab, swob, mop - confidence 1.00\n",
      "---------------------------------------------\n",
      "original Prediction: tree frog, tree-frog - confidence 1.00\n"
     ]
    },
    {
     "data": {
      "application/vnd.jupyter.widget-view+json": {
       "model_id": "a13dd58998bb4c499311b5c791fcd809",
       "version_major": 2,
       "version_minor": 0
      },
      "text/plain": [
       "PGD - Random Initializations:   0%|          | 0/1 [00:00<?, ?it/s]"
      ]
     },
     "metadata": {},
     "output_type": "display_data"
    },
    {
     "data": {
      "application/vnd.jupyter.widget-view+json": {
       "model_id": "",
       "version_major": 2,
       "version_minor": 0
      },
      "text/plain": [
       "PGD - Iterations:   0%|          | 0/50 [00:00<?, ?it/s]"
      ]
     },
     "metadata": {},
     "output_type": "display_data"
    },
    {
     "name": "stdout",
     "output_type": "stream",
     "text": [
      "Prediction after pert: bullfrog, Rana catesbeiana - confidence 1.00\n",
      "---------------------------------------------\n",
      "Prediction of adversarial sample after spatial deffense: bullfrog, Rana catesbeiana - confidence 1.00\n",
      "---------------------------------------------\n",
      "original Prediction: vine snake - confidence 0.13\n"
     ]
    },
    {
     "data": {
      "application/vnd.jupyter.widget-view+json": {
       "model_id": "863b6f21ee724380b2a9b64cca832b6a",
       "version_major": 2,
       "version_minor": 0
      },
      "text/plain": [
       "PGD - Random Initializations:   0%|          | 0/1 [00:00<?, ?it/s]"
      ]
     },
     "metadata": {},
     "output_type": "display_data"
    },
    {
     "data": {
      "application/vnd.jupyter.widget-view+json": {
       "model_id": "",
       "version_major": 2,
       "version_minor": 0
      },
      "text/plain": [
       "PGD - Iterations:   0%|          | 0/50 [00:00<?, ?it/s]"
      ]
     },
     "metadata": {},
     "output_type": "display_data"
    },
    {
     "name": "stdout",
     "output_type": "stream",
     "text": [
      "Prediction after pert: bathtub, bathing tub, bath, tub - confidence 1.00\n",
      "---------------------------------------------\n",
      "Prediction of adversarial sample after spatial deffense: bathtub, bathing tub, bath, tub - confidence 0.96\n",
      "---------------------------------------------\n",
      "original Prediction: tree frog, tree-frog - confidence 0.44\n"
     ]
    },
    {
     "data": {
      "application/vnd.jupyter.widget-view+json": {
       "model_id": "3503e76fcda94d1883ccf22ba9ca35e5",
       "version_major": 2,
       "version_minor": 0
      },
      "text/plain": [
       "PGD - Random Initializations:   0%|          | 0/1 [00:00<?, ?it/s]"
      ]
     },
     "metadata": {},
     "output_type": "display_data"
    },
    {
     "data": {
      "application/vnd.jupyter.widget-view+json": {
       "model_id": "",
       "version_major": 2,
       "version_minor": 0
      },
      "text/plain": [
       "PGD - Iterations:   0%|          | 0/50 [00:00<?, ?it/s]"
      ]
     },
     "metadata": {},
     "output_type": "display_data"
    },
    {
     "name": "stdout",
     "output_type": "stream",
     "text": [
      "Prediction after pert: dragonfly, darning needle, devil's darning needle, sewing needle, snake feeder, snake doctor, mosquito hawk, skeeter hawk - confidence 1.00\n",
      "---------------------------------------------\n",
      "Prediction of adversarial sample after spatial deffense: dragonfly, darning needle, devil's darning needle, sewing needle, snake feeder, snake doctor, mosquito hawk, skeeter hawk - confidence 1.00\n",
      "---------------------------------------------\n",
      "original Prediction: tree frog, tree-frog - confidence 0.99\n"
     ]
    },
    {
     "data": {
      "application/vnd.jupyter.widget-view+json": {
       "model_id": "cd65e8f408a04e1b8a42a0d1378bbf2b",
       "version_major": 2,
       "version_minor": 0
      },
      "text/plain": [
       "PGD - Random Initializations:   0%|          | 0/1 [00:00<?, ?it/s]"
      ]
     },
     "metadata": {},
     "output_type": "display_data"
    },
    {
     "data": {
      "application/vnd.jupyter.widget-view+json": {
       "model_id": "",
       "version_major": 2,
       "version_minor": 0
      },
      "text/plain": [
       "PGD - Iterations:   0%|          | 0/50 [00:00<?, ?it/s]"
      ]
     },
     "metadata": {},
     "output_type": "display_data"
    },
    {
     "name": "stdout",
     "output_type": "stream",
     "text": [
      "Prediction after pert: bullfrog, Rana catesbeiana - confidence 1.00\n",
      "---------------------------------------------\n",
      "Prediction of adversarial sample after spatial deffense: bullfrog, Rana catesbeiana - confidence 1.00\n",
      "---------------------------------------------\n",
      "original Prediction: green lizard, Lacerta viridis - confidence 0.41\n"
     ]
    },
    {
     "data": {
      "application/vnd.jupyter.widget-view+json": {
       "model_id": "f3c4f5c5e9c44909932653ed1861b56e",
       "version_major": 2,
       "version_minor": 0
      },
      "text/plain": [
       "PGD - Random Initializations:   0%|          | 0/1 [00:00<?, ?it/s]"
      ]
     },
     "metadata": {},
     "output_type": "display_data"
    },
    {
     "data": {
      "application/vnd.jupyter.widget-view+json": {
       "model_id": "",
       "version_major": 2,
       "version_minor": 0
      },
      "text/plain": [
       "PGD - Iterations:   0%|          | 0/50 [00:00<?, ?it/s]"
      ]
     },
     "metadata": {},
     "output_type": "display_data"
    },
    {
     "name": "stdout",
     "output_type": "stream",
     "text": [
      "Prediction after pert: green mamba - confidence 1.00\n",
      "---------------------------------------------\n",
      "Prediction of adversarial sample after spatial deffense: green mamba - confidence 1.00\n",
      "---------------------------------------------\n",
      "original Prediction: banded gecko - confidence 0.49\n"
     ]
    },
    {
     "data": {
      "application/vnd.jupyter.widget-view+json": {
       "model_id": "7d999c50066d4909ab32f7436a891444",
       "version_major": 2,
       "version_minor": 0
      },
      "text/plain": [
       "PGD - Random Initializations:   0%|          | 0/1 [00:00<?, ?it/s]"
      ]
     },
     "metadata": {},
     "output_type": "display_data"
    },
    {
     "data": {
      "application/vnd.jupyter.widget-view+json": {
       "model_id": "",
       "version_major": 2,
       "version_minor": 0
      },
      "text/plain": [
       "PGD - Iterations:   0%|          | 0/50 [00:00<?, ?it/s]"
      ]
     },
     "metadata": {},
     "output_type": "display_data"
    },
    {
     "name": "stdout",
     "output_type": "stream",
     "text": [
      "Prediction after pert: bullfrog, Rana catesbeiana - confidence 1.00\n",
      "---------------------------------------------\n",
      "Prediction of adversarial sample after spatial deffense: bullfrog, Rana catesbeiana - confidence 1.00\n",
      "---------------------------------------------\n",
      "original Prediction: tailed frog, bell toad, ribbed toad, tailed toad, Ascaphus trui - confidence 0.67\n"
     ]
    },
    {
     "data": {
      "application/vnd.jupyter.widget-view+json": {
       "model_id": "e07067daf15a447da765cd42064af027",
       "version_major": 2,
       "version_minor": 0
      },
      "text/plain": [
       "PGD - Random Initializations:   0%|          | 0/1 [00:00<?, ?it/s]"
      ]
     },
     "metadata": {},
     "output_type": "display_data"
    },
    {
     "data": {
      "application/vnd.jupyter.widget-view+json": {
       "model_id": "",
       "version_major": 2,
       "version_minor": 0
      },
      "text/plain": [
       "PGD - Iterations:   0%|          | 0/50 [00:00<?, ?it/s]"
      ]
     },
     "metadata": {},
     "output_type": "display_data"
    },
    {
     "name": "stdout",
     "output_type": "stream",
     "text": [
      "Prediction after pert: screw - confidence 1.00\n",
      "---------------------------------------------\n",
      "Prediction of adversarial sample after spatial deffense: screw - confidence 1.00\n",
      "---------------------------------------------\n",
      "original Prediction: artichoke, globe artichoke - confidence 0.16\n"
     ]
    },
    {
     "data": {
      "application/vnd.jupyter.widget-view+json": {
       "model_id": "546f457bff5d4166a82dddfa6566a87c",
       "version_major": 2,
       "version_minor": 0
      },
      "text/plain": [
       "PGD - Random Initializations:   0%|          | 0/1 [00:00<?, ?it/s]"
      ]
     },
     "metadata": {},
     "output_type": "display_data"
    },
    {
     "data": {
      "application/vnd.jupyter.widget-view+json": {
       "model_id": "",
       "version_major": 2,
       "version_minor": 0
      },
      "text/plain": [
       "PGD - Iterations:   0%|          | 0/50 [00:00<?, ?it/s]"
      ]
     },
     "metadata": {},
     "output_type": "display_data"
    },
    {
     "name": "stdout",
     "output_type": "stream",
     "text": [
      "Prediction after pert: toucan - confidence 1.00\n",
      "---------------------------------------------\n",
      "Prediction of adversarial sample after spatial deffense: toucan - confidence 1.00\n",
      "---------------------------------------------\n",
      "original Prediction: common newt, Triturus vulgaris - confidence 0.15\n"
     ]
    },
    {
     "data": {
      "application/vnd.jupyter.widget-view+json": {
       "model_id": "f104a2b26dd74f488f6d9d07a9ff6de4",
       "version_major": 2,
       "version_minor": 0
      },
      "text/plain": [
       "PGD - Random Initializations:   0%|          | 0/1 [00:00<?, ?it/s]"
      ]
     },
     "metadata": {},
     "output_type": "display_data"
    },
    {
     "data": {
      "application/vnd.jupyter.widget-view+json": {
       "model_id": "",
       "version_major": 2,
       "version_minor": 0
      },
      "text/plain": [
       "PGD - Iterations:   0%|          | 0/50 [00:00<?, ?it/s]"
      ]
     },
     "metadata": {},
     "output_type": "display_data"
    },
    {
     "name": "stdout",
     "output_type": "stream",
     "text": [
      "Prediction after pert: dragonfly, darning needle, devil's darning needle, sewing needle, snake feeder, snake doctor, mosquito hawk, skeeter hawk - confidence 1.00\n",
      "---------------------------------------------\n",
      "Prediction of adversarial sample after spatial deffense: dragonfly, darning needle, devil's darning needle, sewing needle, snake feeder, snake doctor, mosquito hawk, skeeter hawk - confidence 1.00\n",
      "---------------------------------------------\n",
      "original Prediction: loggerhead, loggerhead turtle, Caretta caretta - confidence 0.27\n"
     ]
    },
    {
     "data": {
      "application/vnd.jupyter.widget-view+json": {
       "model_id": "4c7b599841ba469eacbf5e23c8fd6031",
       "version_major": 2,
       "version_minor": 0
      },
      "text/plain": [
       "PGD - Random Initializations:   0%|          | 0/1 [00:00<?, ?it/s]"
      ]
     },
     "metadata": {},
     "output_type": "display_data"
    },
    {
     "data": {
      "application/vnd.jupyter.widget-view+json": {
       "model_id": "",
       "version_major": 2,
       "version_minor": 0
      },
      "text/plain": [
       "PGD - Iterations:   0%|          | 0/50 [00:00<?, ?it/s]"
      ]
     },
     "metadata": {},
     "output_type": "display_data"
    },
    {
     "name": "stdout",
     "output_type": "stream",
     "text": [
      "Prediction after pert: horned viper, cerastes, sand viper, horned asp, Cerastes cornutus - confidence 0.99\n",
      "---------------------------------------------\n",
      "Prediction of adversarial sample after spatial deffense: horned viper, cerastes, sand viper, horned asp, Cerastes cornutus - confidence 0.78\n",
      "---------------------------------------------\n",
      "original Prediction: tailed frog, bell toad, ribbed toad, tailed toad, Ascaphus trui - confidence 0.97\n"
     ]
    },
    {
     "data": {
      "application/vnd.jupyter.widget-view+json": {
       "model_id": "23d3a0ae1ac14ebd94e960732eeb6bf5",
       "version_major": 2,
       "version_minor": 0
      },
      "text/plain": [
       "PGD - Random Initializations:   0%|          | 0/1 [00:00<?, ?it/s]"
      ]
     },
     "metadata": {},
     "output_type": "display_data"
    },
    {
     "data": {
      "application/vnd.jupyter.widget-view+json": {
       "model_id": "",
       "version_major": 2,
       "version_minor": 0
      },
      "text/plain": [
       "PGD - Iterations:   0%|          | 0/50 [00:00<?, ?it/s]"
      ]
     },
     "metadata": {},
     "output_type": "display_data"
    },
    {
     "name": "stdout",
     "output_type": "stream",
     "text": [
      "Prediction after pert: wood rabbit, cottontail, cottontail rabbit - confidence 1.00\n",
      "---------------------------------------------\n",
      "Prediction of adversarial sample after spatial deffense: wood rabbit, cottontail, cottontail rabbit - confidence 1.00\n",
      "---------------------------------------------\n",
      "original Prediction: Komodo dragon, Komodo lizard, dragon lizard, giant lizard, Varanus komodoensis - confidence 0.68\n"
     ]
    },
    {
     "data": {
      "application/vnd.jupyter.widget-view+json": {
       "model_id": "7ac427384c68496cb545481d240086cc",
       "version_major": 2,
       "version_minor": 0
      },
      "text/plain": [
       "PGD - Random Initializations:   0%|          | 0/1 [00:00<?, ?it/s]"
      ]
     },
     "metadata": {},
     "output_type": "display_data"
    },
    {
     "data": {
      "application/vnd.jupyter.widget-view+json": {
       "model_id": "",
       "version_major": 2,
       "version_minor": 0
      },
      "text/plain": [
       "PGD - Iterations:   0%|          | 0/50 [00:00<?, ?it/s]"
      ]
     },
     "metadata": {},
     "output_type": "display_data"
    },
    {
     "name": "stdout",
     "output_type": "stream",
     "text": [
      "Prediction after pert: otter - confidence 1.00\n",
      "---------------------------------------------\n",
      "Prediction of adversarial sample after spatial deffense: otter - confidence 1.00\n",
      "---------------------------------------------\n",
      "original Prediction: loggerhead, loggerhead turtle, Caretta caretta - confidence 0.84\n"
     ]
    },
    {
     "data": {
      "application/vnd.jupyter.widget-view+json": {
       "model_id": "de0c6a25b3b04ae2be4773036d6d5a04",
       "version_major": 2,
       "version_minor": 0
      },
      "text/plain": [
       "PGD - Random Initializations:   0%|          | 0/1 [00:00<?, ?it/s]"
      ]
     },
     "metadata": {},
     "output_type": "display_data"
    },
    {
     "data": {
      "application/vnd.jupyter.widget-view+json": {
       "model_id": "",
       "version_major": 2,
       "version_minor": 0
      },
      "text/plain": [
       "PGD - Iterations:   0%|          | 0/50 [00:00<?, ?it/s]"
      ]
     },
     "metadata": {},
     "output_type": "display_data"
    },
    {
     "name": "stdout",
     "output_type": "stream",
     "text": [
      "Prediction after pert: snorkel - confidence 1.00\n",
      "---------------------------------------------\n",
      "Prediction of adversarial sample after spatial deffense: snorkel - confidence 1.00\n",
      "---------------------------------------------\n",
      "original Prediction: loggerhead, loggerhead turtle, Caretta caretta - confidence 0.79\n"
     ]
    },
    {
     "data": {
      "application/vnd.jupyter.widget-view+json": {
       "model_id": "6d4dedd12ebd4d49aeac5d5dd9b2850c",
       "version_major": 2,
       "version_minor": 0
      },
      "text/plain": [
       "PGD - Random Initializations:   0%|          | 0/1 [00:00<?, ?it/s]"
      ]
     },
     "metadata": {},
     "output_type": "display_data"
    },
    {
     "data": {
      "application/vnd.jupyter.widget-view+json": {
       "model_id": "",
       "version_major": 2,
       "version_minor": 0
      },
      "text/plain": [
       "PGD - Iterations:   0%|          | 0/50 [00:00<?, ?it/s]"
      ]
     },
     "metadata": {},
     "output_type": "display_data"
    },
    {
     "name": "stdout",
     "output_type": "stream",
     "text": [
      "Prediction after pert: doormat, welcome mat - confidence 1.00\n",
      "---------------------------------------------\n",
      "Prediction of adversarial sample after spatial deffense: doormat, welcome mat - confidence 1.00\n",
      "---------------------------------------------\n",
      "original Prediction: loggerhead, loggerhead turtle, Caretta caretta - confidence 0.69\n"
     ]
    },
    {
     "data": {
      "application/vnd.jupyter.widget-view+json": {
       "model_id": "666948b49e5743dda72fcdf9497ea1a2",
       "version_major": 2,
       "version_minor": 0
      },
      "text/plain": [
       "PGD - Random Initializations:   0%|          | 0/1 [00:00<?, ?it/s]"
      ]
     },
     "metadata": {},
     "output_type": "display_data"
    },
    {
     "data": {
      "application/vnd.jupyter.widget-view+json": {
       "model_id": "",
       "version_major": 2,
       "version_minor": 0
      },
      "text/plain": [
       "PGD - Iterations:   0%|          | 0/50 [00:00<?, ?it/s]"
      ]
     },
     "metadata": {},
     "output_type": "display_data"
    },
    {
     "name": "stdout",
     "output_type": "stream",
     "text": [
      "Prediction after pert: hippopotamus, hippo, river horse, Hippopotamus amphibius - confidence 1.00\n",
      "---------------------------------------------\n",
      "Prediction of adversarial sample after spatial deffense: hippopotamus, hippo, river horse, Hippopotamus amphibius - confidence 1.00\n",
      "---------------------------------------------\n",
      "original Prediction: leatherback turtle, leatherback, leathery turtle, Dermochelys coriacea - confidence 0.58\n"
     ]
    },
    {
     "data": {
      "application/vnd.jupyter.widget-view+json": {
       "model_id": "4f83228d34454013aff7d2f1f913f8b6",
       "version_major": 2,
       "version_minor": 0
      },
      "text/plain": [
       "PGD - Random Initializations:   0%|          | 0/1 [00:00<?, ?it/s]"
      ]
     },
     "metadata": {},
     "output_type": "display_data"
    },
    {
     "data": {
      "application/vnd.jupyter.widget-view+json": {
       "model_id": "",
       "version_major": 2,
       "version_minor": 0
      },
      "text/plain": [
       "PGD - Iterations:   0%|          | 0/50 [00:00<?, ?it/s]"
      ]
     },
     "metadata": {},
     "output_type": "display_data"
    },
    {
     "name": "stdout",
     "output_type": "stream",
     "text": [
      "Prediction after pert: Mexican hairless - confidence 1.00\n",
      "---------------------------------------------\n",
      "Prediction of adversarial sample after spatial deffense: Mexican hairless - confidence 1.00\n",
      "---------------------------------------------\n",
      "original Prediction: candle, taper, wax light - confidence 0.12\n"
     ]
    },
    {
     "data": {
      "application/vnd.jupyter.widget-view+json": {
       "model_id": "5e2aaa7bb3bd4436a6885384b29fcbb8",
       "version_major": 2,
       "version_minor": 0
      },
      "text/plain": [
       "PGD - Random Initializations:   0%|          | 0/1 [00:00<?, ?it/s]"
      ]
     },
     "metadata": {},
     "output_type": "display_data"
    },
    {
     "data": {
      "application/vnd.jupyter.widget-view+json": {
       "model_id": "",
       "version_major": 2,
       "version_minor": 0
      },
      "text/plain": [
       "PGD - Iterations:   0%|          | 0/50 [00:00<?, ?it/s]"
      ]
     },
     "metadata": {},
     "output_type": "display_data"
    },
    {
     "name": "stdout",
     "output_type": "stream",
     "text": [
      "Prediction after pert: eel - confidence 1.00\n",
      "---------------------------------------------\n",
      "Prediction of adversarial sample after spatial deffense: eel - confidence 1.00\n",
      "---------------------------------------------\n",
      "original Prediction: volcano - confidence 0.31\n"
     ]
    },
    {
     "data": {
      "application/vnd.jupyter.widget-view+json": {
       "model_id": "927ac7b511134efdb18defc8d53282d8",
       "version_major": 2,
       "version_minor": 0
      },
      "text/plain": [
       "PGD - Random Initializations:   0%|          | 0/1 [00:00<?, ?it/s]"
      ]
     },
     "metadata": {},
     "output_type": "display_data"
    },
    {
     "data": {
      "application/vnd.jupyter.widget-view+json": {
       "model_id": "",
       "version_major": 2,
       "version_minor": 0
      },
      "text/plain": [
       "PGD - Iterations:   0%|          | 0/50 [00:00<?, ?it/s]"
      ]
     },
     "metadata": {},
     "output_type": "display_data"
    },
    {
     "name": "stdout",
     "output_type": "stream",
     "text": [
      "Prediction after pert: maze, labyrinth - confidence 1.00\n",
      "---------------------------------------------\n",
      "Prediction of adversarial sample after spatial deffense: maze, labyrinth - confidence 1.00\n",
      "---------------------------------------------\n",
      "original Prediction: starfish, sea star - confidence 0.51\n"
     ]
    },
    {
     "data": {
      "application/vnd.jupyter.widget-view+json": {
       "model_id": "226e16fdbf8d42d697b8aec8c18e2790",
       "version_major": 2,
       "version_minor": 0
      },
      "text/plain": [
       "PGD - Random Initializations:   0%|          | 0/1 [00:00<?, ?it/s]"
      ]
     },
     "metadata": {},
     "output_type": "display_data"
    },
    {
     "data": {
      "application/vnd.jupyter.widget-view+json": {
       "model_id": "",
       "version_major": 2,
       "version_minor": 0
      },
      "text/plain": [
       "PGD - Iterations:   0%|          | 0/50 [00:00<?, ?it/s]"
      ]
     },
     "metadata": {},
     "output_type": "display_data"
    },
    {
     "name": "stdout",
     "output_type": "stream",
     "text": [
      "Prediction after pert: American chameleon, anole, Anolis carolinensis - confidence 1.00\n",
      "---------------------------------------------\n",
      "Prediction of adversarial sample after spatial deffense: American chameleon, anole, Anolis carolinensis - confidence 1.00\n",
      "---------------------------------------------\n",
      "original Prediction: leatherback turtle, leatherback, leathery turtle, Dermochelys coriacea - confidence 0.99\n"
     ]
    },
    {
     "data": {
      "application/vnd.jupyter.widget-view+json": {
       "model_id": "c3bd3f0ef02d4ac2a36ac5d0caef3224",
       "version_major": 2,
       "version_minor": 0
      },
      "text/plain": [
       "PGD - Random Initializations:   0%|          | 0/1 [00:00<?, ?it/s]"
      ]
     },
     "metadata": {},
     "output_type": "display_data"
    },
    {
     "data": {
      "application/vnd.jupyter.widget-view+json": {
       "model_id": "",
       "version_major": 2,
       "version_minor": 0
      },
      "text/plain": [
       "PGD - Iterations:   0%|          | 0/50 [00:00<?, ?it/s]"
      ]
     },
     "metadata": {},
     "output_type": "display_data"
    },
    {
     "name": "stdout",
     "output_type": "stream",
     "text": [
      "Prediction after pert: king crab, Alaska crab, Alaskan king crab, Alaska king crab, Paralithodes camtschatica - confidence 1.00\n",
      "---------------------------------------------\n",
      "Prediction of adversarial sample after spatial deffense: king crab, Alaska crab, Alaskan king crab, Alaska king crab, Paralithodes camtschatica - confidence 1.00\n",
      "---------------------------------------------\n",
      "original Prediction: sunscreen, sunblock, sun blocker - confidence 0.36\n"
     ]
    },
    {
     "data": {
      "application/vnd.jupyter.widget-view+json": {
       "model_id": "922f8ba1cc7b46779b16d7017cefd0e3",
       "version_major": 2,
       "version_minor": 0
      },
      "text/plain": [
       "PGD - Random Initializations:   0%|          | 0/1 [00:00<?, ?it/s]"
      ]
     },
     "metadata": {},
     "output_type": "display_data"
    },
    {
     "data": {
      "application/vnd.jupyter.widget-view+json": {
       "model_id": "",
       "version_major": 2,
       "version_minor": 0
      },
      "text/plain": [
       "PGD - Iterations:   0%|          | 0/50 [00:00<?, ?it/s]"
      ]
     },
     "metadata": {},
     "output_type": "display_data"
    },
    {
     "name": "stdout",
     "output_type": "stream",
     "text": [
      "Prediction after pert: starfish, sea star - confidence 1.00\n",
      "---------------------------------------------\n",
      "Prediction of adversarial sample after spatial deffense: starfish, sea star - confidence 1.00\n",
      "---------------------------------------------\n",
      "original Prediction: leatherback turtle, leatherback, leathery turtle, Dermochelys coriacea - confidence 0.96\n"
     ]
    },
    {
     "data": {
      "application/vnd.jupyter.widget-view+json": {
       "model_id": "8b8af6c98c9d4c1a905dc4970a2cc814",
       "version_major": 2,
       "version_minor": 0
      },
      "text/plain": [
       "PGD - Random Initializations:   0%|          | 0/1 [00:00<?, ?it/s]"
      ]
     },
     "metadata": {},
     "output_type": "display_data"
    },
    {
     "data": {
      "application/vnd.jupyter.widget-view+json": {
       "model_id": "",
       "version_major": 2,
       "version_minor": 0
      },
      "text/plain": [
       "PGD - Iterations:   0%|          | 0/50 [00:00<?, ?it/s]"
      ]
     },
     "metadata": {},
     "output_type": "display_data"
    },
    {
     "name": "stdout",
     "output_type": "stream",
     "text": [
      "Prediction after pert: mud turtle - confidence 1.00\n",
      "---------------------------------------------\n",
      "Prediction of adversarial sample after spatial deffense: mud turtle - confidence 1.00\n",
      "---------------------------------------------\n",
      "original Prediction: loggerhead, loggerhead turtle, Caretta caretta - confidence 0.70\n"
     ]
    },
    {
     "data": {
      "application/vnd.jupyter.widget-view+json": {
       "model_id": "211c7d9ba9a74c789d5061259941df17",
       "version_major": 2,
       "version_minor": 0
      },
      "text/plain": [
       "PGD - Random Initializations:   0%|          | 0/1 [00:00<?, ?it/s]"
      ]
     },
     "metadata": {},
     "output_type": "display_data"
    },
    {
     "data": {
      "application/vnd.jupyter.widget-view+json": {
       "model_id": "",
       "version_major": 2,
       "version_minor": 0
      },
      "text/plain": [
       "PGD - Iterations:   0%|          | 0/50 [00:00<?, ?it/s]"
      ]
     },
     "metadata": {},
     "output_type": "display_data"
    },
    {
     "name": "stdout",
     "output_type": "stream",
     "text": [
      "Prediction after pert: hatchet - confidence 1.00\n",
      "---------------------------------------------\n",
      "Prediction of adversarial sample after spatial deffense: hatchet - confidence 1.00\n",
      "---------------------------------------------\n",
      "original Prediction: loggerhead, loggerhead turtle, Caretta caretta - confidence 0.73\n"
     ]
    },
    {
     "data": {
      "application/vnd.jupyter.widget-view+json": {
       "model_id": "8935fac8e51b47cf8fd9c9bcfbbed3c4",
       "version_major": 2,
       "version_minor": 0
      },
      "text/plain": [
       "PGD - Random Initializations:   0%|          | 0/1 [00:00<?, ?it/s]"
      ]
     },
     "metadata": {},
     "output_type": "display_data"
    },
    {
     "data": {
      "application/vnd.jupyter.widget-view+json": {
       "model_id": "",
       "version_major": 2,
       "version_minor": 0
      },
      "text/plain": [
       "PGD - Iterations:   0%|          | 0/50 [00:00<?, ?it/s]"
      ]
     },
     "metadata": {},
     "output_type": "display_data"
    },
    {
     "name": "stdout",
     "output_type": "stream",
     "text": [
      "Prediction after pert: Indian elephant, Elephas maximus - confidence 1.00\n",
      "---------------------------------------------\n",
      "Prediction of adversarial sample after spatial deffense: Indian elephant, Elephas maximus - confidence 1.00\n",
      "---------------------------------------------\n",
      "original Prediction: mud turtle - confidence 0.20\n"
     ]
    },
    {
     "data": {
      "application/vnd.jupyter.widget-view+json": {
       "model_id": "d7f600188f5a4244ba08341037db78fa",
       "version_major": 2,
       "version_minor": 0
      },
      "text/plain": [
       "PGD - Random Initializations:   0%|          | 0/1 [00:00<?, ?it/s]"
      ]
     },
     "metadata": {},
     "output_type": "display_data"
    },
    {
     "data": {
      "application/vnd.jupyter.widget-view+json": {
       "model_id": "",
       "version_major": 2,
       "version_minor": 0
      },
      "text/plain": [
       "PGD - Iterations:   0%|          | 0/50 [00:00<?, ?it/s]"
      ]
     },
     "metadata": {},
     "output_type": "display_data"
    },
    {
     "name": "stdout",
     "output_type": "stream",
     "text": [
      "Prediction after pert: otter - confidence 1.00\n",
      "---------------------------------------------\n",
      "Prediction of adversarial sample after spatial deffense: otter - confidence 1.00\n",
      "---------------------------------------------\n",
      "original Prediction: mud turtle - confidence 0.48\n"
     ]
    },
    {
     "data": {
      "application/vnd.jupyter.widget-view+json": {
       "model_id": "29da7d2563fb432288423d545d8f6725",
       "version_major": 2,
       "version_minor": 0
      },
      "text/plain": [
       "PGD - Random Initializations:   0%|          | 0/1 [00:00<?, ?it/s]"
      ]
     },
     "metadata": {},
     "output_type": "display_data"
    },
    {
     "data": {
      "application/vnd.jupyter.widget-view+json": {
       "model_id": "",
       "version_major": 2,
       "version_minor": 0
      },
      "text/plain": [
       "PGD - Iterations:   0%|          | 0/50 [00:00<?, ?it/s]"
      ]
     },
     "metadata": {},
     "output_type": "display_data"
    },
    {
     "name": "stdout",
     "output_type": "stream",
     "text": [
      "Prediction after pert: bee - confidence 1.00\n",
      "---------------------------------------------\n",
      "Prediction of adversarial sample after spatial deffense: bee - confidence 1.00\n",
      "---------------------------------------------\n",
      "original Prediction: bittern - confidence 0.28\n"
     ]
    },
    {
     "data": {
      "application/vnd.jupyter.widget-view+json": {
       "model_id": "efc4d4c7262141c7b79a22040945a6e4",
       "version_major": 2,
       "version_minor": 0
      },
      "text/plain": [
       "PGD - Random Initializations:   0%|          | 0/1 [00:00<?, ?it/s]"
      ]
     },
     "metadata": {},
     "output_type": "display_data"
    },
    {
     "data": {
      "application/vnd.jupyter.widget-view+json": {
       "model_id": "",
       "version_major": 2,
       "version_minor": 0
      },
      "text/plain": [
       "PGD - Iterations:   0%|          | 0/50 [00:00<?, ?it/s]"
      ]
     },
     "metadata": {},
     "output_type": "display_data"
    },
    {
     "name": "stdout",
     "output_type": "stream",
     "text": [
      "Prediction after pert: crayfish, crawfish, crawdad, crawdaddy - confidence 1.00\n",
      "---------------------------------------------\n",
      "Prediction of adversarial sample after spatial deffense: crayfish, crawfish, crawdad, crawdaddy - confidence 0.99\n",
      "---------------------------------------------\n",
      "original Prediction: mud turtle - confidence 0.35\n"
     ]
    },
    {
     "data": {
      "application/vnd.jupyter.widget-view+json": {
       "model_id": "a0a6e4fd5f7d40348db0b33248981325",
       "version_major": 2,
       "version_minor": 0
      },
      "text/plain": [
       "PGD - Random Initializations:   0%|          | 0/1 [00:00<?, ?it/s]"
      ]
     },
     "metadata": {},
     "output_type": "display_data"
    },
    {
     "data": {
      "application/vnd.jupyter.widget-view+json": {
       "model_id": "",
       "version_major": 2,
       "version_minor": 0
      },
      "text/plain": [
       "PGD - Iterations:   0%|          | 0/50 [00:00<?, ?it/s]"
      ]
     },
     "metadata": {},
     "output_type": "display_data"
    },
    {
     "name": "stdout",
     "output_type": "stream",
     "text": [
      "Prediction after pert: chiton, coat-of-mail shell, sea cradle, polyplacophore - confidence 1.00\n",
      "---------------------------------------------\n",
      "Prediction of adversarial sample after spatial deffense: chiton, coat-of-mail shell, sea cradle, polyplacophore - confidence 1.00\n",
      "---------------------------------------------\n",
      "original Prediction: box turtle, box tortoise - confidence 0.89\n"
     ]
    },
    {
     "data": {
      "application/vnd.jupyter.widget-view+json": {
       "model_id": "b93243b1c88b4672abfeb79d23d13771",
       "version_major": 2,
       "version_minor": 0
      },
      "text/plain": [
       "PGD - Random Initializations:   0%|          | 0/1 [00:00<?, ?it/s]"
      ]
     },
     "metadata": {},
     "output_type": "display_data"
    },
    {
     "data": {
      "application/vnd.jupyter.widget-view+json": {
       "model_id": "",
       "version_major": 2,
       "version_minor": 0
      },
      "text/plain": [
       "PGD - Iterations:   0%|          | 0/50 [00:00<?, ?it/s]"
      ]
     },
     "metadata": {},
     "output_type": "display_data"
    },
    {
     "name": "stdout",
     "output_type": "stream",
     "text": [
      "Prediction after pert: leopard, Panthera pardus - confidence 1.00\n",
      "---------------------------------------------\n",
      "Prediction of adversarial sample after spatial deffense: leopard, Panthera pardus - confidence 1.00\n",
      "---------------------------------------------\n",
      "original Prediction: terrapin - confidence 0.72\n"
     ]
    },
    {
     "data": {
      "application/vnd.jupyter.widget-view+json": {
       "model_id": "70790ecbe59b4113bb284131aa2e4e6b",
       "version_major": 2,
       "version_minor": 0
      },
      "text/plain": [
       "PGD - Random Initializations:   0%|          | 0/1 [00:00<?, ?it/s]"
      ]
     },
     "metadata": {},
     "output_type": "display_data"
    },
    {
     "data": {
      "application/vnd.jupyter.widget-view+json": {
       "model_id": "",
       "version_major": 2,
       "version_minor": 0
      },
      "text/plain": [
       "PGD - Iterations:   0%|          | 0/50 [00:00<?, ?it/s]"
      ]
     },
     "metadata": {},
     "output_type": "display_data"
    },
    {
     "name": "stdout",
     "output_type": "stream",
     "text": [
      "Prediction after pert: leatherback turtle, leatherback, leathery turtle, Dermochelys coriacea - confidence 1.00\n",
      "---------------------------------------------\n",
      "Prediction of adversarial sample after spatial deffense: leatherback turtle, leatherback, leathery turtle, Dermochelys coriacea - confidence 1.00\n",
      "---------------------------------------------\n",
      "original Prediction: box turtle, box tortoise - confidence 0.93\n"
     ]
    },
    {
     "data": {
      "application/vnd.jupyter.widget-view+json": {
       "model_id": "a58777b69f9544909d27473d78ded0ea",
       "version_major": 2,
       "version_minor": 0
      },
      "text/plain": [
       "PGD - Random Initializations:   0%|          | 0/1 [00:00<?, ?it/s]"
      ]
     },
     "metadata": {},
     "output_type": "display_data"
    },
    {
     "data": {
      "application/vnd.jupyter.widget-view+json": {
       "model_id": "",
       "version_major": 2,
       "version_minor": 0
      },
      "text/plain": [
       "PGD - Iterations:   0%|          | 0/50 [00:00<?, ?it/s]"
      ]
     },
     "metadata": {},
     "output_type": "display_data"
    },
    {
     "name": "stdout",
     "output_type": "stream",
     "text": [
      "Prediction after pert: limpkin, Aramus pictus - confidence 1.00\n",
      "---------------------------------------------\n",
      "Prediction of adversarial sample after spatial deffense: limpkin, Aramus pictus - confidence 1.00\n",
      "---------------------------------------------\n",
      "original Prediction: mud turtle - confidence 0.66\n"
     ]
    },
    {
     "data": {
      "application/vnd.jupyter.widget-view+json": {
       "model_id": "71054d76746d47b19beeebe7334fcb19",
       "version_major": 2,
       "version_minor": 0
      },
      "text/plain": [
       "PGD - Random Initializations:   0%|          | 0/1 [00:00<?, ?it/s]"
      ]
     },
     "metadata": {},
     "output_type": "display_data"
    },
    {
     "data": {
      "application/vnd.jupyter.widget-view+json": {
       "model_id": "",
       "version_major": 2,
       "version_minor": 0
      },
      "text/plain": [
       "PGD - Iterations:   0%|          | 0/50 [00:00<?, ?it/s]"
      ]
     },
     "metadata": {},
     "output_type": "display_data"
    },
    {
     "name": "stdout",
     "output_type": "stream",
     "text": [
      "Prediction after pert: chiton, coat-of-mail shell, sea cradle, polyplacophore - confidence 1.00\n",
      "---------------------------------------------\n",
      "Prediction of adversarial sample after spatial deffense: chiton, coat-of-mail shell, sea cradle, polyplacophore - confidence 1.00\n",
      "---------------------------------------------\n",
      "original Prediction: dung beetle - confidence 0.78\n"
     ]
    },
    {
     "data": {
      "application/vnd.jupyter.widget-view+json": {
       "model_id": "e6e666048313422098a5fdc71155252e",
       "version_major": 2,
       "version_minor": 0
      },
      "text/plain": [
       "PGD - Random Initializations:   0%|          | 0/1 [00:00<?, ?it/s]"
      ]
     },
     "metadata": {},
     "output_type": "display_data"
    },
    {
     "data": {
      "application/vnd.jupyter.widget-view+json": {
       "model_id": "",
       "version_major": 2,
       "version_minor": 0
      },
      "text/plain": [
       "PGD - Iterations:   0%|          | 0/50 [00:00<?, ?it/s]"
      ]
     },
     "metadata": {},
     "output_type": "display_data"
    },
    {
     "name": "stdout",
     "output_type": "stream",
     "text": [
      "Prediction after pert: English setter - confidence 1.00\n",
      "---------------------------------------------\n",
      "Prediction of adversarial sample after spatial deffense: English setter - confidence 1.00\n",
      "---------------------------------------------\n",
      "original Prediction: mud turtle - confidence 0.54\n"
     ]
    },
    {
     "data": {
      "application/vnd.jupyter.widget-view+json": {
       "model_id": "795b9cb1bf6a4a199502764453d4f2de",
       "version_major": 2,
       "version_minor": 0
      },
      "text/plain": [
       "PGD - Random Initializations:   0%|          | 0/1 [00:00<?, ?it/s]"
      ]
     },
     "metadata": {},
     "output_type": "display_data"
    },
    {
     "data": {
      "application/vnd.jupyter.widget-view+json": {
       "model_id": "",
       "version_major": 2,
       "version_minor": 0
      },
      "text/plain": [
       "PGD - Iterations:   0%|          | 0/50 [00:00<?, ?it/s]"
      ]
     },
     "metadata": {},
     "output_type": "display_data"
    },
    {
     "name": "stdout",
     "output_type": "stream",
     "text": [
      "Prediction after pert: terrapin - confidence 1.00\n",
      "---------------------------------------------\n",
      "Prediction of adversarial sample after spatial deffense: terrapin - confidence 1.00\n",
      "correctly classified after deffense\n",
      "---------------------------------------------\n",
      "original Prediction: loggerhead, loggerhead turtle, Caretta caretta - confidence 0.69\n"
     ]
    },
    {
     "data": {
      "application/vnd.jupyter.widget-view+json": {
       "model_id": "f109bed912344033b5e6c73aeb60f256",
       "version_major": 2,
       "version_minor": 0
      },
      "text/plain": [
       "PGD - Random Initializations:   0%|          | 0/1 [00:00<?, ?it/s]"
      ]
     },
     "metadata": {},
     "output_type": "display_data"
    },
    {
     "data": {
      "application/vnd.jupyter.widget-view+json": {
       "model_id": "",
       "version_major": 2,
       "version_minor": 0
      },
      "text/plain": [
       "PGD - Iterations:   0%|          | 0/50 [00:00<?, ?it/s]"
      ]
     },
     "metadata": {},
     "output_type": "display_data"
    },
    {
     "name": "stdout",
     "output_type": "stream",
     "text": [
      "Prediction after pert: lawn mower, mower - confidence 1.00\n",
      "---------------------------------------------\n",
      "Prediction of adversarial sample after spatial deffense: lawn mower, mower - confidence 1.00\n",
      "---------------------------------------------\n",
      "original Prediction: box turtle, box tortoise - confidence 0.77\n"
     ]
    },
    {
     "data": {
      "application/vnd.jupyter.widget-view+json": {
       "model_id": "94a1953ffd2f413a9691c6409e09c076",
       "version_major": 2,
       "version_minor": 0
      },
      "text/plain": [
       "PGD - Random Initializations:   0%|          | 0/1 [00:00<?, ?it/s]"
      ]
     },
     "metadata": {},
     "output_type": "display_data"
    },
    {
     "data": {
      "application/vnd.jupyter.widget-view+json": {
       "model_id": "",
       "version_major": 2,
       "version_minor": 0
      },
      "text/plain": [
       "PGD - Iterations:   0%|          | 0/50 [00:00<?, ?it/s]"
      ]
     },
     "metadata": {},
     "output_type": "display_data"
    },
    {
     "name": "stdout",
     "output_type": "stream",
     "text": [
      "Prediction after pert: African crocodile, Nile crocodile, Crocodylus niloticus - confidence 1.00\n",
      "---------------------------------------------\n",
      "Prediction of adversarial sample after spatial deffense: African crocodile, Nile crocodile, Crocodylus niloticus - confidence 1.00\n",
      "---------------------------------------------\n",
      "original Prediction: box turtle, box tortoise - confidence 0.69\n"
     ]
    },
    {
     "data": {
      "application/vnd.jupyter.widget-view+json": {
       "model_id": "5ea6229c1b894d9fa41eb67cd70e19a5",
       "version_major": 2,
       "version_minor": 0
      },
      "text/plain": [
       "PGD - Random Initializations:   0%|          | 0/1 [00:00<?, ?it/s]"
      ]
     },
     "metadata": {},
     "output_type": "display_data"
    },
    {
     "data": {
      "application/vnd.jupyter.widget-view+json": {
       "model_id": "",
       "version_major": 2,
       "version_minor": 0
      },
      "text/plain": [
       "PGD - Iterations:   0%|          | 0/50 [00:00<?, ?it/s]"
      ]
     },
     "metadata": {},
     "output_type": "display_data"
    },
    {
     "name": "stdout",
     "output_type": "stream",
     "text": [
      "Prediction after pert: terrapin - confidence 1.00\n",
      "---------------------------------------------\n",
      "Prediction of adversarial sample after spatial deffense: terrapin - confidence 1.00\n",
      "---------------------------------------------\n",
      "original Prediction: box turtle, box tortoise - confidence 0.72\n"
     ]
    },
    {
     "data": {
      "application/vnd.jupyter.widget-view+json": {
       "model_id": "98b8e996ea9a4f59a63af5088b66cde4",
       "version_major": 2,
       "version_minor": 0
      },
      "text/plain": [
       "PGD - Random Initializations:   0%|          | 0/1 [00:00<?, ?it/s]"
      ]
     },
     "metadata": {},
     "output_type": "display_data"
    },
    {
     "data": {
      "application/vnd.jupyter.widget-view+json": {
       "model_id": "",
       "version_major": 2,
       "version_minor": 0
      },
      "text/plain": [
       "PGD - Iterations:   0%|          | 0/50 [00:00<?, ?it/s]"
      ]
     },
     "metadata": {},
     "output_type": "display_data"
    },
    {
     "name": "stdout",
     "output_type": "stream",
     "text": [
      "Prediction after pert: slug - confidence 1.00\n",
      "---------------------------------------------\n",
      "Prediction of adversarial sample after spatial deffense: slug - confidence 1.00\n",
      "---------------------------------------------\n",
      "original Prediction: box turtle, box tortoise - confidence 0.98\n"
     ]
    },
    {
     "data": {
      "application/vnd.jupyter.widget-view+json": {
       "model_id": "565948e3bbc54387ab524753e50c8db4",
       "version_major": 2,
       "version_minor": 0
      },
      "text/plain": [
       "PGD - Random Initializations:   0%|          | 0/1 [00:00<?, ?it/s]"
      ]
     },
     "metadata": {},
     "output_type": "display_data"
    },
    {
     "data": {
      "application/vnd.jupyter.widget-view+json": {
       "model_id": "",
       "version_major": 2,
       "version_minor": 0
      },
      "text/plain": [
       "PGD - Iterations:   0%|          | 0/50 [00:00<?, ?it/s]"
      ]
     },
     "metadata": {},
     "output_type": "display_data"
    },
    {
     "name": "stdout",
     "output_type": "stream",
     "text": [
      "Prediction after pert: terrapin - confidence 1.00\n",
      "---------------------------------------------\n",
      "Prediction of adversarial sample after spatial deffense: terrapin - confidence 1.00\n",
      "---------------------------------------------\n",
      "original Prediction: terrapin - confidence 0.62\n"
     ]
    },
    {
     "data": {
      "application/vnd.jupyter.widget-view+json": {
       "model_id": "f975b8c66152465aa54672688baea339",
       "version_major": 2,
       "version_minor": 0
      },
      "text/plain": [
       "PGD - Random Initializations:   0%|          | 0/1 [00:00<?, ?it/s]"
      ]
     },
     "metadata": {},
     "output_type": "display_data"
    },
    {
     "data": {
      "application/vnd.jupyter.widget-view+json": {
       "model_id": "",
       "version_major": 2,
       "version_minor": 0
      },
      "text/plain": [
       "PGD - Iterations:   0%|          | 0/50 [00:00<?, ?it/s]"
      ]
     },
     "metadata": {},
     "output_type": "display_data"
    },
    {
     "name": "stdout",
     "output_type": "stream",
     "text": [
      "Prediction after pert: coil, spiral, volute, whorl, helix - confidence 1.00\n",
      "---------------------------------------------\n",
      "Prediction of adversarial sample after spatial deffense: coil, spiral, volute, whorl, helix - confidence 1.00\n",
      "---------------------------------------------\n",
      "original Prediction: box turtle, box tortoise - confidence 0.83\n"
     ]
    },
    {
     "data": {
      "application/vnd.jupyter.widget-view+json": {
       "model_id": "cda70d96eb4f44db9a2e3d6642d996e1",
       "version_major": 2,
       "version_minor": 0
      },
      "text/plain": [
       "PGD - Random Initializations:   0%|          | 0/1 [00:00<?, ?it/s]"
      ]
     },
     "metadata": {},
     "output_type": "display_data"
    },
    {
     "data": {
      "application/vnd.jupyter.widget-view+json": {
       "model_id": "",
       "version_major": 2,
       "version_minor": 0
      },
      "text/plain": [
       "PGD - Iterations:   0%|          | 0/50 [00:00<?, ?it/s]"
      ]
     },
     "metadata": {},
     "output_type": "display_data"
    },
    {
     "name": "stdout",
     "output_type": "stream",
     "text": [
      "Prediction after pert: marmot - confidence 1.00\n",
      "---------------------------------------------\n",
      "Prediction of adversarial sample after spatial deffense: marmot - confidence 1.00\n",
      "---------------------------------------------\n",
      "original Prediction: banded gecko - confidence 0.70\n"
     ]
    },
    {
     "data": {
      "application/vnd.jupyter.widget-view+json": {
       "model_id": "fde1e830aff54cb0a65e4a2042fc5bcc",
       "version_major": 2,
       "version_minor": 0
      },
      "text/plain": [
       "PGD - Random Initializations:   0%|          | 0/1 [00:00<?, ?it/s]"
      ]
     },
     "metadata": {},
     "output_type": "display_data"
    },
    {
     "data": {
      "application/vnd.jupyter.widget-view+json": {
       "model_id": "",
       "version_major": 2,
       "version_minor": 0
      },
      "text/plain": [
       "PGD - Iterations:   0%|          | 0/50 [00:00<?, ?it/s]"
      ]
     },
     "metadata": {},
     "output_type": "display_data"
    },
    {
     "name": "stdout",
     "output_type": "stream",
     "text": [
      "Prediction after pert: custard apple - confidence 1.00\n",
      "---------------------------------------------\n",
      "Prediction of adversarial sample after spatial deffense: custard apple - confidence 1.00\n",
      "---------------------------------------------\n",
      "original Prediction: banded gecko - confidence 0.65\n"
     ]
    },
    {
     "data": {
      "application/vnd.jupyter.widget-view+json": {
       "model_id": "9062f66f9ac74b1bb651eab62a8aae80",
       "version_major": 2,
       "version_minor": 0
      },
      "text/plain": [
       "PGD - Random Initializations:   0%|          | 0/1 [00:00<?, ?it/s]"
      ]
     },
     "metadata": {},
     "output_type": "display_data"
    },
    {
     "data": {
      "application/vnd.jupyter.widget-view+json": {
       "model_id": "",
       "version_major": 2,
       "version_minor": 0
      },
      "text/plain": [
       "PGD - Iterations:   0%|          | 0/50 [00:00<?, ?it/s]"
      ]
     },
     "metadata": {},
     "output_type": "display_data"
    },
    {
     "name": "stdout",
     "output_type": "stream",
     "text": [
      "Prediction after pert: bustard - confidence 1.00\n",
      "---------------------------------------------\n",
      "Prediction of adversarial sample after spatial deffense: bustard - confidence 1.00\n",
      "---------------------------------------------\n",
      "original Prediction: banded gecko - confidence 0.94\n"
     ]
    },
    {
     "data": {
      "application/vnd.jupyter.widget-view+json": {
       "model_id": "2f01e2facf2e416492bcc1e990b0d083",
       "version_major": 2,
       "version_minor": 0
      },
      "text/plain": [
       "PGD - Random Initializations:   0%|          | 0/1 [00:00<?, ?it/s]"
      ]
     },
     "metadata": {},
     "output_type": "display_data"
    },
    {
     "data": {
      "application/vnd.jupyter.widget-view+json": {
       "model_id": "",
       "version_major": 2,
       "version_minor": 0
      },
      "text/plain": [
       "PGD - Iterations:   0%|          | 0/50 [00:00<?, ?it/s]"
      ]
     },
     "metadata": {},
     "output_type": "display_data"
    },
    {
     "name": "stdout",
     "output_type": "stream",
     "text": [
      "Prediction after pert: ringlet, ringlet butterfly - confidence 1.00\n",
      "---------------------------------------------\n",
      "Prediction of adversarial sample after spatial deffense: ringlet, ringlet butterfly - confidence 1.00\n",
      "---------------------------------------------\n",
      "original Prediction: banded gecko - confidence 0.63\n"
     ]
    },
    {
     "data": {
      "application/vnd.jupyter.widget-view+json": {
       "model_id": "1de4024f47c5457897776d098cdc316a",
       "version_major": 2,
       "version_minor": 0
      },
      "text/plain": [
       "PGD - Random Initializations:   0%|          | 0/1 [00:00<?, ?it/s]"
      ]
     },
     "metadata": {},
     "output_type": "display_data"
    },
    {
     "data": {
      "application/vnd.jupyter.widget-view+json": {
       "model_id": "",
       "version_major": 2,
       "version_minor": 0
      },
      "text/plain": [
       "PGD - Iterations:   0%|          | 0/50 [00:00<?, ?it/s]"
      ]
     },
     "metadata": {},
     "output_type": "display_data"
    },
    {
     "name": "stdout",
     "output_type": "stream",
     "text": [
      "Prediction after pert: loggerhead, loggerhead turtle, Caretta caretta - confidence 1.00\n",
      "---------------------------------------------\n",
      "Prediction of adversarial sample after spatial deffense: loggerhead, loggerhead turtle, Caretta caretta - confidence 0.99\n",
      "---------------------------------------------\n",
      "original Prediction: banded gecko - confidence 0.58\n"
     ]
    },
    {
     "data": {
      "application/vnd.jupyter.widget-view+json": {
       "model_id": "9e7e88246517413484eea145aefe6100",
       "version_major": 2,
       "version_minor": 0
      },
      "text/plain": [
       "PGD - Random Initializations:   0%|          | 0/1 [00:00<?, ?it/s]"
      ]
     },
     "metadata": {},
     "output_type": "display_data"
    },
    {
     "data": {
      "application/vnd.jupyter.widget-view+json": {
       "model_id": "",
       "version_major": 2,
       "version_minor": 0
      },
      "text/plain": [
       "PGD - Iterations:   0%|          | 0/50 [00:00<?, ?it/s]"
      ]
     },
     "metadata": {},
     "output_type": "display_data"
    },
    {
     "name": "stdout",
     "output_type": "stream",
     "text": [
      "Prediction after pert: agama - confidence 1.00\n",
      "---------------------------------------------\n",
      "Prediction of adversarial sample after spatial deffense: agama - confidence 1.00\n",
      "---------------------------------------------\n",
      "original Prediction: agama - confidence 0.47\n"
     ]
    },
    {
     "data": {
      "application/vnd.jupyter.widget-view+json": {
       "model_id": "fce945e05a9d498898a1dcad0335c3f6",
       "version_major": 2,
       "version_minor": 0
      },
      "text/plain": [
       "PGD - Random Initializations:   0%|          | 0/1 [00:00<?, ?it/s]"
      ]
     },
     "metadata": {},
     "output_type": "display_data"
    },
    {
     "data": {
      "application/vnd.jupyter.widget-view+json": {
       "model_id": "",
       "version_major": 2,
       "version_minor": 0
      },
      "text/plain": [
       "PGD - Iterations:   0%|          | 0/50 [00:00<?, ?it/s]"
      ]
     },
     "metadata": {},
     "output_type": "display_data"
    },
    {
     "name": "stdout",
     "output_type": "stream",
     "text": [
      "Prediction after pert: banded gecko - confidence 1.00\n",
      "---------------------------------------------\n",
      "Prediction of adversarial sample after spatial deffense: banded gecko - confidence 1.00\n",
      "correctly classified after deffense\n",
      "---------------------------------------------\n",
      "original Prediction: rock crab, Cancer irroratus - confidence 0.84\n"
     ]
    },
    {
     "data": {
      "application/vnd.jupyter.widget-view+json": {
       "model_id": "f87f750f830242029f82847ae561c167",
       "version_major": 2,
       "version_minor": 0
      },
      "text/plain": [
       "PGD - Random Initializations:   0%|          | 0/1 [00:00<?, ?it/s]"
      ]
     },
     "metadata": {},
     "output_type": "display_data"
    },
    {
     "data": {
      "application/vnd.jupyter.widget-view+json": {
       "model_id": "",
       "version_major": 2,
       "version_minor": 0
      },
      "text/plain": [
       "PGD - Iterations:   0%|          | 0/50 [00:00<?, ?it/s]"
      ]
     },
     "metadata": {},
     "output_type": "display_data"
    },
    {
     "name": "stdout",
     "output_type": "stream",
     "text": [
      "Prediction after pert: fiddler crab - confidence 1.00\n",
      "---------------------------------------------\n",
      "Prediction of adversarial sample after spatial deffense: fiddler crab - confidence 1.00\n",
      "---------------------------------------------\n",
      "original Prediction: common iguana, iguana, Iguana iguana - confidence 0.18\n"
     ]
    },
    {
     "data": {
      "application/vnd.jupyter.widget-view+json": {
       "model_id": "0200766223194200bed9206a42960292",
       "version_major": 2,
       "version_minor": 0
      },
      "text/plain": [
       "PGD - Random Initializations:   0%|          | 0/1 [00:00<?, ?it/s]"
      ]
     },
     "metadata": {},
     "output_type": "display_data"
    },
    {
     "data": {
      "application/vnd.jupyter.widget-view+json": {
       "model_id": "",
       "version_major": 2,
       "version_minor": 0
      },
      "text/plain": [
       "PGD - Iterations:   0%|          | 0/50 [00:00<?, ?it/s]"
      ]
     },
     "metadata": {},
     "output_type": "display_data"
    },
    {
     "name": "stdout",
     "output_type": "stream",
     "text": [
      "Prediction after pert: giant panda, panda, panda bear, coon bear, Ailuropoda melanoleuca - confidence 1.00\n",
      "---------------------------------------------\n",
      "Prediction of adversarial sample after spatial deffense: giant panda, panda, panda bear, coon bear, Ailuropoda melanoleuca - confidence 1.00\n",
      "---------------------------------------------\n",
      "original Prediction: lion, king of beasts, Panthera leo - confidence 0.18\n"
     ]
    },
    {
     "data": {
      "application/vnd.jupyter.widget-view+json": {
       "model_id": "434c1c2c59164a6ea536ce3134164776",
       "version_major": 2,
       "version_minor": 0
      },
      "text/plain": [
       "PGD - Random Initializations:   0%|          | 0/1 [00:00<?, ?it/s]"
      ]
     },
     "metadata": {},
     "output_type": "display_data"
    },
    {
     "data": {
      "application/vnd.jupyter.widget-view+json": {
       "model_id": "",
       "version_major": 2,
       "version_minor": 0
      },
      "text/plain": [
       "PGD - Iterations:   0%|          | 0/50 [00:00<?, ?it/s]"
      ]
     },
     "metadata": {},
     "output_type": "display_data"
    },
    {
     "name": "stdout",
     "output_type": "stream",
     "text": [
      "Prediction after pert: bald eagle, American eagle, Haliaeetus leucocephalus - confidence 1.00\n",
      "---------------------------------------------\n",
      "Prediction of adversarial sample after spatial deffense: bald eagle, American eagle, Haliaeetus leucocephalus - confidence 1.00\n",
      "---------------------------------------------\n",
      "original Prediction: green lizard, Lacerta viridis - confidence 0.66\n"
     ]
    },
    {
     "data": {
      "application/vnd.jupyter.widget-view+json": {
       "model_id": "1dc4a6d7a98040b2a92cc01e0d5e08d8",
       "version_major": 2,
       "version_minor": 0
      },
      "text/plain": [
       "PGD - Random Initializations:   0%|          | 0/1 [00:00<?, ?it/s]"
      ]
     },
     "metadata": {},
     "output_type": "display_data"
    },
    {
     "data": {
      "application/vnd.jupyter.widget-view+json": {
       "model_id": "",
       "version_major": 2,
       "version_minor": 0
      },
      "text/plain": [
       "PGD - Iterations:   0%|          | 0/50 [00:00<?, ?it/s]"
      ]
     },
     "metadata": {},
     "output_type": "display_data"
    },
    {
     "name": "stdout",
     "output_type": "stream",
     "text": [
      "Prediction after pert: common iguana, iguana, Iguana iguana - confidence 1.00\n",
      "---------------------------------------------\n",
      "Prediction of adversarial sample after spatial deffense: common iguana, iguana, Iguana iguana - confidence 1.00\n",
      "---------------------------------------------\n",
      "original Prediction: African chameleon, Chamaeleo chamaeleon - confidence 0.47\n"
     ]
    },
    {
     "data": {
      "application/vnd.jupyter.widget-view+json": {
       "model_id": "d9cbc63544e541b98e6aa3102858055f",
       "version_major": 2,
       "version_minor": 0
      },
      "text/plain": [
       "PGD - Random Initializations:   0%|          | 0/1 [00:00<?, ?it/s]"
      ]
     },
     "metadata": {},
     "output_type": "display_data"
    },
    {
     "data": {
      "application/vnd.jupyter.widget-view+json": {
       "model_id": "",
       "version_major": 2,
       "version_minor": 0
      },
      "text/plain": [
       "PGD - Iterations:   0%|          | 0/50 [00:00<?, ?it/s]"
      ]
     },
     "metadata": {},
     "output_type": "display_data"
    },
    {
     "name": "stdout",
     "output_type": "stream",
     "text": [
      "Prediction after pert: mongoose - confidence 1.00\n",
      "---------------------------------------------\n",
      "Prediction of adversarial sample after spatial deffense: mongoose - confidence 1.00\n",
      "---------------------------------------------\n",
      "original Prediction: common iguana, iguana, Iguana iguana - confidence 1.00\n"
     ]
    },
    {
     "data": {
      "application/vnd.jupyter.widget-view+json": {
       "model_id": "dad5a98be2a94b1884209e3b61f8fd63",
       "version_major": 2,
       "version_minor": 0
      },
      "text/plain": [
       "PGD - Random Initializations:   0%|          | 0/1 [00:00<?, ?it/s]"
      ]
     },
     "metadata": {},
     "output_type": "display_data"
    },
    {
     "data": {
      "application/vnd.jupyter.widget-view+json": {
       "model_id": "",
       "version_major": 2,
       "version_minor": 0
      },
      "text/plain": [
       "PGD - Iterations:   0%|          | 0/50 [00:00<?, ?it/s]"
      ]
     },
     "metadata": {},
     "output_type": "display_data"
    },
    {
     "name": "stdout",
     "output_type": "stream",
     "text": [
      "Prediction after pert: standard poodle - confidence 1.00\n",
      "---------------------------------------------\n",
      "Prediction of adversarial sample after spatial deffense: standard poodle - confidence 1.00\n",
      "---------------------------------------------\n",
      "original Prediction: American chameleon, anole, Anolis carolinensis - confidence 0.50\n"
     ]
    },
    {
     "data": {
      "application/vnd.jupyter.widget-view+json": {
       "model_id": "e0f6741e08c540d7abbd2c6185238ee4",
       "version_major": 2,
       "version_minor": 0
      },
      "text/plain": [
       "PGD - Random Initializations:   0%|          | 0/1 [00:00<?, ?it/s]"
      ]
     },
     "metadata": {},
     "output_type": "display_data"
    },
    {
     "data": {
      "application/vnd.jupyter.widget-view+json": {
       "model_id": "",
       "version_major": 2,
       "version_minor": 0
      },
      "text/plain": [
       "PGD - Iterations:   0%|          | 0/50 [00:00<?, ?it/s]"
      ]
     },
     "metadata": {},
     "output_type": "display_data"
    },
    {
     "name": "stdout",
     "output_type": "stream",
     "text": [
      "Prediction after pert: common iguana, iguana, Iguana iguana - confidence 1.00\n",
      "---------------------------------------------\n",
      "Prediction of adversarial sample after spatial deffense: common iguana, iguana, Iguana iguana - confidence 1.00\n",
      "---------------------------------------------\n",
      "original Prediction: American chameleon, anole, Anolis carolinensis - confidence 0.65\n"
     ]
    },
    {
     "data": {
      "application/vnd.jupyter.widget-view+json": {
       "model_id": "a6caaa5183c242568fe2b2a2a0ba62be",
       "version_major": 2,
       "version_minor": 0
      },
      "text/plain": [
       "PGD - Random Initializations:   0%|          | 0/1 [00:00<?, ?it/s]"
      ]
     },
     "metadata": {},
     "output_type": "display_data"
    },
    {
     "data": {
      "application/vnd.jupyter.widget-view+json": {
       "model_id": "",
       "version_major": 2,
       "version_minor": 0
      },
      "text/plain": [
       "PGD - Iterations:   0%|          | 0/50 [00:00<?, ?it/s]"
      ]
     },
     "metadata": {},
     "output_type": "display_data"
    },
    {
     "name": "stdout",
     "output_type": "stream",
     "text": [
      "Prediction after pert: common iguana, iguana, Iguana iguana - confidence 1.00\n",
      "---------------------------------------------\n",
      "Prediction of adversarial sample after spatial deffense: common iguana, iguana, Iguana iguana - confidence 1.00\n",
      "---------------------------------------------\n",
      "original Prediction: green lizard, Lacerta viridis - confidence 0.81\n"
     ]
    },
    {
     "data": {
      "application/vnd.jupyter.widget-view+json": {
       "model_id": "88d41e0d7c504a7db49edb9c093554af",
       "version_major": 2,
       "version_minor": 0
      },
      "text/plain": [
       "PGD - Random Initializations:   0%|          | 0/1 [00:00<?, ?it/s]"
      ]
     },
     "metadata": {},
     "output_type": "display_data"
    },
    {
     "data": {
      "application/vnd.jupyter.widget-view+json": {
       "model_id": "",
       "version_major": 2,
       "version_minor": 0
      },
      "text/plain": [
       "PGD - Iterations:   0%|          | 0/50 [00:00<?, ?it/s]"
      ]
     },
     "metadata": {},
     "output_type": "display_data"
    },
    {
     "name": "stdout",
     "output_type": "stream",
     "text": [
      "Prediction after pert: wood rabbit, cottontail, cottontail rabbit - confidence 1.00\n",
      "---------------------------------------------\n",
      "Prediction of adversarial sample after spatial deffense: wood rabbit, cottontail, cottontail rabbit - confidence 1.00\n",
      "---------------------------------------------\n",
      "original Prediction: American chameleon, anole, Anolis carolinensis - confidence 0.62\n"
     ]
    },
    {
     "data": {
      "application/vnd.jupyter.widget-view+json": {
       "model_id": "0661da7f410e49c6ba572d4e3ee9ba2a",
       "version_major": 2,
       "version_minor": 0
      },
      "text/plain": [
       "PGD - Random Initializations:   0%|          | 0/1 [00:00<?, ?it/s]"
      ]
     },
     "metadata": {},
     "output_type": "display_data"
    },
    {
     "data": {
      "application/vnd.jupyter.widget-view+json": {
       "model_id": "",
       "version_major": 2,
       "version_minor": 0
      },
      "text/plain": [
       "PGD - Iterations:   0%|          | 0/50 [00:00<?, ?it/s]"
      ]
     },
     "metadata": {},
     "output_type": "display_data"
    },
    {
     "name": "stdout",
     "output_type": "stream",
     "text": [
      "Prediction after pert: common iguana, iguana, Iguana iguana - confidence 1.00\n",
      "---------------------------------------------\n",
      "Prediction of adversarial sample after spatial deffense: common iguana, iguana, Iguana iguana - confidence 1.00\n",
      "---------------------------------------------\n",
      "original Prediction: green lizard, Lacerta viridis - confidence 0.24\n"
     ]
    },
    {
     "data": {
      "application/vnd.jupyter.widget-view+json": {
       "model_id": "2dfa743a24db4603a7eeb3738a07f32f",
       "version_major": 2,
       "version_minor": 0
      },
      "text/plain": [
       "PGD - Random Initializations:   0%|          | 0/1 [00:00<?, ?it/s]"
      ]
     },
     "metadata": {},
     "output_type": "display_data"
    },
    {
     "data": {
      "application/vnd.jupyter.widget-view+json": {
       "model_id": "",
       "version_major": 2,
       "version_minor": 0
      },
      "text/plain": [
       "PGD - Iterations:   0%|          | 0/50 [00:00<?, ?it/s]"
      ]
     },
     "metadata": {},
     "output_type": "display_data"
    },
    {
     "name": "stdout",
     "output_type": "stream",
     "text": [
      "Prediction after pert: swab, swob, mop - confidence 1.00\n",
      "---------------------------------------------\n",
      "Prediction of adversarial sample after spatial deffense: swab, swob, mop - confidence 1.00\n",
      "---------------------------------------------\n",
      "original Prediction: weevil - confidence 0.31\n"
     ]
    },
    {
     "data": {
      "application/vnd.jupyter.widget-view+json": {
       "model_id": "b2efd1b781a6445daa863746dd23f7bd",
       "version_major": 2,
       "version_minor": 0
      },
      "text/plain": [
       "PGD - Random Initializations:   0%|          | 0/1 [00:00<?, ?it/s]"
      ]
     },
     "metadata": {},
     "output_type": "display_data"
    },
    {
     "data": {
      "application/vnd.jupyter.widget-view+json": {
       "model_id": "",
       "version_major": 2,
       "version_minor": 0
      },
      "text/plain": [
       "PGD - Iterations:   0%|          | 0/50 [00:00<?, ?it/s]"
      ]
     },
     "metadata": {},
     "output_type": "display_data"
    },
    {
     "name": "stdout",
     "output_type": "stream",
     "text": [
      "Prediction after pert: American chameleon, anole, Anolis carolinensis - confidence 0.95\n",
      "---------------------------------------------\n",
      "Prediction of adversarial sample after spatial deffense: American chameleon, anole, Anolis carolinensis - confidence 0.91\n",
      "---------------------------------------------\n",
      "original Prediction: whiptail, whiptail lizard - confidence 0.99\n"
     ]
    },
    {
     "data": {
      "application/vnd.jupyter.widget-view+json": {
       "model_id": "c3f2cdc7aac7498e819164cabc6c09a0",
       "version_major": 2,
       "version_minor": 0
      },
      "text/plain": [
       "PGD - Random Initializations:   0%|          | 0/1 [00:00<?, ?it/s]"
      ]
     },
     "metadata": {},
     "output_type": "display_data"
    },
    {
     "data": {
      "application/vnd.jupyter.widget-view+json": {
       "model_id": "",
       "version_major": 2,
       "version_minor": 0
      },
      "text/plain": [
       "PGD - Iterations:   0%|          | 0/50 [00:00<?, ?it/s]"
      ]
     },
     "metadata": {},
     "output_type": "display_data"
    },
    {
     "name": "stdout",
     "output_type": "stream",
     "text": [
      "Prediction after pert: American alligator, Alligator mississipiensis - confidence 1.00\n",
      "---------------------------------------------\n",
      "Prediction of adversarial sample after spatial deffense: American alligator, Alligator mississipiensis - confidence 1.00\n",
      "---------------------------------------------\n",
      "original Prediction: whiptail, whiptail lizard - confidence 0.99\n"
     ]
    },
    {
     "data": {
      "application/vnd.jupyter.widget-view+json": {
       "model_id": "4bbe20502d684360accb69ab27eeef90",
       "version_major": 2,
       "version_minor": 0
      },
      "text/plain": [
       "PGD - Random Initializations:   0%|          | 0/1 [00:00<?, ?it/s]"
      ]
     },
     "metadata": {},
     "output_type": "display_data"
    },
    {
     "data": {
      "application/vnd.jupyter.widget-view+json": {
       "model_id": "",
       "version_major": 2,
       "version_minor": 0
      },
      "text/plain": [
       "PGD - Iterations:   0%|          | 0/50 [00:00<?, ?it/s]"
      ]
     },
     "metadata": {},
     "output_type": "display_data"
    },
    {
     "name": "stdout",
     "output_type": "stream",
     "text": [
      "Prediction after pert: tailed frog, bell toad, ribbed toad, tailed toad, Ascaphus trui - confidence 1.00\n",
      "---------------------------------------------\n",
      "Prediction of adversarial sample after spatial deffense: tailed frog, bell toad, ribbed toad, tailed toad, Ascaphus trui - confidence 1.00\n",
      "---------------------------------------------\n",
      "original Prediction: whiptail, whiptail lizard - confidence 0.90\n"
     ]
    },
    {
     "data": {
      "application/vnd.jupyter.widget-view+json": {
       "model_id": "2e474f0647b344749e6f0aad09f72030",
       "version_major": 2,
       "version_minor": 0
      },
      "text/plain": [
       "PGD - Random Initializations:   0%|          | 0/1 [00:00<?, ?it/s]"
      ]
     },
     "metadata": {},
     "output_type": "display_data"
    },
    {
     "data": {
      "application/vnd.jupyter.widget-view+json": {
       "model_id": "",
       "version_major": 2,
       "version_minor": 0
      },
      "text/plain": [
       "PGD - Iterations:   0%|          | 0/50 [00:00<?, ?it/s]"
      ]
     },
     "metadata": {},
     "output_type": "display_data"
    },
    {
     "name": "stdout",
     "output_type": "stream",
     "text": [
      "Prediction after pert: American chameleon, anole, Anolis carolinensis - confidence 1.00\n",
      "---------------------------------------------\n",
      "Prediction of adversarial sample after spatial deffense: American chameleon, anole, Anolis carolinensis - confidence 1.00\n",
      "---------------------------------------------\n",
      "original Prediction: whiptail, whiptail lizard - confidence 0.16\n"
     ]
    },
    {
     "data": {
      "application/vnd.jupyter.widget-view+json": {
       "model_id": "89da9a04b3994f048f27d00d25cbaa63",
       "version_major": 2,
       "version_minor": 0
      },
      "text/plain": [
       "PGD - Random Initializations:   0%|          | 0/1 [00:00<?, ?it/s]"
      ]
     },
     "metadata": {},
     "output_type": "display_data"
    },
    {
     "data": {
      "application/vnd.jupyter.widget-view+json": {
       "model_id": "",
       "version_major": 2,
       "version_minor": 0
      },
      "text/plain": [
       "PGD - Iterations:   0%|          | 0/50 [00:00<?, ?it/s]"
      ]
     },
     "metadata": {},
     "output_type": "display_data"
    },
    {
     "name": "stdout",
     "output_type": "stream",
     "text": [
      "Prediction after pert: kit fox, Vulpes macrotis - confidence 0.98\n",
      "---------------------------------------------\n",
      "Prediction of adversarial sample after spatial deffense: kit fox, Vulpes macrotis - confidence 0.97\n",
      "---------------------------------------------\n",
      "original Prediction: whiptail, whiptail lizard - confidence 0.45\n"
     ]
    },
    {
     "data": {
      "application/vnd.jupyter.widget-view+json": {
       "model_id": "5e6a802147ac4cd0a7d8a12042ddf60f",
       "version_major": 2,
       "version_minor": 0
      },
      "text/plain": [
       "PGD - Random Initializations:   0%|          | 0/1 [00:00<?, ?it/s]"
      ]
     },
     "metadata": {},
     "output_type": "display_data"
    },
    {
     "data": {
      "application/vnd.jupyter.widget-view+json": {
       "model_id": "",
       "version_major": 2,
       "version_minor": 0
      },
      "text/plain": [
       "PGD - Iterations:   0%|          | 0/50 [00:00<?, ?it/s]"
      ]
     },
     "metadata": {},
     "output_type": "display_data"
    },
    {
     "name": "stdout",
     "output_type": "stream",
     "text": [
      "Prediction after pert: European fire salamander, Salamandra salamandra - confidence 1.00\n",
      "---------------------------------------------\n",
      "Prediction of adversarial sample after spatial deffense: European fire salamander, Salamandra salamandra - confidence 1.00\n",
      "---------------------------------------------\n",
      "original Prediction: whiptail, whiptail lizard - confidence 0.98\n"
     ]
    },
    {
     "data": {
      "application/vnd.jupyter.widget-view+json": {
       "model_id": "5bcae41308ae4b0482199c79c3ca4301",
       "version_major": 2,
       "version_minor": 0
      },
      "text/plain": [
       "PGD - Random Initializations:   0%|          | 0/1 [00:00<?, ?it/s]"
      ]
     },
     "metadata": {},
     "output_type": "display_data"
    },
    {
     "data": {
      "application/vnd.jupyter.widget-view+json": {
       "model_id": "",
       "version_major": 2,
       "version_minor": 0
      },
      "text/plain": [
       "PGD - Iterations:   0%|          | 0/50 [00:00<?, ?it/s]"
      ]
     },
     "metadata": {},
     "output_type": "display_data"
    },
    {
     "name": "stdout",
     "output_type": "stream",
     "text": [
      "Prediction after pert: hognose snake, puff adder, sand viper - confidence 1.00\n",
      "---------------------------------------------\n",
      "Prediction of adversarial sample after spatial deffense: hognose snake, puff adder, sand viper - confidence 1.00\n",
      "---------------------------------------------\n",
      "original Prediction: agama - confidence 0.54\n"
     ]
    },
    {
     "data": {
      "application/vnd.jupyter.widget-view+json": {
       "model_id": "b2a98afddbe34e50b9b6bfe490de27e1",
       "version_major": 2,
       "version_minor": 0
      },
      "text/plain": [
       "PGD - Random Initializations:   0%|          | 0/1 [00:00<?, ?it/s]"
      ]
     },
     "metadata": {},
     "output_type": "display_data"
    },
    {
     "data": {
      "application/vnd.jupyter.widget-view+json": {
       "model_id": "",
       "version_major": 2,
       "version_minor": 0
      },
      "text/plain": [
       "PGD - Iterations:   0%|          | 0/50 [00:00<?, ?it/s]"
      ]
     },
     "metadata": {},
     "output_type": "display_data"
    },
    {
     "name": "stdout",
     "output_type": "stream",
     "text": [
      "Prediction after pert: wild boar, boar, Sus scrofa - confidence 0.99\n",
      "---------------------------------------------\n",
      "Prediction of adversarial sample after spatial deffense: wild boar, boar, Sus scrofa - confidence 0.98\n",
      "---------------------------------------------\n",
      "original Prediction: agama - confidence 1.00\n"
     ]
    },
    {
     "data": {
      "application/vnd.jupyter.widget-view+json": {
       "model_id": "09fe601dfc2b4e46bffa3f20627b3056",
       "version_major": 2,
       "version_minor": 0
      },
      "text/plain": [
       "PGD - Random Initializations:   0%|          | 0/1 [00:00<?, ?it/s]"
      ]
     },
     "metadata": {},
     "output_type": "display_data"
    },
    {
     "data": {
      "application/vnd.jupyter.widget-view+json": {
       "model_id": "",
       "version_major": 2,
       "version_minor": 0
      },
      "text/plain": [
       "PGD - Iterations:   0%|          | 0/50 [00:00<?, ?it/s]"
      ]
     },
     "metadata": {},
     "output_type": "display_data"
    },
    {
     "name": "stdout",
     "output_type": "stream",
     "text": [
      "Prediction after pert: triceratops - confidence 1.00\n",
      "---------------------------------------------\n",
      "Prediction of adversarial sample after spatial deffense: triceratops - confidence 1.00\n",
      "---------------------------------------------\n",
      "original Prediction: European fire salamander, Salamandra salamandra - confidence 0.28\n"
     ]
    },
    {
     "data": {
      "application/vnd.jupyter.widget-view+json": {
       "model_id": "6bd6e898bded42dcbf669bdcc2d2d4e0",
       "version_major": 2,
       "version_minor": 0
      },
      "text/plain": [
       "PGD - Random Initializations:   0%|          | 0/1 [00:00<?, ?it/s]"
      ]
     },
     "metadata": {},
     "output_type": "display_data"
    },
    {
     "data": {
      "application/vnd.jupyter.widget-view+json": {
       "model_id": "",
       "version_major": 2,
       "version_minor": 0
      },
      "text/plain": [
       "PGD - Iterations:   0%|          | 0/50 [00:00<?, ?it/s]"
      ]
     },
     "metadata": {},
     "output_type": "display_data"
    },
    {
     "name": "stdout",
     "output_type": "stream",
     "text": [
      "Prediction after pert: frilled lizard, Chlamydosaurus kingi - confidence 1.00\n",
      "---------------------------------------------\n",
      "Prediction of adversarial sample after spatial deffense: frilled lizard, Chlamydosaurus kingi - confidence 1.00\n",
      "---------------------------------------------\n",
      "original Prediction: agama - confidence 1.00\n"
     ]
    },
    {
     "data": {
      "application/vnd.jupyter.widget-view+json": {
       "model_id": "f6330232f2fd460bafa9d633b5625135",
       "version_major": 2,
       "version_minor": 0
      },
      "text/plain": [
       "PGD - Random Initializations:   0%|          | 0/1 [00:00<?, ?it/s]"
      ]
     },
     "metadata": {},
     "output_type": "display_data"
    },
    {
     "data": {
      "application/vnd.jupyter.widget-view+json": {
       "model_id": "",
       "version_major": 2,
       "version_minor": 0
      },
      "text/plain": [
       "PGD - Iterations:   0%|          | 0/50 [00:00<?, ?it/s]"
      ]
     },
     "metadata": {},
     "output_type": "display_data"
    },
    {
     "name": "stdout",
     "output_type": "stream",
     "text": [
      "Prediction after pert: poncho - confidence 1.00\n",
      "---------------------------------------------\n",
      "Prediction of adversarial sample after spatial deffense: poncho - confidence 1.00\n",
      "---------------------------------------------\n",
      "original Prediction: agama - confidence 0.66\n"
     ]
    },
    {
     "data": {
      "application/vnd.jupyter.widget-view+json": {
       "model_id": "08cf2329ddc44afbbdde13d766704bed",
       "version_major": 2,
       "version_minor": 0
      },
      "text/plain": [
       "PGD - Random Initializations:   0%|          | 0/1 [00:00<?, ?it/s]"
      ]
     },
     "metadata": {},
     "output_type": "display_data"
    },
    {
     "data": {
      "application/vnd.jupyter.widget-view+json": {
       "model_id": "",
       "version_major": 2,
       "version_minor": 0
      },
      "text/plain": [
       "PGD - Iterations:   0%|          | 0/50 [00:00<?, ?it/s]"
      ]
     },
     "metadata": {},
     "output_type": "display_data"
    },
    {
     "name": "stdout",
     "output_type": "stream",
     "text": [
      "Prediction after pert: American chameleon, anole, Anolis carolinensis - confidence 1.00\n",
      "---------------------------------------------\n",
      "Prediction of adversarial sample after spatial deffense: American chameleon, anole, Anolis carolinensis - confidence 1.00\n",
      "---------------------------------------------\n",
      "original Prediction: agama - confidence 0.66\n"
     ]
    },
    {
     "data": {
      "application/vnd.jupyter.widget-view+json": {
       "model_id": "752a56696cb14093bcb8954e46bcc419",
       "version_major": 2,
       "version_minor": 0
      },
      "text/plain": [
       "PGD - Random Initializations:   0%|          | 0/1 [00:00<?, ?it/s]"
      ]
     },
     "metadata": {},
     "output_type": "display_data"
    },
    {
     "data": {
      "application/vnd.jupyter.widget-view+json": {
       "model_id": "",
       "version_major": 2,
       "version_minor": 0
      },
      "text/plain": [
       "PGD - Iterations:   0%|          | 0/50 [00:00<?, ?it/s]"
      ]
     },
     "metadata": {},
     "output_type": "display_data"
    },
    {
     "name": "stdout",
     "output_type": "stream",
     "text": [
      "Prediction after pert: rock python, rock snake, Python sebae - confidence 1.00\n",
      "---------------------------------------------\n",
      "Prediction of adversarial sample after spatial deffense: rock python, rock snake, Python sebae - confidence 1.00\n",
      "---------------------------------------------\n",
      "original Prediction: frilled lizard, Chlamydosaurus kingi - confidence 0.76\n"
     ]
    },
    {
     "data": {
      "application/vnd.jupyter.widget-view+json": {
       "model_id": "355e33ca27ad4731940d923c5ec5ca63",
       "version_major": 2,
       "version_minor": 0
      },
      "text/plain": [
       "PGD - Random Initializations:   0%|          | 0/1 [00:00<?, ?it/s]"
      ]
     },
     "metadata": {},
     "output_type": "display_data"
    },
    {
     "data": {
      "application/vnd.jupyter.widget-view+json": {
       "model_id": "",
       "version_major": 2,
       "version_minor": 0
      },
      "text/plain": [
       "PGD - Iterations:   0%|          | 0/50 [00:00<?, ?it/s]"
      ]
     },
     "metadata": {},
     "output_type": "display_data"
    },
    {
     "name": "stdout",
     "output_type": "stream",
     "text": [
      "Prediction after pert: jacamar - confidence 1.00\n",
      "---------------------------------------------\n",
      "Prediction of adversarial sample after spatial deffense: jacamar - confidence 1.00\n",
      "---------------------------------------------\n",
      "original Prediction: koala, koala bear, kangaroo bear, native bear, Phascolarctos cinereus - confidence 0.32\n"
     ]
    },
    {
     "data": {
      "application/vnd.jupyter.widget-view+json": {
       "model_id": "3881a2c76c9a422389b5c474bbf41907",
       "version_major": 2,
       "version_minor": 0
      },
      "text/plain": [
       "PGD - Random Initializations:   0%|          | 0/1 [00:00<?, ?it/s]"
      ]
     },
     "metadata": {},
     "output_type": "display_data"
    },
    {
     "data": {
      "application/vnd.jupyter.widget-view+json": {
       "model_id": "",
       "version_major": 2,
       "version_minor": 0
      },
      "text/plain": [
       "PGD - Iterations:   0%|          | 0/50 [00:00<?, ?it/s]"
      ]
     },
     "metadata": {},
     "output_type": "display_data"
    },
    {
     "name": "stdout",
     "output_type": "stream",
     "text": [
      "Prediction after pert: leafhopper - confidence 1.00\n",
      "---------------------------------------------\n",
      "Prediction of adversarial sample after spatial deffense: leafhopper - confidence 1.00\n",
      "---------------------------------------------\n",
      "original Prediction: frilled lizard, Chlamydosaurus kingi - confidence 1.00\n"
     ]
    },
    {
     "data": {
      "application/vnd.jupyter.widget-view+json": {
       "model_id": "3f19be124c6c406c8201c4343fcdc69f",
       "version_major": 2,
       "version_minor": 0
      },
      "text/plain": [
       "PGD - Random Initializations:   0%|          | 0/1 [00:00<?, ?it/s]"
      ]
     },
     "metadata": {},
     "output_type": "display_data"
    },
    {
     "data": {
      "application/vnd.jupyter.widget-view+json": {
       "model_id": "",
       "version_major": 2,
       "version_minor": 0
      },
      "text/plain": [
       "PGD - Iterations:   0%|          | 0/50 [00:00<?, ?it/s]"
      ]
     },
     "metadata": {},
     "output_type": "display_data"
    },
    {
     "name": "stdout",
     "output_type": "stream",
     "text": [
      "Prediction after pert: sea cucumber, holothurian - confidence 1.00\n",
      "---------------------------------------------\n",
      "Prediction of adversarial sample after spatial deffense: sea cucumber, holothurian - confidence 1.00\n",
      "---------------------------------------------\n",
      "original Prediction: volcano - confidence 0.08\n"
     ]
    },
    {
     "data": {
      "application/vnd.jupyter.widget-view+json": {
       "model_id": "96a6dfb644cc41fa8f3f60ff3e5bc220",
       "version_major": 2,
       "version_minor": 0
      },
      "text/plain": [
       "PGD - Random Initializations:   0%|          | 0/1 [00:00<?, ?it/s]"
      ]
     },
     "metadata": {},
     "output_type": "display_data"
    },
    {
     "data": {
      "application/vnd.jupyter.widget-view+json": {
       "model_id": "",
       "version_major": 2,
       "version_minor": 0
      },
      "text/plain": [
       "PGD - Iterations:   0%|          | 0/50 [00:00<?, ?it/s]"
      ]
     },
     "metadata": {},
     "output_type": "display_data"
    },
    {
     "name": "stdout",
     "output_type": "stream",
     "text": [
      "Prediction after pert: Komodo dragon, Komodo lizard, dragon lizard, giant lizard, Varanus komodoensis - confidence 1.00\n",
      "---------------------------------------------\n",
      "Prediction of adversarial sample after spatial deffense: Komodo dragon, Komodo lizard, dragon lizard, giant lizard, Varanus komodoensis - confidence 1.00\n",
      "---------------------------------------------\n",
      "original Prediction: frilled lizard, Chlamydosaurus kingi - confidence 0.99\n"
     ]
    },
    {
     "data": {
      "application/vnd.jupyter.widget-view+json": {
       "model_id": "59c270035b2c4af3b67555a8ba679430",
       "version_major": 2,
       "version_minor": 0
      },
      "text/plain": [
       "PGD - Random Initializations:   0%|          | 0/1 [00:00<?, ?it/s]"
      ]
     },
     "metadata": {},
     "output_type": "display_data"
    },
    {
     "data": {
      "application/vnd.jupyter.widget-view+json": {
       "model_id": "",
       "version_major": 2,
       "version_minor": 0
      },
      "text/plain": [
       "PGD - Iterations:   0%|          | 0/50 [00:00<?, ?it/s]"
      ]
     },
     "metadata": {},
     "output_type": "display_data"
    },
    {
     "name": "stdout",
     "output_type": "stream",
     "text": [
      "Prediction after pert: weevil - confidence 1.00\n",
      "---------------------------------------------\n",
      "Prediction of adversarial sample after spatial deffense: weevil - confidence 1.00\n",
      "---------------------------------------------\n",
      "original Prediction: frilled lizard, Chlamydosaurus kingi - confidence 0.93\n"
     ]
    },
    {
     "data": {
      "application/vnd.jupyter.widget-view+json": {
       "model_id": "7fbcf9f3c66e45799af987aa7d5696e4",
       "version_major": 2,
       "version_minor": 0
      },
      "text/plain": [
       "PGD - Random Initializations:   0%|          | 0/1 [00:00<?, ?it/s]"
      ]
     },
     "metadata": {},
     "output_type": "display_data"
    },
    {
     "data": {
      "application/vnd.jupyter.widget-view+json": {
       "model_id": "",
       "version_major": 2,
       "version_minor": 0
      },
      "text/plain": [
       "PGD - Iterations:   0%|          | 0/50 [00:00<?, ?it/s]"
      ]
     },
     "metadata": {},
     "output_type": "display_data"
    },
    {
     "name": "stdout",
     "output_type": "stream",
     "text": [
      "Prediction after pert: agama - confidence 1.00\n",
      "---------------------------------------------\n",
      "Prediction of adversarial sample after spatial deffense: agama - confidence 1.00\n",
      "---------------------------------------------\n",
      "original Prediction: agama - confidence 0.37\n"
     ]
    },
    {
     "data": {
      "application/vnd.jupyter.widget-view+json": {
       "model_id": "7cb05e67d4554ffaae26a45bf221d0a7",
       "version_major": 2,
       "version_minor": 0
      },
      "text/plain": [
       "PGD - Random Initializations:   0%|          | 0/1 [00:00<?, ?it/s]"
      ]
     },
     "metadata": {},
     "output_type": "display_data"
    },
    {
     "data": {
      "application/vnd.jupyter.widget-view+json": {
       "model_id": "",
       "version_major": 2,
       "version_minor": 0
      },
      "text/plain": [
       "PGD - Iterations:   0%|          | 0/50 [00:00<?, ?it/s]"
      ]
     },
     "metadata": {},
     "output_type": "display_data"
    },
    {
     "name": "stdout",
     "output_type": "stream",
     "text": [
      "Prediction after pert: cloak - confidence 1.00\n",
      "---------------------------------------------\n",
      "Prediction of adversarial sample after spatial deffense: cloak - confidence 1.00\n",
      "---------------------------------------------\n",
      "original Prediction: thunder snake, worm snake, Carphophis amoenus - confidence 0.43\n"
     ]
    },
    {
     "data": {
      "application/vnd.jupyter.widget-view+json": {
       "model_id": "eba29a0189194d459c93f14117d99921",
       "version_major": 2,
       "version_minor": 0
      },
      "text/plain": [
       "PGD - Random Initializations:   0%|          | 0/1 [00:00<?, ?it/s]"
      ]
     },
     "metadata": {},
     "output_type": "display_data"
    },
    {
     "data": {
      "application/vnd.jupyter.widget-view+json": {
       "model_id": "",
       "version_major": 2,
       "version_minor": 0
      },
      "text/plain": [
       "PGD - Iterations:   0%|          | 0/50 [00:00<?, ?it/s]"
      ]
     },
     "metadata": {},
     "output_type": "display_data"
    },
    {
     "name": "stdout",
     "output_type": "stream",
     "text": [
      "Prediction after pert: whiptail, whiptail lizard - confidence 1.00\n",
      "---------------------------------------------\n",
      "Prediction of adversarial sample after spatial deffense: whiptail, whiptail lizard - confidence 1.00\n",
      "---------------------------------------------\n",
      "original Prediction: alligator lizard - confidence 1.00\n"
     ]
    },
    {
     "data": {
      "application/vnd.jupyter.widget-view+json": {
       "model_id": "6155222e909d456ea245982031072af0",
       "version_major": 2,
       "version_minor": 0
      },
      "text/plain": [
       "PGD - Random Initializations:   0%|          | 0/1 [00:00<?, ?it/s]"
      ]
     },
     "metadata": {},
     "output_type": "display_data"
    },
    {
     "data": {
      "application/vnd.jupyter.widget-view+json": {
       "model_id": "",
       "version_major": 2,
       "version_minor": 0
      },
      "text/plain": [
       "PGD - Iterations:   0%|          | 0/50 [00:00<?, ?it/s]"
      ]
     },
     "metadata": {},
     "output_type": "display_data"
    },
    {
     "name": "stdout",
     "output_type": "stream",
     "text": [
      "Prediction after pert: whiptail, whiptail lizard - confidence 1.00\n",
      "---------------------------------------------\n",
      "Prediction of adversarial sample after spatial deffense: whiptail, whiptail lizard - confidence 1.00\n",
      "---------------------------------------------\n",
      "original Prediction: thunder snake, worm snake, Carphophis amoenus - confidence 0.34\n"
     ]
    },
    {
     "data": {
      "application/vnd.jupyter.widget-view+json": {
       "model_id": "63364572ef5f45988f4b0bd791f0001b",
       "version_major": 2,
       "version_minor": 0
      },
      "text/plain": [
       "PGD - Random Initializations:   0%|          | 0/1 [00:00<?, ?it/s]"
      ]
     },
     "metadata": {},
     "output_type": "display_data"
    },
    {
     "data": {
      "application/vnd.jupyter.widget-view+json": {
       "model_id": "",
       "version_major": 2,
       "version_minor": 0
      },
      "text/plain": [
       "PGD - Iterations:   0%|          | 0/50 [00:00<?, ?it/s]"
      ]
     },
     "metadata": {},
     "output_type": "display_data"
    },
    {
     "name": "stdout",
     "output_type": "stream",
     "text": [
      "Prediction after pert: horned viper, cerastes, sand viper, horned asp, Cerastes cornutus - confidence 1.00\n",
      "---------------------------------------------\n",
      "Prediction of adversarial sample after spatial deffense: horned viper, cerastes, sand viper, horned asp, Cerastes cornutus - confidence 1.00\n",
      "---------------------------------------------\n",
      "original Prediction: starfish, sea star - confidence 0.46\n"
     ]
    },
    {
     "data": {
      "application/vnd.jupyter.widget-view+json": {
       "model_id": "0fece29df43a4cb599d199b0a8ae4d99",
       "version_major": 2,
       "version_minor": 0
      },
      "text/plain": [
       "PGD - Random Initializations:   0%|          | 0/1 [00:00<?, ?it/s]"
      ]
     },
     "metadata": {},
     "output_type": "display_data"
    },
    {
     "data": {
      "application/vnd.jupyter.widget-view+json": {
       "model_id": "",
       "version_major": 2,
       "version_minor": 0
      },
      "text/plain": [
       "PGD - Iterations:   0%|          | 0/50 [00:00<?, ?it/s]"
      ]
     },
     "metadata": {},
     "output_type": "display_data"
    },
    {
     "name": "stdout",
     "output_type": "stream",
     "text": [
      "Prediction after pert: alligator lizard - confidence 1.00\n",
      "---------------------------------------------\n",
      "Prediction of adversarial sample after spatial deffense: alligator lizard - confidence 1.00\n",
      "correctly classified after deffense\n",
      "---------------------------------------------\n",
      "original Prediction: walking stick, walkingstick, stick insect - confidence 0.23\n"
     ]
    },
    {
     "data": {
      "application/vnd.jupyter.widget-view+json": {
       "model_id": "a8cb9e44e5bd4bb0bbd3e50045322044",
       "version_major": 2,
       "version_minor": 0
      },
      "text/plain": [
       "PGD - Random Initializations:   0%|          | 0/1 [00:00<?, ?it/s]"
      ]
     },
     "metadata": {},
     "output_type": "display_data"
    },
    {
     "data": {
      "application/vnd.jupyter.widget-view+json": {
       "model_id": "",
       "version_major": 2,
       "version_minor": 0
      },
      "text/plain": [
       "PGD - Iterations:   0%|          | 0/50 [00:00<?, ?it/s]"
      ]
     },
     "metadata": {},
     "output_type": "display_data"
    },
    {
     "name": "stdout",
     "output_type": "stream",
     "text": [
      "Prediction after pert: broom - confidence 1.00\n",
      "---------------------------------------------\n",
      "Prediction of adversarial sample after spatial deffense: broom - confidence 1.00\n",
      "---------------------------------------------\n",
      "original Prediction: Gila monster, Heloderma suspectum - confidence 0.84\n"
     ]
    },
    {
     "data": {
      "application/vnd.jupyter.widget-view+json": {
       "model_id": "b0de5ad4d4b64c37b538ae6a5fb846cf",
       "version_major": 2,
       "version_minor": 0
      },
      "text/plain": [
       "PGD - Random Initializations:   0%|          | 0/1 [00:00<?, ?it/s]"
      ]
     },
     "metadata": {},
     "output_type": "display_data"
    },
    {
     "data": {
      "application/vnd.jupyter.widget-view+json": {
       "model_id": "",
       "version_major": 2,
       "version_minor": 0
      },
      "text/plain": [
       "PGD - Iterations:   0%|          | 0/50 [00:00<?, ?it/s]"
      ]
     },
     "metadata": {},
     "output_type": "display_data"
    },
    {
     "name": "stdout",
     "output_type": "stream",
     "text": [
      "Prediction after pert: banded gecko - confidence 1.00\n",
      "---------------------------------------------\n",
      "Prediction of adversarial sample after spatial deffense: banded gecko - confidence 1.00\n",
      "---------------------------------------------\n",
      "original Prediction: Gila monster, Heloderma suspectum - confidence 1.00\n"
     ]
    },
    {
     "data": {
      "application/vnd.jupyter.widget-view+json": {
       "model_id": "a87473606f814d47b812d3a96258448b",
       "version_major": 2,
       "version_minor": 0
      },
      "text/plain": [
       "PGD - Random Initializations:   0%|          | 0/1 [00:00<?, ?it/s]"
      ]
     },
     "metadata": {},
     "output_type": "display_data"
    },
    {
     "data": {
      "application/vnd.jupyter.widget-view+json": {
       "model_id": "",
       "version_major": 2,
       "version_minor": 0
      },
      "text/plain": [
       "PGD - Iterations:   0%|          | 0/50 [00:00<?, ?it/s]"
      ]
     },
     "metadata": {},
     "output_type": "display_data"
    },
    {
     "name": "stdout",
     "output_type": "stream",
     "text": [
      "Prediction after pert: sea cucumber, holothurian - confidence 1.00\n",
      "---------------------------------------------\n",
      "Prediction of adversarial sample after spatial deffense: sea cucumber, holothurian - confidence 1.00\n",
      "---------------------------------------------\n",
      "original Prediction: worm fence, snake fence, snake-rail fence, Virginia fence - confidence 0.30\n"
     ]
    },
    {
     "data": {
      "application/vnd.jupyter.widget-view+json": {
       "model_id": "649887abc1b748b6aeaa252b0acce534",
       "version_major": 2,
       "version_minor": 0
      },
      "text/plain": [
       "PGD - Random Initializations:   0%|          | 0/1 [00:00<?, ?it/s]"
      ]
     },
     "metadata": {},
     "output_type": "display_data"
    },
    {
     "data": {
      "application/vnd.jupyter.widget-view+json": {
       "model_id": "",
       "version_major": 2,
       "version_minor": 0
      },
      "text/plain": [
       "PGD - Iterations:   0%|          | 0/50 [00:00<?, ?it/s]"
      ]
     },
     "metadata": {},
     "output_type": "display_data"
    },
    {
     "name": "stdout",
     "output_type": "stream",
     "text": [
      "Prediction after pert: Gila monster, Heloderma suspectum - confidence 1.00\n",
      "---------------------------------------------\n",
      "Prediction of adversarial sample after spatial deffense: Gila monster, Heloderma suspectum - confidence 1.00\n",
      "---------------------------------------------\n",
      "original Prediction: hay - confidence 0.22\n"
     ]
    },
    {
     "data": {
      "application/vnd.jupyter.widget-view+json": {
       "model_id": "9bb5c20d5b48430796e38702b75e5311",
       "version_major": 2,
       "version_minor": 0
      },
      "text/plain": [
       "PGD - Random Initializations:   0%|          | 0/1 [00:00<?, ?it/s]"
      ]
     },
     "metadata": {},
     "output_type": "display_data"
    },
    {
     "data": {
      "application/vnd.jupyter.widget-view+json": {
       "model_id": "",
       "version_major": 2,
       "version_minor": 0
      },
      "text/plain": [
       "PGD - Iterations:   0%|          | 0/50 [00:00<?, ?it/s]"
      ]
     },
     "metadata": {},
     "output_type": "display_data"
    },
    {
     "name": "stdout",
     "output_type": "stream",
     "text": [
      "Prediction after pert: Arabian camel, dromedary, Camelus dromedarius - confidence 1.00\n",
      "---------------------------------------------\n",
      "Prediction of adversarial sample after spatial deffense: Arabian camel, dromedary, Camelus dromedarius - confidence 1.00\n",
      "---------------------------------------------\n",
      "original Prediction: mongoose - confidence 0.17\n"
     ]
    },
    {
     "data": {
      "application/vnd.jupyter.widget-view+json": {
       "model_id": "4ed86bbc2641470686bbb238f23af5ba",
       "version_major": 2,
       "version_minor": 0
      },
      "text/plain": [
       "PGD - Random Initializations:   0%|          | 0/1 [00:00<?, ?it/s]"
      ]
     },
     "metadata": {},
     "output_type": "display_data"
    },
    {
     "data": {
      "application/vnd.jupyter.widget-view+json": {
       "model_id": "",
       "version_major": 2,
       "version_minor": 0
      },
      "text/plain": [
       "PGD - Iterations:   0%|          | 0/50 [00:00<?, ?it/s]"
      ]
     },
     "metadata": {},
     "output_type": "display_data"
    },
    {
     "name": "stdout",
     "output_type": "stream",
     "text": [
      "Prediction after pert: cliff, drop, drop-off - confidence 1.00\n",
      "---------------------------------------------\n",
      "Prediction of adversarial sample after spatial deffense: cliff, drop, drop-off - confidence 1.00\n",
      "---------------------------------------------\n",
      "original Prediction: Gila monster, Heloderma suspectum - confidence 1.00\n"
     ]
    },
    {
     "data": {
      "application/vnd.jupyter.widget-view+json": {
       "model_id": "35515276a6ee4e1b801234ee62e08f6c",
       "version_major": 2,
       "version_minor": 0
      },
      "text/plain": [
       "PGD - Random Initializations:   0%|          | 0/1 [00:00<?, ?it/s]"
      ]
     },
     "metadata": {},
     "output_type": "display_data"
    },
    {
     "data": {
      "application/vnd.jupyter.widget-view+json": {
       "model_id": "",
       "version_major": 2,
       "version_minor": 0
      },
      "text/plain": [
       "PGD - Iterations:   0%|          | 0/50 [00:00<?, ?it/s]"
      ]
     },
     "metadata": {},
     "output_type": "display_data"
    },
    {
     "name": "stdout",
     "output_type": "stream",
     "text": [
      "Prediction after pert: Komodo dragon, Komodo lizard, dragon lizard, giant lizard, Varanus komodoensis - confidence 1.00\n",
      "---------------------------------------------\n",
      "Prediction of adversarial sample after spatial deffense: Komodo dragon, Komodo lizard, dragon lizard, giant lizard, Varanus komodoensis - confidence 1.00\n",
      "---------------------------------------------\n",
      "original Prediction: bullfrog, Rana catesbeiana - confidence 0.11\n"
     ]
    },
    {
     "data": {
      "application/vnd.jupyter.widget-view+json": {
       "model_id": "a11b0b8628cd4b0ba83ef06e008b6f75",
       "version_major": 2,
       "version_minor": 0
      },
      "text/plain": [
       "PGD - Random Initializations:   0%|          | 0/1 [00:00<?, ?it/s]"
      ]
     },
     "metadata": {},
     "output_type": "display_data"
    },
    {
     "data": {
      "application/vnd.jupyter.widget-view+json": {
       "model_id": "",
       "version_major": 2,
       "version_minor": 0
      },
      "text/plain": [
       "PGD - Iterations:   0%|          | 0/50 [00:00<?, ?it/s]"
      ]
     },
     "metadata": {},
     "output_type": "display_data"
    },
    {
     "name": "stdout",
     "output_type": "stream",
     "text": [
      "Prediction after pert: Indian cobra, Naja naja - confidence 1.00\n",
      "---------------------------------------------\n",
      "Prediction of adversarial sample after spatial deffense: Indian cobra, Naja naja - confidence 1.00\n",
      "---------------------------------------------\n",
      "original Prediction: common iguana, iguana, Iguana iguana - confidence 0.45\n"
     ]
    },
    {
     "data": {
      "application/vnd.jupyter.widget-view+json": {
       "model_id": "246ebe4e8f2049ceb4e43edd35d734b4",
       "version_major": 2,
       "version_minor": 0
      },
      "text/plain": [
       "PGD - Random Initializations:   0%|          | 0/1 [00:00<?, ?it/s]"
      ]
     },
     "metadata": {},
     "output_type": "display_data"
    },
    {
     "data": {
      "application/vnd.jupyter.widget-view+json": {
       "model_id": "",
       "version_major": 2,
       "version_minor": 0
      },
      "text/plain": [
       "PGD - Iterations:   0%|          | 0/50 [00:00<?, ?it/s]"
      ]
     },
     "metadata": {},
     "output_type": "display_data"
    },
    {
     "name": "stdout",
     "output_type": "stream",
     "text": [
      "Prediction after pert: basset, basset hound - confidence 1.00\n",
      "---------------------------------------------\n",
      "Prediction of adversarial sample after spatial deffense: basset, basset hound - confidence 1.00\n",
      "---------------------------------------------\n",
      "original Prediction: green lizard, Lacerta viridis - confidence 0.44\n"
     ]
    },
    {
     "data": {
      "application/vnd.jupyter.widget-view+json": {
       "model_id": "beededdf4040463ba930fe6b340f9a09",
       "version_major": 2,
       "version_minor": 0
      },
      "text/plain": [
       "PGD - Random Initializations:   0%|          | 0/1 [00:00<?, ?it/s]"
      ]
     },
     "metadata": {},
     "output_type": "display_data"
    },
    {
     "data": {
      "application/vnd.jupyter.widget-view+json": {
       "model_id": "",
       "version_major": 2,
       "version_minor": 0
      },
      "text/plain": [
       "PGD - Iterations:   0%|          | 0/50 [00:00<?, ?it/s]"
      ]
     },
     "metadata": {},
     "output_type": "display_data"
    },
    {
     "name": "stdout",
     "output_type": "stream",
     "text": [
      "Prediction after pert: alligator lizard - confidence 1.00\n",
      "---------------------------------------------\n",
      "Prediction of adversarial sample after spatial deffense: alligator lizard - confidence 1.00\n",
      "---------------------------------------------\n",
      "original Prediction: bell pepper - confidence 0.38\n"
     ]
    },
    {
     "data": {
      "application/vnd.jupyter.widget-view+json": {
       "model_id": "f6df9f0783394e13b57be470525876f4",
       "version_major": 2,
       "version_minor": 0
      },
      "text/plain": [
       "PGD - Random Initializations:   0%|          | 0/1 [00:00<?, ?it/s]"
      ]
     },
     "metadata": {},
     "output_type": "display_data"
    },
    {
     "data": {
      "application/vnd.jupyter.widget-view+json": {
       "model_id": "",
       "version_major": 2,
       "version_minor": 0
      },
      "text/plain": [
       "PGD - Iterations:   0%|          | 0/50 [00:00<?, ?it/s]"
      ]
     },
     "metadata": {},
     "output_type": "display_data"
    },
    {
     "name": "stdout",
     "output_type": "stream",
     "text": [
      "Prediction after pert: cricket - confidence 1.00\n",
      "---------------------------------------------\n",
      "Prediction of adversarial sample after spatial deffense: cricket - confidence 0.97\n",
      "---------------------------------------------\n",
      "original Prediction: American chameleon, anole, Anolis carolinensis - confidence 0.59\n"
     ]
    },
    {
     "data": {
      "application/vnd.jupyter.widget-view+json": {
       "model_id": "136916ddb66640939b482184784f2ca1",
       "version_major": 2,
       "version_minor": 0
      },
      "text/plain": [
       "PGD - Random Initializations:   0%|          | 0/1 [00:00<?, ?it/s]"
      ]
     },
     "metadata": {},
     "output_type": "display_data"
    },
    {
     "data": {
      "application/vnd.jupyter.widget-view+json": {
       "model_id": "",
       "version_major": 2,
       "version_minor": 0
      },
      "text/plain": [
       "PGD - Iterations:   0%|          | 0/50 [00:00<?, ?it/s]"
      ]
     },
     "metadata": {},
     "output_type": "display_data"
    },
    {
     "name": "stdout",
     "output_type": "stream",
     "text": [
      "Prediction after pert: cricket - confidence 1.00\n",
      "---------------------------------------------\n",
      "Prediction of adversarial sample after spatial deffense: cricket - confidence 0.98\n",
      "---------------------------------------------\n",
      "original Prediction: green lizard, Lacerta viridis - confidence 0.56\n"
     ]
    },
    {
     "data": {
      "application/vnd.jupyter.widget-view+json": {
       "model_id": "52dce5243a9a4147826a6dc1506ae707",
       "version_major": 2,
       "version_minor": 0
      },
      "text/plain": [
       "PGD - Random Initializations:   0%|          | 0/1 [00:00<?, ?it/s]"
      ]
     },
     "metadata": {},
     "output_type": "display_data"
    },
    {
     "data": {
      "application/vnd.jupyter.widget-view+json": {
       "model_id": "",
       "version_major": 2,
       "version_minor": 0
      },
      "text/plain": [
       "PGD - Iterations:   0%|          | 0/50 [00:00<?, ?it/s]"
      ]
     },
     "metadata": {},
     "output_type": "display_data"
    },
    {
     "name": "stdout",
     "output_type": "stream",
     "text": [
      "Prediction after pert: hummingbird - confidence 1.00\n",
      "---------------------------------------------\n",
      "Prediction of adversarial sample after spatial deffense: hummingbird - confidence 1.00\n",
      "---------------------------------------------\n",
      "original Prediction: African chameleon, Chamaeleo chamaeleon - confidence 1.00\n"
     ]
    },
    {
     "data": {
      "application/vnd.jupyter.widget-view+json": {
       "model_id": "814ca4955d6e420f80a50e305aab5263",
       "version_major": 2,
       "version_minor": 0
      },
      "text/plain": [
       "PGD - Random Initializations:   0%|          | 0/1 [00:00<?, ?it/s]"
      ]
     },
     "metadata": {},
     "output_type": "display_data"
    },
    {
     "data": {
      "application/vnd.jupyter.widget-view+json": {
       "model_id": "",
       "version_major": 2,
       "version_minor": 0
      },
      "text/plain": [
       "PGD - Iterations:   0%|          | 0/50 [00:00<?, ?it/s]"
      ]
     },
     "metadata": {},
     "output_type": "display_data"
    },
    {
     "name": "stdout",
     "output_type": "stream",
     "text": [
      "Prediction after pert: jacamar - confidence 1.00\n",
      "---------------------------------------------\n",
      "Prediction of adversarial sample after spatial deffense: jacamar - confidence 1.00\n",
      "---------------------------------------------\n",
      "original Prediction: African chameleon, Chamaeleo chamaeleon - confidence 1.00\n"
     ]
    },
    {
     "data": {
      "application/vnd.jupyter.widget-view+json": {
       "model_id": "82de8ef519eb49c5904ed67d09f536c5",
       "version_major": 2,
       "version_minor": 0
      },
      "text/plain": [
       "PGD - Random Initializations:   0%|          | 0/1 [00:00<?, ?it/s]"
      ]
     },
     "metadata": {},
     "output_type": "display_data"
    },
    {
     "data": {
      "application/vnd.jupyter.widget-view+json": {
       "model_id": "",
       "version_major": 2,
       "version_minor": 0
      },
      "text/plain": [
       "PGD - Iterations:   0%|          | 0/50 [00:00<?, ?it/s]"
      ]
     },
     "metadata": {},
     "output_type": "display_data"
    },
    {
     "name": "stdout",
     "output_type": "stream",
     "text": [
      "Prediction after pert: acorn - confidence 1.00\n",
      "---------------------------------------------\n",
      "Prediction of adversarial sample after spatial deffense: acorn - confidence 1.00\n",
      "---------------------------------------------\n",
      "original Prediction: honeycomb - confidence 0.11\n"
     ]
    },
    {
     "data": {
      "application/vnd.jupyter.widget-view+json": {
       "model_id": "73fc0eb1d33d4a5299879ebeb9a8b37d",
       "version_major": 2,
       "version_minor": 0
      },
      "text/plain": [
       "PGD - Random Initializations:   0%|          | 0/1 [00:00<?, ?it/s]"
      ]
     },
     "metadata": {},
     "output_type": "display_data"
    },
    {
     "data": {
      "application/vnd.jupyter.widget-view+json": {
       "model_id": "",
       "version_major": 2,
       "version_minor": 0
      },
      "text/plain": [
       "PGD - Iterations:   0%|          | 0/50 [00:00<?, ?it/s]"
      ]
     },
     "metadata": {},
     "output_type": "display_data"
    },
    {
     "name": "stdout",
     "output_type": "stream",
     "text": [
      "Prediction after pert: garden spider, Aranea diademata - confidence 1.00\n",
      "---------------------------------------------\n",
      "Prediction of adversarial sample after spatial deffense: garden spider, Aranea diademata - confidence 0.98\n",
      "---------------------------------------------\n",
      "original Prediction: tailed frog, bell toad, ribbed toad, tailed toad, Ascaphus trui - confidence 0.65\n"
     ]
    },
    {
     "data": {
      "application/vnd.jupyter.widget-view+json": {
       "model_id": "751c1e544098405d9bda04a4e367bc71",
       "version_major": 2,
       "version_minor": 0
      },
      "text/plain": [
       "PGD - Random Initializations:   0%|          | 0/1 [00:00<?, ?it/s]"
      ]
     },
     "metadata": {},
     "output_type": "display_data"
    },
    {
     "data": {
      "application/vnd.jupyter.widget-view+json": {
       "model_id": "",
       "version_major": 2,
       "version_minor": 0
      },
      "text/plain": [
       "PGD - Iterations:   0%|          | 0/50 [00:00<?, ?it/s]"
      ]
     },
     "metadata": {},
     "output_type": "display_data"
    },
    {
     "name": "stdout",
     "output_type": "stream",
     "text": [
      "Prediction after pert: diamondback, diamondback rattlesnake, Crotalus adamanteus - confidence 1.00\n",
      "---------------------------------------------\n",
      "Prediction of adversarial sample after spatial deffense: diamondback, diamondback rattlesnake, Crotalus adamanteus - confidence 1.00\n",
      "---------------------------------------------\n",
      "original Prediction: African chameleon, Chamaeleo chamaeleon - confidence 1.00\n"
     ]
    },
    {
     "data": {
      "application/vnd.jupyter.widget-view+json": {
       "model_id": "0fe33d82ec704b82813ce0f78ac02361",
       "version_major": 2,
       "version_minor": 0
      },
      "text/plain": [
       "PGD - Random Initializations:   0%|          | 0/1 [00:00<?, ?it/s]"
      ]
     },
     "metadata": {},
     "output_type": "display_data"
    },
    {
     "data": {
      "application/vnd.jupyter.widget-view+json": {
       "model_id": "",
       "version_major": 2,
       "version_minor": 0
      },
      "text/plain": [
       "PGD - Iterations:   0%|          | 0/50 [00:00<?, ?it/s]"
      ]
     },
     "metadata": {},
     "output_type": "display_data"
    },
    {
     "name": "stdout",
     "output_type": "stream",
     "text": [
      "Prediction after pert: American chameleon, anole, Anolis carolinensis - confidence 1.00\n",
      "---------------------------------------------\n",
      "Prediction of adversarial sample after spatial deffense: American chameleon, anole, Anolis carolinensis - confidence 0.96\n",
      "---------------------------------------------\n",
      "original Prediction: African chameleon, Chamaeleo chamaeleon - confidence 0.97\n"
     ]
    },
    {
     "data": {
      "application/vnd.jupyter.widget-view+json": {
       "model_id": "46ad10f70ab44aa680323f4ffc20762c",
       "version_major": 2,
       "version_minor": 0
      },
      "text/plain": [
       "PGD - Random Initializations:   0%|          | 0/1 [00:00<?, ?it/s]"
      ]
     },
     "metadata": {},
     "output_type": "display_data"
    },
    {
     "data": {
      "application/vnd.jupyter.widget-view+json": {
       "model_id": "",
       "version_major": 2,
       "version_minor": 0
      },
      "text/plain": [
       "PGD - Iterations:   0%|          | 0/50 [00:00<?, ?it/s]"
      ]
     },
     "metadata": {},
     "output_type": "display_data"
    },
    {
     "name": "stdout",
     "output_type": "stream",
     "text": [
      "Prediction after pert: broccoli - confidence 1.00\n",
      "---------------------------------------------\n",
      "Prediction of adversarial sample after spatial deffense: broccoli - confidence 1.00\n",
      "---------------------------------------------\n",
      "original Prediction: Komodo dragon, Komodo lizard, dragon lizard, giant lizard, Varanus komodoensis - confidence 0.92\n"
     ]
    },
    {
     "data": {
      "application/vnd.jupyter.widget-view+json": {
       "model_id": "20fe2f6f6b844a178f622edae20d9a6c",
       "version_major": 2,
       "version_minor": 0
      },
      "text/plain": [
       "PGD - Random Initializations:   0%|          | 0/1 [00:00<?, ?it/s]"
      ]
     },
     "metadata": {},
     "output_type": "display_data"
    },
    {
     "data": {
      "application/vnd.jupyter.widget-view+json": {
       "model_id": "",
       "version_major": 2,
       "version_minor": 0
      },
      "text/plain": [
       "PGD - Iterations:   0%|          | 0/50 [00:00<?, ?it/s]"
      ]
     },
     "metadata": {},
     "output_type": "display_data"
    },
    {
     "name": "stdout",
     "output_type": "stream",
     "text": [
      "Prediction after pert: miniature poodle - confidence 0.98\n",
      "---------------------------------------------\n",
      "Prediction of adversarial sample after spatial deffense: miniature poodle - confidence 0.95\n",
      "---------------------------------------------\n",
      "original Prediction: Komodo dragon, Komodo lizard, dragon lizard, giant lizard, Varanus komodoensis - confidence 0.97\n"
     ]
    },
    {
     "data": {
      "application/vnd.jupyter.widget-view+json": {
       "model_id": "a473d6071be245d1b3623524329395e9",
       "version_major": 2,
       "version_minor": 0
      },
      "text/plain": [
       "PGD - Random Initializations:   0%|          | 0/1 [00:00<?, ?it/s]"
      ]
     },
     "metadata": {},
     "output_type": "display_data"
    },
    {
     "data": {
      "application/vnd.jupyter.widget-view+json": {
       "model_id": "",
       "version_major": 2,
       "version_minor": 0
      },
      "text/plain": [
       "PGD - Iterations:   0%|          | 0/50 [00:00<?, ?it/s]"
      ]
     },
     "metadata": {},
     "output_type": "display_data"
    },
    {
     "name": "stdout",
     "output_type": "stream",
     "text": [
      "Prediction after pert: agama - confidence 1.00\n",
      "---------------------------------------------\n",
      "Prediction of adversarial sample after spatial deffense: agama - confidence 1.00\n",
      "---------------------------------------------\n",
      "original Prediction: common iguana, iguana, Iguana iguana - confidence 0.39\n"
     ]
    },
    {
     "data": {
      "application/vnd.jupyter.widget-view+json": {
       "model_id": "d292d453718f4c5d990437eaf5b114e8",
       "version_major": 2,
       "version_minor": 0
      },
      "text/plain": [
       "PGD - Random Initializations:   0%|          | 0/1 [00:00<?, ?it/s]"
      ]
     },
     "metadata": {},
     "output_type": "display_data"
    },
    {
     "data": {
      "application/vnd.jupyter.widget-view+json": {
       "model_id": "",
       "version_major": 2,
       "version_minor": 0
      },
      "text/plain": [
       "PGD - Iterations:   0%|          | 0/50 [00:00<?, ?it/s]"
      ]
     },
     "metadata": {},
     "output_type": "display_data"
    },
    {
     "name": "stdout",
     "output_type": "stream",
     "text": [
      "Prediction after pert: horned viper, cerastes, sand viper, horned asp, Cerastes cornutus - confidence 1.00\n",
      "---------------------------------------------\n",
      "Prediction of adversarial sample after spatial deffense: horned viper, cerastes, sand viper, horned asp, Cerastes cornutus - confidence 1.00\n",
      "---------------------------------------------\n",
      "original Prediction: Komodo dragon, Komodo lizard, dragon lizard, giant lizard, Varanus komodoensis - confidence 0.79\n"
     ]
    },
    {
     "data": {
      "application/vnd.jupyter.widget-view+json": {
       "model_id": "594a67e93de34e7b9b10644c83cf2459",
       "version_major": 2,
       "version_minor": 0
      },
      "text/plain": [
       "PGD - Random Initializations:   0%|          | 0/1 [00:00<?, ?it/s]"
      ]
     },
     "metadata": {},
     "output_type": "display_data"
    },
    {
     "data": {
      "application/vnd.jupyter.widget-view+json": {
       "model_id": "",
       "version_major": 2,
       "version_minor": 0
      },
      "text/plain": [
       "PGD - Iterations:   0%|          | 0/50 [00:00<?, ?it/s]"
      ]
     },
     "metadata": {},
     "output_type": "display_data"
    },
    {
     "name": "stdout",
     "output_type": "stream",
     "text": [
      "Prediction after pert: mongoose - confidence 1.00\n",
      "---------------------------------------------\n",
      "Prediction of adversarial sample after spatial deffense: mongoose - confidence 1.00\n",
      "---------------------------------------------\n",
      "original Prediction: Komodo dragon, Komodo lizard, dragon lizard, giant lizard, Varanus komodoensis - confidence 0.96\n"
     ]
    },
    {
     "data": {
      "application/vnd.jupyter.widget-view+json": {
       "model_id": "80854667632948f5b6c80fac8c2c23a3",
       "version_major": 2,
       "version_minor": 0
      },
      "text/plain": [
       "PGD - Random Initializations:   0%|          | 0/1 [00:00<?, ?it/s]"
      ]
     },
     "metadata": {},
     "output_type": "display_data"
    },
    {
     "data": {
      "application/vnd.jupyter.widget-view+json": {
       "model_id": "",
       "version_major": 2,
       "version_minor": 0
      },
      "text/plain": [
       "PGD - Iterations:   0%|          | 0/50 [00:00<?, ?it/s]"
      ]
     },
     "metadata": {},
     "output_type": "display_data"
    },
    {
     "name": "stdout",
     "output_type": "stream",
     "text": [
      "Prediction after pert: rhinoceros beetle - confidence 1.00\n",
      "---------------------------------------------\n",
      "Prediction of adversarial sample after spatial deffense: rhinoceros beetle - confidence 1.00\n",
      "---------------------------------------------\n",
      "original Prediction: Komodo dragon, Komodo lizard, dragon lizard, giant lizard, Varanus komodoensis - confidence 0.41\n"
     ]
    },
    {
     "data": {
      "application/vnd.jupyter.widget-view+json": {
       "model_id": "62cb2c93ea7d46c1a85a336e950a8e8f",
       "version_major": 2,
       "version_minor": 0
      },
      "text/plain": [
       "PGD - Random Initializations:   0%|          | 0/1 [00:00<?, ?it/s]"
      ]
     },
     "metadata": {},
     "output_type": "display_data"
    },
    {
     "data": {
      "application/vnd.jupyter.widget-view+json": {
       "model_id": "",
       "version_major": 2,
       "version_minor": 0
      },
      "text/plain": [
       "PGD - Iterations:   0%|          | 0/50 [00:00<?, ?it/s]"
      ]
     },
     "metadata": {},
     "output_type": "display_data"
    },
    {
     "name": "stdout",
     "output_type": "stream",
     "text": [
      "Prediction after pert: coyote, prairie wolf, brush wolf, Canis latrans - confidence 1.00\n",
      "---------------------------------------------\n",
      "Prediction of adversarial sample after spatial deffense: coyote, prairie wolf, brush wolf, Canis latrans - confidence 1.00\n",
      "---------------------------------------------\n",
      "original Prediction: African crocodile, Nile crocodile, Crocodylus niloticus - confidence 0.99\n"
     ]
    },
    {
     "data": {
      "application/vnd.jupyter.widget-view+json": {
       "model_id": "d73fd8582c44497780d6268a712fae26",
       "version_major": 2,
       "version_minor": 0
      },
      "text/plain": [
       "PGD - Random Initializations:   0%|          | 0/1 [00:00<?, ?it/s]"
      ]
     },
     "metadata": {},
     "output_type": "display_data"
    },
    {
     "data": {
      "application/vnd.jupyter.widget-view+json": {
       "model_id": "",
       "version_major": 2,
       "version_minor": 0
      },
      "text/plain": [
       "PGD - Iterations:   0%|          | 0/50 [00:00<?, ?it/s]"
      ]
     },
     "metadata": {},
     "output_type": "display_data"
    },
    {
     "name": "stdout",
     "output_type": "stream",
     "text": [
      "Prediction after pert: boa constrictor, Constrictor constrictor - confidence 1.00\n",
      "---------------------------------------------\n",
      "Prediction of adversarial sample after spatial deffense: boa constrictor, Constrictor constrictor - confidence 1.00\n",
      "---------------------------------------------\n",
      "original Prediction: American alligator, Alligator mississipiensis - confidence 0.54\n"
     ]
    },
    {
     "data": {
      "application/vnd.jupyter.widget-view+json": {
       "model_id": "4bdd0c0b0d574fc2a08e1e75adea30d2",
       "version_major": 2,
       "version_minor": 0
      },
      "text/plain": [
       "PGD - Random Initializations:   0%|          | 0/1 [00:00<?, ?it/s]"
      ]
     },
     "metadata": {},
     "output_type": "display_data"
    },
    {
     "data": {
      "application/vnd.jupyter.widget-view+json": {
       "model_id": "",
       "version_major": 2,
       "version_minor": 0
      },
      "text/plain": [
       "PGD - Iterations:   0%|          | 0/50 [00:00<?, ?it/s]"
      ]
     },
     "metadata": {},
     "output_type": "display_data"
    },
    {
     "name": "stdout",
     "output_type": "stream",
     "text": [
      "Prediction after pert: cliff, drop, drop-off - confidence 1.00\n",
      "---------------------------------------------\n",
      "Prediction of adversarial sample after spatial deffense: cliff, drop, drop-off - confidence 1.00\n",
      "---------------------------------------------\n",
      "original Prediction: platypus, duckbill, duckbilled platypus, duck-billed platypus, Ornithorhynchus anatinus - confidence 0.63\n"
     ]
    },
    {
     "data": {
      "application/vnd.jupyter.widget-view+json": {
       "model_id": "0dcb7c8d82314c28b7b11de3c6ba3aa3",
       "version_major": 2,
       "version_minor": 0
      },
      "text/plain": [
       "PGD - Random Initializations:   0%|          | 0/1 [00:00<?, ?it/s]"
      ]
     },
     "metadata": {},
     "output_type": "display_data"
    },
    {
     "data": {
      "application/vnd.jupyter.widget-view+json": {
       "model_id": "",
       "version_major": 2,
       "version_minor": 0
      },
      "text/plain": [
       "PGD - Iterations:   0%|          | 0/50 [00:00<?, ?it/s]"
      ]
     },
     "metadata": {},
     "output_type": "display_data"
    },
    {
     "name": "stdout",
     "output_type": "stream",
     "text": [
      "Prediction after pert: koala, koala bear, kangaroo bear, native bear, Phascolarctos cinereus - confidence 1.00\n",
      "---------------------------------------------\n",
      "Prediction of adversarial sample after spatial deffense: koala, koala bear, kangaroo bear, native bear, Phascolarctos cinereus - confidence 1.00\n",
      "---------------------------------------------\n",
      "original Prediction: mobile home, manufactured home - confidence 0.19\n"
     ]
    },
    {
     "data": {
      "application/vnd.jupyter.widget-view+json": {
       "model_id": "2128f651c8d14623a5264bd239519bfc",
       "version_major": 2,
       "version_minor": 0
      },
      "text/plain": [
       "PGD - Random Initializations:   0%|          | 0/1 [00:00<?, ?it/s]"
      ]
     },
     "metadata": {},
     "output_type": "display_data"
    },
    {
     "data": {
      "application/vnd.jupyter.widget-view+json": {
       "model_id": "",
       "version_major": 2,
       "version_minor": 0
      },
      "text/plain": [
       "PGD - Iterations:   0%|          | 0/50 [00:00<?, ?it/s]"
      ]
     },
     "metadata": {},
     "output_type": "display_data"
    },
    {
     "name": "stdout",
     "output_type": "stream",
     "text": [
      "Prediction after pert: hippopotamus, hippo, river horse, Hippopotamus amphibius - confidence 1.00\n",
      "---------------------------------------------\n",
      "Prediction of adversarial sample after spatial deffense: hippopotamus, hippo, river horse, Hippopotamus amphibius - confidence 1.00\n",
      "---------------------------------------------\n",
      "original Prediction: water buffalo, water ox, Asiatic buffalo, Bubalus bubalis - confidence 0.16\n"
     ]
    },
    {
     "data": {
      "application/vnd.jupyter.widget-view+json": {
       "model_id": "1109c6152ddc483d887e37aa7a1da74b",
       "version_major": 2,
       "version_minor": 0
      },
      "text/plain": [
       "PGD - Random Initializations:   0%|          | 0/1 [00:00<?, ?it/s]"
      ]
     },
     "metadata": {},
     "output_type": "display_data"
    },
    {
     "data": {
      "application/vnd.jupyter.widget-view+json": {
       "model_id": "",
       "version_major": 2,
       "version_minor": 0
      },
      "text/plain": [
       "PGD - Iterations:   0%|          | 0/50 [00:00<?, ?it/s]"
      ]
     },
     "metadata": {},
     "output_type": "display_data"
    },
    {
     "name": "stdout",
     "output_type": "stream",
     "text": [
      "Prediction after pert: American alligator, Alligator mississipiensis - confidence 0.99\n",
      "---------------------------------------------\n",
      "Prediction of adversarial sample after spatial deffense: American alligator, Alligator mississipiensis - confidence 0.97\n",
      "---------------------------------------------\n",
      "original Prediction: African crocodile, Nile crocodile, Crocodylus niloticus - confidence 0.91\n"
     ]
    },
    {
     "data": {
      "application/vnd.jupyter.widget-view+json": {
       "model_id": "225806ebd270499ab4e2f246974bed37",
       "version_major": 2,
       "version_minor": 0
      },
      "text/plain": [
       "PGD - Random Initializations:   0%|          | 0/1 [00:00<?, ?it/s]"
      ]
     },
     "metadata": {},
     "output_type": "display_data"
    },
    {
     "data": {
      "application/vnd.jupyter.widget-view+json": {
       "model_id": "",
       "version_major": 2,
       "version_minor": 0
      },
      "text/plain": [
       "PGD - Iterations:   0%|          | 0/50 [00:00<?, ?it/s]"
      ]
     },
     "metadata": {},
     "output_type": "display_data"
    },
    {
     "name": "stdout",
     "output_type": "stream",
     "text": [
      "Prediction after pert: Komodo dragon, Komodo lizard, dragon lizard, giant lizard, Varanus komodoensis - confidence 1.00\n",
      "---------------------------------------------\n",
      "Prediction of adversarial sample after spatial deffense: Komodo dragon, Komodo lizard, dragon lizard, giant lizard, Varanus komodoensis - confidence 1.00\n",
      "---------------------------------------------\n",
      "total recovered truth label :  5 /300\n"
     ]
    }
   ],
   "source": [
    "from PIL import Image\n",
    "import numpy\n",
    "import os\n",
    "from keras.applications.vgg16 import preprocess_input\n",
    "\n",
    "x_art_list =[]\n",
    "x_art_adv_list = []\n",
    "\n",
    "\n",
    "folder_Copy = \"./FGSM/classes/\"\n",
    "\n",
    "################# original model Prediction\n",
    "from keras.applications.vgg16 import VGG16\n",
    "model = VGG16(weights='imagenet')\n",
    "################# original model Prediction\n",
    "\n",
    "\n",
    "################# Perturb Prediction\n",
    "from art.preprocessing.preprocessing import Preprocessor\n",
    "\n",
    "class VGG16Preprocessor(Preprocessor):\n",
    "\n",
    "    def __call__(self, x, y=None):\n",
    "        return preprocess_input(x.copy()), y\n",
    "\n",
    "    def estimate_gradient(self, x, gradient):\n",
    "        return gradient[..., ::-1]\n",
    "    \n",
    "# Create the ART preprocessor and classifier wrapper:\n",
    "preprocessor = VGG16Preprocessor()\n",
    "classifier = KerasClassifier(clip_values=(0, 255), model=model, preprocessing=preprocessor)\n",
    "################# Perturb Prediction\n",
    "count_correct=0\n",
    "count_img=0\n",
    "images =[]\n",
    "for j in range(50):\n",
    "#     print(\"class number: \", j)\n",
    "    img_names_src=[]\n",
    "    images_list = list()\n",
    "    folder = '/kaggle/input/classes-50/classes_50/'+str(j)+'/'\n",
    "    for i, image_path in enumerate(os.listdir(folder)):\n",
    "        img_names_src.append(image_path)\n",
    "        im = image.load_img(folder+image_path, target_size=(224, 224))\n",
    "        im = image.img_to_array(im)\n",
    "        images_list.append(im)\n",
    "#         print (image_path)\n",
    "        if(i==5):\n",
    "            break\n",
    "    #     if 'gazelle.jpg' in image_path:\n",
    "    #         # get unicycle index\n",
    "    #         gazelle_idx = i\n",
    "    images = np.array(images_list)\n",
    "    indxName=0\n",
    "    for img in images:\n",
    "        count_img +=1\n",
    "        x = np.expand_dims(img.copy(), axis=0)\n",
    "        x = preprocess_input(x)\n",
    "\n",
    "        # Then apply the model, determine the predicted label and confidence:\n",
    "        pred = model.predict(x)\n",
    "        label = np.argmax(pred, axis=1)[0]\n",
    "        confidence = pred[:,label][0]\n",
    "\n",
    "        print('original Prediction:', label_to_name(label), '- confidence {0:.2f}'.format(confidence))\n",
    "\n",
    "        x_art = np.expand_dims(img, axis=0) \n",
    "        x_art_list.append(x_art)\n",
    "        # Switch between attacks here\n",
    "        adv = FastGradientMethod(classifier, targeted=False, eps_step=1, eps=8)\n",
    "#         adv = BasicIterativeMethod(estimator=classifier, targeted=False, eps=8, max_iter=10, eps_step=1)\n",
    "#         adv = ProjectedGradientDescent(classifier, targeted=False, max_iter=10, eps_step=1, eps=8)  \n",
    "        # Low max_iter = 2, eps = 4 \n",
    "        # Middle max_iter = 3, eps = 8 \n",
    "        # High max_iter = 10, eps = 8 \n",
    "\n",
    "        # Generate the adversarial sample:\n",
    "        x_art_adv = adv.generate(x_art)\n",
    "        x_art_adv_list.append(x_art_adv)\n",
    "        indxName+=1\n",
    "        #instruction after pert\n",
    "\n",
    "        pred_adv = classifier.predict(x_art_adv)\n",
    "        label_adv = np.argmax(pred_adv, axis=1)[0]\n",
    "        confidence_adv = pred_adv[:, label_adv][0]\n",
    "        print('Prediction after pert:', label_to_name(label_adv), '- confidence {0:.2f}'.format(confidence_adv))\n",
    "        \n",
    "        ############### Defense Section / switch between defenses\n",
    "        print('---------------------------------------------')   \n",
    "        \n",
    "        x_art_def, _ = gda(x_art)\n",
    "        x_art_adv_def, _ = gda(x_art_adv)\n",
    "        \n",
    "        ######### Spatial Smooth\n",
    "#         x_art_def, _ = ss(x_art)\n",
    "#         x_art_adv_def, _ = ss(x_art_adv)\n",
    "        ######### Feature squeez\n",
    "#         x_art_def, _ = fs(x_art)\n",
    "#         x_art_adv_def, _ = fs(x_art_adv)\n",
    "        ####### Cut_mix\n",
    "#         x_art_def, _ = cut_Mix(x_art)\n",
    "#         x_art_adv_def, _ = cut_Mix(x_art_adv)\n",
    "        ###### gda\n",
    "        x_art_def, _ = gda(x_art)\n",
    "        x_art_adv_def, _ = gda(x_art_adv)\n",
    "        # Compute the classifier predictions on the preprocessed inputs:\n",
    "        pred_def = classifier.predict(x_art_def)\n",
    "        label_def = np.argmax(pred_def, axis=1)[0]\n",
    "        confidence_def = pred_def[:, label_def][0]\n",
    "\n",
    "        pred_adv_def = classifier.predict(x_art_adv_def)\n",
    "        label_adv_def = np.argmax(pred_adv_def, axis=1)[0]\n",
    "        confidence_adv_def = pred_adv_def[:, label_adv_def][0]\n",
    "\n",
    "        # Print the predictions:\n",
    "#         print('Prediction of original sample:', label_to_name(label_def), '- confidence {0:.2f}'.format(confidence_def))\n",
    "        print('Prediction of adversarial sample after spatial deffense:', label_to_name(label_adv_def), \n",
    "              '- confidence {0:.2f}'.format(confidence_adv_def))\n",
    "        if label_to_name(label_adv_def) == class_id_to_label(j):\n",
    "            print('correctly classified after deffense')\n",
    "            count_correct+=1\n",
    "        print('---------------------------------------------')\n",
    "\n",
    "print('total recovered truth label : ', count_correct , '/300')"
   ]
  },
  {
   "cell_type": "markdown",
   "metadata": {},
   "source": [
    "# FGSM PGD BIM Targetted"
   ]
  },
  {
   "cell_type": "code",
   "execution_count": null,
   "metadata": {},
   "outputs": [],
   "source": [
    "from PIL import Image\n",
    "import numpy as np\n",
    "from art.utils import to_categorical\n",
    "from keras.applications.vgg16 import preprocess_input\n",
    "\n",
    "import os\n",
    "folder_Copy = \"./FGSM_targeted/classes/\"\n",
    "\n",
    "################# original model Prediction\n",
    "from keras.applications.vgg16 import VGG16\n",
    "model = VGG16(weights='imagenet')\n",
    "################# original model Prediction\n",
    "\n",
    "\n",
    "################# Perturb Prediction\n",
    "from art.preprocessing.preprocessing import Preprocessor\n",
    "\n",
    "class VGG16Preprocessor(Preprocessor):\n",
    "\n",
    "    def __call__(self, x, y=None):\n",
    "        return preprocess_input(x.copy()), y\n",
    "\n",
    "    def estimate_gradient(self, x, gradient):\n",
    "        return gradient[..., ::-1]\n",
    "    \n",
    "# Create the ART preprocessor and classifier wrapper:\n",
    "preprocessor = VGG16Preprocessor()\n",
    "classifier = KerasClassifier(clip_values=(0, 255), model=model, preprocessing=preprocessor)\n",
    "################# Perturb Prediction\n",
    "\n",
    "count_correct =0\n",
    "for j in range(50):\n",
    "    print(\"class number: \", j)\n",
    "    img_names_src=[]\n",
    "    images_list = list()\n",
    "    folder = '/kaggle/input/classes-50/classes_50/'+str(j)+'/'\n",
    "    for i, image_path in enumerate(os.listdir(folder)):\n",
    "        img_names_src.append(image_path)\n",
    "        im = image.load_img(folder+image_path, target_size=(224, 224))\n",
    "        im = image.img_to_array(im)\n",
    "        images_list.append(im)\n",
    "        print (image_path)\n",
    "        if(i==5):\n",
    "            break\n",
    "    images = np.array(images_list)\n",
    "    indxName=0\n",
    "    for img in images:\n",
    "        x = np.expand_dims(img.copy(), axis=0)\n",
    "        x = preprocess_input(x)\n",
    "\n",
    "        # Then apply the model, determine the predicted label and confidence:\n",
    "        pred = model.predict(x)\n",
    "        label = np.argmax(pred, axis=1)[0]\n",
    "        confidence = pred[:,label][0]\n",
    "\n",
    "        print('original Prediction:', label_to_name(label), '- confidence {0:.2f}'.format(confidence))\n",
    "\n",
    "        x_art = np.expand_dims(img, axis=0)\n",
    "        # Switch between attacks here\n",
    "        adv = ProjectedGradientDescent(classifier, targeted=True, max_iter=10, eps_step=1, eps=8)  \n",
    "#         adv = FastGradientMethod(estimator=classifier, targeted=True, eps=8, eps_step=1)\n",
    "#         adv = BasicIterativeMethod(estimator=classifier, targeted=True, eps=8, max_iter=10, eps_step=1)\n",
    "\n",
    "        # Low max_iter = 2, eps = 4 \n",
    "        # Middle max_iter = 3, eps = 8 \n",
    "        # High max_iter = 10, eps = 8 \n",
    "\n",
    "        # Generate the adversarial sample:\n",
    "#         x_art_adv = adv.generate(x_art)\n",
    "        # this part for targted attack\n",
    "        adv.set_params(targeted=True)\n",
    "        target_label = 100 + j # we give target labels from 100 to 150\n",
    "        x_art_adv = adv.generate(x_art, y=to_categorical([target_label]))\n",
    "\n",
    "        indxName+=1\n",
    "        #instruction after pert\n",
    "        \n",
    "        pred_adv = classifier.predict(x_art_adv)\n",
    "        label_adv = np.argmax(pred_adv, axis=1)[0]\n",
    "        confidence_adv = pred_adv[:, label_adv][0]\n",
    "        print('Prediction after pert:', label_to_name(label_adv), '- confidence {0:.2f}'.format(confidence_adv))\n",
    "        print('---------------------------------------------')\n",
    "        \n",
    "        ############### Defense Section / switch between defenses\n",
    "        print('---------------------------------------------')   \n",
    "        ######### Spatial Smooth\n",
    "#         x_art_def, _ = ss(x_art)\n",
    "#         x_art_adv_def, _ = ss(x_art_adv)\n",
    "        ######### Feature squeez\n",
    "#         x_art_def, _ = fs(x_art)\n",
    "#         x_art_adv_def, _ = fs(x_art_adv)\n",
    "        ###### gda\n",
    "        x_art_def, _ = gda(x_art)\n",
    "        x_art_adv_def, _ = gda(x_art_adv)\n",
    "        ####### Cut_mix\n",
    "#         x, y = CutMixTensorFlowV2(num_classes = 10, alpha = 1.0, probability = 0.5)\n",
    "#         x, y = cut_Mix(empty_image, np.arange(len(empty_image)))\n",
    "#         x_art_def, _ = y\n",
    "#         x_art_adv_def, _ = y\n",
    "        \n",
    "        # Compute the classifier predictions on the preprocessed inputs:\n",
    "        pred_def = classifier.predict(x_art_def)\n",
    "        label_def = np.argmax(pred_def, axis=1)[0]\n",
    "        confidence_def = pred_def[:, label_def][0]\n",
    "\n",
    "        pred_adv_def = classifier.predict(x_art_adv_def)\n",
    "        label_adv_def = np.argmax(pred_adv_def, axis=1)[0]\n",
    "        confidence_adv_def = pred_adv_def[:, label_adv_def][0]\n",
    "\n",
    "        # Print the predictions:\n",
    "        print('Prediction of original sample:', label_to_name(label_def), '- confidence {0:.2f}'.format(confidence_def))\n",
    "        print('Prediction of adversarial sample after spatial deffense:', label_to_name(label_adv_def), \n",
    "              '- confidence {0:.2f}'.format(confidence_adv_def))\n",
    "        if label_to_name(label_adv_def) == class_id_to_label(j):\n",
    "            print('correctly classified after deffense')\n",
    "            count_correct+=1\n",
    "        print('---------------------------------------------')\n",
    "print('total recovered truth label : ', count_correct , '/300')"
   ]
  },
  {
   "cell_type": "code",
   "execution_count": 9,
   "metadata": {
    "execution": {
     "iopub.execute_input": "2023-07-13T21:56:06.790387Z",
     "iopub.status.busy": "2023-07-13T21:56:06.790063Z",
     "iopub.status.idle": "2023-07-13T21:56:06.796360Z",
     "shell.execute_reply": "2023-07-13T21:56:06.795035Z",
     "shell.execute_reply.started": "2023-07-13T21:56:06.790340Z"
    }
   },
   "outputs": [],
   "source": [
    "def empty_image(request):\n",
    "    \"\"\"\n",
    "    Empty image fixtures of shape NHWC.\n",
    "    \"\"\"\n",
    "    channels = request.param\n",
    "    data_shape = (4, 8, 12, channels)\n",
    "    return np.zeros(data_shape).astype(ART_NUMPY_DTYPE)"
   ]
  },
  {
   "cell_type": "markdown",
   "metadata": {},
   "source": [
    "### ***CutMix***"
   ]
  },
  {
   "cell_type": "code",
   "execution_count": 10,
   "metadata": {
    "execution": {
     "iopub.execute_input": "2023-07-13T21:56:19.965830Z",
     "iopub.status.busy": "2023-07-13T21:56:19.965542Z",
     "iopub.status.idle": "2023-07-13T21:56:19.970065Z",
     "shell.execute_reply": "2023-07-13T21:56:19.969194Z",
     "shell.execute_reply.started": "2023-07-13T21:56:19.965797Z"
    }
   },
   "outputs": [],
   "source": [
    "# cut_Mix = CutMix(num_classes = 5, alpha = 1.0, probability = 0.5)\n",
    "cut_Mix = CutMixTensorFlowV2(num_classes = 10, alpha = 1.0, probability = 0.5)\n"
   ]
  },
  {
   "cell_type": "markdown",
   "metadata": {
    "id": "mQn_vhC_glyH"
   },
   "source": [
    "### ***Spatial Smoothing is applied***"
   ]
  },
  {
   "cell_type": "code",
   "execution_count": 16,
   "metadata": {
    "execution": {
     "iopub.execute_input": "2023-07-14T09:34:51.024810Z",
     "iopub.status.busy": "2023-07-14T09:34:51.024001Z",
     "iopub.status.idle": "2023-07-14T09:34:51.028596Z",
     "shell.execute_reply": "2023-07-14T09:34:51.027864Z",
     "shell.execute_reply.started": "2023-07-14T09:34:51.024748Z"
    },
    "id": "2AmZXep7gC51"
   },
   "outputs": [],
   "source": [
    "# Initalize the SpatialSmoothing defence. \n",
    "ss = SpatialSmoothing(window_size=7) \n",
    "\n",
    "# window_size = 3 => wrong predicstion with high accuracy \n",
    "# window_size = 5 => result is good correct prediction with 71% confidence \n",
    "# window_size = 7 => result is prefect correct prediction with 99% confidence // Middle strength \n"
   ]
  },
  {
   "cell_type": "code",
   "execution_count": 36,
   "metadata": {
    "execution": {
     "iopub.execute_input": "2023-02-01T21:35:19.792204Z",
     "iopub.status.busy": "2023-02-01T21:35:19.791939Z",
     "iopub.status.idle": "2023-02-01T21:35:19.828031Z",
     "shell.execute_reply": "2023-02-01T21:35:19.826668Z",
     "shell.execute_reply.started": "2023-02-01T21:35:19.792176Z"
    },
    "id": "7UHn8N71gWk2"
   },
   "outputs": [],
   "source": [
    "# x_art_def, _ = ss(x_art)\n",
    "# x_art_adv_def, _ = ss(x_art_adv)"
   ]
  },
  {
   "cell_type": "code",
   "execution_count": 38,
   "metadata": {
    "execution": {
     "iopub.execute_input": "2023-02-01T21:35:32.166633Z",
     "iopub.status.busy": "2023-02-01T21:35:32.166373Z",
     "iopub.status.idle": "2023-02-01T21:35:32.173988Z",
     "shell.execute_reply": "2023-02-01T21:35:32.172775Z",
     "shell.execute_reply.started": "2023-02-01T21:35:32.166605Z"
    },
    "id": "C-ta90iwgeil",
    "outputId": "7acb07ee-8ae9-4748-841c-0eaa1c6fba1b"
   },
   "outputs": [
    {
     "name": "stdout",
     "output_type": "stream",
     "text": [
      "Prediction of original sample: ostrich, Struthio camelus - confidence 1.00\n",
      "Prediction of adversarial sample: bullfrog, Rana catesbeiana - confidence 0.12\n"
     ]
    }
   ],
   "source": [
    "# # Print the predictions:\n",
    "# print('Prediction of original sample:', label_to_name(label_def), '- confidence {0:.2f}'.format(confidence_def))\n",
    "# print('Prediction of adversarial sample:', label_to_name(label_adv_def), \n",
    "#       '- confidence {0:.2f}'.format(confidence_adv_def))"
   ]
  },
  {
   "cell_type": "code",
   "execution_count": null,
   "metadata": {
    "execution": {
     "iopub.execute_input": "2022-03-08T09:38:36.964479Z",
     "iopub.status.busy": "2022-03-08T09:38:36.963833Z",
     "iopub.status.idle": "2022-03-08T09:38:37.311514Z",
     "shell.execute_reply": "2022-03-08T09:38:37.310429Z",
     "shell.execute_reply.started": "2022-03-08T09:38:36.964441Z"
    },
    "id": "n6eAmlPr84dL",
    "outputId": "07834b02-9f9c-4349-e31d-c45c70c4ab34"
   },
   "outputs": [],
   "source": [
    "plt.figure(figsize=(8,8)); plt.imshow(x_art_adv_def[0] / 255); plt.axis('off'); plt.show()"
   ]
  },
  {
   "cell_type": "code",
   "execution_count": null,
   "metadata": {
    "execution": {
     "iopub.execute_input": "2022-03-08T09:38:37.974641Z",
     "iopub.status.busy": "2022-03-08T09:38:37.974319Z",
     "iopub.status.idle": "2022-03-08T09:38:38.310895Z",
     "shell.execute_reply": "2022-03-08T09:38:38.309879Z",
     "shell.execute_reply.started": "2022-03-08T09:38:37.974606Z"
    },
    "id": "MV3ZL01Ayhgg",
    "outputId": "c8ccace9-b208-4ecd-fc5a-c3802b6151d4"
   },
   "outputs": [],
   "source": [
    "  # Plot the adversarial sample (note: we swap color channels back to RGB order):\n",
    "plt.figure(figsize=(8,8)); plt.imshow(x_art_def[0] / 255); plt.axis('off'); plt.show()"
   ]
  },
  {
   "cell_type": "code",
   "execution_count": null,
   "metadata": {
    "execution": {
     "iopub.execute_input": "2022-03-08T09:38:43.203529Z",
     "iopub.status.busy": "2022-03-08T09:38:43.203234Z",
     "iopub.status.idle": "2022-03-08T09:38:43.546557Z",
     "shell.execute_reply": "2022-03-08T09:38:43.545873Z",
     "shell.execute_reply.started": "2022-03-08T09:38:43.203496Z"
    },
    "id": "8dtCqAOjyszp",
    "outputId": "6d41c7ce-b677-4b36-9bbe-ce6ef40662d6"
   },
   "outputs": [],
   "source": [
    "# Plot the adversarial sample (note: we swap color channels back to RGB order):\n",
    "plt.figure(figsize=(8,8)); plt.imshow(x_art_adv_def[0] / 255); plt.axis('off'); plt.show()"
   ]
  },
  {
   "cell_type": "markdown",
   "metadata": {
    "id": "r-lRqlyhgwr3"
   },
   "source": [
    "### ***Gaussian Data Augmentation is applied***"
   ]
  },
  {
   "cell_type": "code",
   "execution_count": 12,
   "metadata": {
    "execution": {
     "iopub.execute_input": "2023-07-14T12:48:21.882123Z",
     "iopub.status.busy": "2023-07-14T12:48:21.881820Z",
     "iopub.status.idle": "2023-07-14T12:48:21.887081Z",
     "shell.execute_reply": "2023-07-14T12:48:21.886110Z",
     "shell.execute_reply.started": "2023-07-14T12:48:21.882086Z"
    },
    "id": "IMvq6xnLgf9F"
   },
   "outputs": [],
   "source": [
    "# Initalize the Gaussian Augmentation defence.  \n",
    "gda = GaussianAugmentation(sigma=9, augmentation=False)\n",
    "\n",
    "# Sigma 9 is High Strength = wrong predicstion with 97% confidence\n",
    "# Sigma 9 is High Strength = wrong predicstion with 99% confidence // PGD strength is increased \n",
    "\n",
    "# Sigma = 9 (High) \n",
    "# Sigma = 6 (Middle) \n",
    "# Sigma = 3 (Low)"
   ]
  },
  {
   "cell_type": "code",
   "execution_count": null,
   "metadata": {
    "execution": {
     "iopub.execute_input": "2022-03-08T09:38:44.4884Z",
     "iopub.status.busy": "2022-03-08T09:38:44.488114Z",
     "iopub.status.idle": "2022-03-08T09:38:44.509808Z",
     "shell.execute_reply": "2022-03-08T09:38:44.509072Z",
     "shell.execute_reply.started": "2022-03-08T09:38:44.488368Z"
    },
    "id": "vO8SRTAMg5WP"
   },
   "outputs": [],
   "source": [
    "x_art_gda_def, _ = gda(x_art)\n",
    "x_art_adv_gda_def, _ = gda(x_art_adv)"
   ]
  },
  {
   "cell_type": "code",
   "execution_count": null,
   "metadata": {
    "execution": {
     "iopub.execute_input": "2022-03-08T09:38:44.899932Z",
     "iopub.status.busy": "2022-03-08T09:38:44.899442Z",
     "iopub.status.idle": "2022-03-08T09:38:45.277385Z",
     "shell.execute_reply": "2022-03-08T09:38:45.27675Z",
     "shell.execute_reply.started": "2022-03-08T09:38:44.899886Z"
    },
    "id": "iG2gOg2uhx7X"
   },
   "outputs": [],
   "source": [
    "# Compute the classifier predictions on the preprocessed inputs:\n",
    "pred_gda_def = classifier.predict(x_art_gda_def)\n",
    "label_gda_def = np.argmax(pred_gda_def, axis=1)[0]\n",
    "confidence_gda_def = pred_gda_def[:, label_gda_def][0]\n",
    "\n",
    "pred_adv_gda_def = classifier.predict(x_art_adv_gda_def)\n",
    "label_adv_gda_def = np.argmax(pred_adv_gda_def, axis=1)[0]\n",
    "confidence_adv_gda_def = pred_adv_gda_def[:, label_adv_gda_def][0]"
   ]
  },
  {
   "cell_type": "code",
   "execution_count": null,
   "metadata": {
    "execution": {
     "iopub.execute_input": "2022-03-08T09:38:45.279501Z",
     "iopub.status.busy": "2022-03-08T09:38:45.279167Z",
     "iopub.status.idle": "2022-03-08T09:38:45.287603Z",
     "shell.execute_reply": "2022-03-08T09:38:45.286737Z",
     "shell.execute_reply.started": "2022-03-08T09:38:45.279457Z"
    },
    "id": "NvRbs4E-iJbI",
    "outputId": "f9e4ea63-5cee-4c60-ea7a-8a939e118711"
   },
   "outputs": [],
   "source": [
    "# Print the predictions:\n",
    "print('Prediction of original sample:', label_to_name(label_gda_def), '- confidence {0:.2f}'.format(confidence_gda_def))\n",
    "print('Prediction of adversarial sample:', label_to_name(label_adv_gda_def), \n",
    "      '- confidence {0:.2f}'.format(confidence_adv_gda_def))"
   ]
  },
  {
   "cell_type": "markdown",
   "metadata": {
    "id": "k92m2Tytk5qx"
   },
   "source": [
    "## ***Feature Squeezing***"
   ]
  },
  {
   "cell_type": "code",
   "execution_count": 9,
   "metadata": {
    "execution": {
     "iopub.execute_input": "2023-07-14T08:58:40.293146Z",
     "iopub.status.busy": "2023-07-14T08:58:40.292291Z",
     "iopub.status.idle": "2023-07-14T08:58:40.297831Z",
     "shell.execute_reply": "2023-07-14T08:58:40.296891Z",
     "shell.execute_reply.started": "2023-07-14T08:58:40.293109Z"
    },
    "id": "UdY9YseJnV2h"
   },
   "outputs": [],
   "source": [
    "fs = FeatureSqueezing(bit_depth=3, clip_values=(0, 255))\n",
    "\n",
    "# bit = 7 low \n",
    "# bit = 5 middle \n",
    "# bit = 3 high \n",
    "# please note that bit=8 is original from their paper, so 3 is more effective"
   ]
  },
  {
   "cell_type": "code",
   "execution_count": 41,
   "metadata": {
    "execution": {
     "iopub.execute_input": "2023-02-01T21:35:59.789170Z",
     "iopub.status.busy": "2023-02-01T21:35:59.788939Z",
     "iopub.status.idle": "2023-02-01T21:35:59.795588Z",
     "shell.execute_reply": "2023-02-01T21:35:59.794545Z",
     "shell.execute_reply.started": "2023-02-01T21:35:59.789146Z"
    },
    "id": "EOpC-bzwiX-W"
   },
   "outputs": [],
   "source": [
    "x_art_fs_def, _ = fs(x_art)\n",
    "x_art_adv_fs_def, _ = fs(x_art_adv)"
   ]
  },
  {
   "cell_type": "code",
   "execution_count": 43,
   "metadata": {
    "execution": {
     "iopub.execute_input": "2023-02-01T21:40:30.773363Z",
     "iopub.status.busy": "2023-02-01T21:40:30.773083Z",
     "iopub.status.idle": "2023-02-01T21:40:58.992630Z",
     "shell.execute_reply": "2023-02-01T21:40:58.991821Z",
     "shell.execute_reply.started": "2023-02-01T21:40:30.773334Z"
    },
    "id": "z6e5_8IxnSov"
   },
   "outputs": [
    {
     "name": "stdout",
     "output_type": "stream",
     "text": [
      "Prediction of original sample: tench, Tinca tinca - confidence 0.91\n",
      "Prediction of adversarial sample: banjo - confidence 0.34\n",
      "Prediction of original sample: barracouta, snoek - confidence 0.66\n",
      "Prediction of adversarial sample: shower cap - confidence 0.96\n",
      "Prediction of original sample: crayfish, crawfish, crawdad, crawdaddy - confidence 0.71\n",
      "Prediction of adversarial sample: hummingbird - confidence 0.45\n",
      "Prediction of original sample: tench, Tinca tinca - confidence 1.00\n",
      "Prediction of adversarial sample: slug - confidence 1.00\n",
      "Prediction of original sample: tench, Tinca tinca - confidence 1.00\n",
      "Prediction of adversarial sample: barracouta, snoek - confidence 0.08\n",
      "Prediction of original sample: tench, Tinca tinca - confidence 0.96\n",
      "Prediction of adversarial sample: jackfruit, jak, jack - confidence 1.00\n",
      "Prediction of original sample: goldfish, Carassius auratus - confidence 0.84\n",
      "Prediction of adversarial sample: vase - confidence 0.32\n",
      "Prediction of original sample: eft - confidence 0.22\n",
      "Prediction of adversarial sample: starfish, sea star - confidence 0.30\n",
      "Prediction of original sample: goldfish, Carassius auratus - confidence 0.94\n",
      "Prediction of adversarial sample: starfish, sea star - confidence 0.84\n",
      "Prediction of original sample: goldfish, Carassius auratus - confidence 0.99\n",
      "Prediction of adversarial sample: jellyfish - confidence 0.48\n",
      "Prediction of original sample: goldfish, Carassius auratus - confidence 1.00\n",
      "Prediction of adversarial sample: starfish, sea star - confidence 0.57\n",
      "Prediction of original sample: vase - confidence 0.44\n",
      "Prediction of adversarial sample: vase - confidence 0.29\n",
      "Prediction of original sample: great white shark, white shark, man-eater, man-eating shark, Carcharodon carcharias - confidence 0.56\n",
      "Prediction of adversarial sample: eel - confidence 0.13\n",
      "Prediction of original sample: great white shark, white shark, man-eater, man-eating shark, Carcharodon carcharias - confidence 0.59\n",
      "Prediction of adversarial sample: crayfish, crawfish, crawdad, crawdaddy - confidence 0.43\n",
      "Prediction of original sample: great white shark, white shark, man-eater, man-eating shark, Carcharodon carcharias - confidence 0.99\n",
      "Prediction of adversarial sample: triceratops - confidence 0.89\n",
      "Prediction of original sample: tiger shark, Galeocerdo cuvieri - confidence 0.54\n",
      "Prediction of adversarial sample: starfish, sea star - confidence 0.79\n",
      "Prediction of original sample: tiger shark, Galeocerdo cuvieri - confidence 0.54\n",
      "Prediction of adversarial sample: dugong, Dugong dugon - confidence 0.44\n",
      "Prediction of original sample: loggerhead, loggerhead turtle, Caretta caretta - confidence 0.55\n",
      "Prediction of adversarial sample: conch - confidence 0.35\n",
      "Prediction of original sample: tiger shark, Galeocerdo cuvieri - confidence 0.79\n",
      "Prediction of adversarial sample: common newt, Triturus vulgaris - confidence 0.39\n",
      "Prediction of original sample: great white shark, white shark, man-eater, man-eating shark, Carcharodon carcharias - confidence 0.42\n",
      "Prediction of adversarial sample: jellyfish - confidence 0.33\n",
      "Prediction of original sample: tiger shark, Galeocerdo cuvieri - confidence 0.67\n",
      "Prediction of adversarial sample: American alligator, Alligator mississipiensis - confidence 0.10\n",
      "Prediction of original sample: tiger shark, Galeocerdo cuvieri - confidence 0.81\n",
      "Prediction of adversarial sample: dugong, Dugong dugon - confidence 0.82\n",
      "Prediction of original sample: scuba diver - confidence 0.74\n",
      "Prediction of adversarial sample: tiger shark, Galeocerdo cuvieri - confidence 0.52\n",
      "Prediction of original sample: tiger shark, Galeocerdo cuvieri - confidence 0.41\n",
      "Prediction of adversarial sample: starfish, sea star - confidence 0.26\n",
      "Prediction of original sample: hammerhead, hammerhead shark - confidence 0.43\n",
      "Prediction of adversarial sample: jellyfish - confidence 0.12\n",
      "Prediction of original sample: coho, cohoe, coho salmon, blue jack, silver salmon, Oncorhynchus kisutch - confidence 0.17\n",
      "Prediction of adversarial sample: seashore, coast, seacoast, sea-coast - confidence 0.35\n",
      "Prediction of original sample: hammerhead, hammerhead shark - confidence 0.60\n",
      "Prediction of adversarial sample: barracouta, snoek - confidence 0.24\n",
      "Prediction of original sample: hammerhead, hammerhead shark - confidence 0.70\n",
      "Prediction of adversarial sample: leatherback turtle, leatherback, leathery turtle, Dermochelys coriacea - confidence 0.58\n",
      "Prediction of original sample: missile - confidence 0.11\n",
      "Prediction of adversarial sample: axolotl, mud puppy, Ambystoma mexicanum - confidence 0.46\n",
      "Prediction of original sample: hammerhead, hammerhead shark - confidence 0.98\n",
      "Prediction of adversarial sample: loggerhead, loggerhead turtle, Caretta caretta - confidence 0.35\n",
      "Prediction of original sample: electric ray, crampfish, numbfish, torpedo - confidence 0.87\n",
      "Prediction of adversarial sample: tray - confidence 0.39\n",
      "Prediction of original sample: electric ray, crampfish, numbfish, torpedo - confidence 0.81\n",
      "Prediction of adversarial sample: tray - confidence 0.17\n",
      "Prediction of original sample: electric ray, crampfish, numbfish, torpedo - confidence 0.73\n",
      "Prediction of adversarial sample: mud turtle - confidence 0.19\n",
      "Prediction of original sample: electric ray, crampfish, numbfish, torpedo - confidence 0.30\n",
      "Prediction of adversarial sample: electric ray, crampfish, numbfish, torpedo - confidence 0.91\n",
      "Prediction of original sample: triceratops - confidence 0.17\n",
      "Prediction of adversarial sample: wallet, billfold, notecase, pocketbook - confidence 0.26\n",
      "Prediction of original sample: electric ray, crampfish, numbfish, torpedo - confidence 0.84\n",
      "Prediction of adversarial sample: brain coral - confidence 0.28\n",
      "Prediction of original sample: stingray - confidence 0.36\n",
      "Prediction of adversarial sample: scuba diver - confidence 0.17\n",
      "Prediction of original sample: ice lolly, lolly, lollipop, popsicle - confidence 0.12\n",
      "Prediction of adversarial sample: stingray - confidence 0.18\n",
      "Prediction of original sample: snorkel - confidence 0.45\n",
      "Prediction of adversarial sample: toy poodle - confidence 0.15\n",
      "Prediction of original sample: coral reef - confidence 0.31\n",
      "Prediction of adversarial sample: coral reef - confidence 0.36\n",
      "Prediction of original sample: stingray - confidence 0.69\n",
      "Prediction of adversarial sample: Lakeland terrier - confidence 0.17\n",
      "Prediction of original sample: stingray - confidence 0.64\n",
      "Prediction of adversarial sample: rubber eraser, rubber, pencil eraser - confidence 0.18\n",
      "Prediction of original sample: potter's wheel - confidence 0.40\n",
      "Prediction of adversarial sample: jigsaw puzzle - confidence 0.18\n",
      "Prediction of original sample: bannister, banister, balustrade, balusters, handrail - confidence 0.17\n",
      "Prediction of adversarial sample: steel drum - confidence 0.11\n",
      "Prediction of original sample: cock - confidence 0.87\n",
      "Prediction of adversarial sample: hen - confidence 0.96\n",
      "Prediction of original sample: clog, geta, patten, sabot - confidence 0.11\n",
      "Prediction of adversarial sample: totem pole - confidence 0.24\n",
      "Prediction of original sample: cock - confidence 0.96\n",
      "Prediction of adversarial sample: lorikeet - confidence 0.56\n",
      "Prediction of original sample: hen - confidence 0.68\n",
      "Prediction of adversarial sample: cock - confidence 0.55\n",
      "Prediction of original sample: cock - confidence 0.65\n",
      "Prediction of adversarial sample: jigsaw puzzle - confidence 0.44\n",
      "Prediction of original sample: hen - confidence 0.74\n",
      "Prediction of adversarial sample: ptarmigan - confidence 0.98\n",
      "Prediction of original sample: hen - confidence 0.86\n",
      "Prediction of adversarial sample: cock - confidence 1.00\n",
      "Prediction of original sample: hen - confidence 0.98\n",
      "Prediction of adversarial sample: horse cart, horse-cart - confidence 0.12\n",
      "Prediction of original sample: hen - confidence 0.56\n",
      "Prediction of adversarial sample: cock - confidence 0.97\n",
      "Prediction of original sample: whippet - confidence 0.15\n",
      "Prediction of adversarial sample: hen - confidence 0.30\n",
      "Prediction of original sample: ostrich, Struthio camelus - confidence 1.00\n",
      "Prediction of adversarial sample: monitor - confidence 0.42\n",
      "Prediction of original sample: ostrich, Struthio camelus - confidence 0.99\n",
      "Prediction of adversarial sample: African crocodile, Nile crocodile, Crocodylus niloticus - confidence 0.12\n"
     ]
    },
    {
     "ename": "IndexError",
     "evalue": "list index out of range",
     "output_type": "error",
     "traceback": [
      "\u001b[0;31m---------------------------------------------------------------------------\u001b[0m",
      "\u001b[0;31mIndexError\u001b[0m                                Traceback (most recent call last)",
      "\u001b[0;32m/tmp/ipykernel_17/3344285308.py\u001b[0m in \u001b[0;36m<module>\u001b[0;34m\u001b[0m\n\u001b[1;32m      1\u001b[0m \u001b[0;32mfor\u001b[0m \u001b[0mi\u001b[0m \u001b[0;32min\u001b[0m \u001b[0mrange\u001b[0m\u001b[0;34m(\u001b[0m\u001b[0mlen\u001b[0m\u001b[0;34m(\u001b[0m\u001b[0mx_art_list\u001b[0m\u001b[0;34m)\u001b[0m\u001b[0;34m)\u001b[0m\u001b[0;34m:\u001b[0m\u001b[0;34m\u001b[0m\u001b[0;34m\u001b[0m\u001b[0m\n\u001b[1;32m      2\u001b[0m     \u001b[0mx_art_fs_def\u001b[0m\u001b[0;34m,\u001b[0m \u001b[0m_\u001b[0m \u001b[0;34m=\u001b[0m \u001b[0mfs\u001b[0m\u001b[0;34m(\u001b[0m\u001b[0mx_art_list\u001b[0m\u001b[0;34m[\u001b[0m\u001b[0mi\u001b[0m\u001b[0;34m]\u001b[0m\u001b[0;34m)\u001b[0m\u001b[0;34m\u001b[0m\u001b[0;34m\u001b[0m\u001b[0m\n\u001b[0;32m----> 3\u001b[0;31m     \u001b[0mx_art_adv_fs_def\u001b[0m\u001b[0;34m,\u001b[0m \u001b[0m_\u001b[0m \u001b[0;34m=\u001b[0m \u001b[0mfs\u001b[0m\u001b[0;34m(\u001b[0m\u001b[0mx_art_adv_list\u001b[0m\u001b[0;34m[\u001b[0m\u001b[0mi\u001b[0m\u001b[0;34m]\u001b[0m\u001b[0;34m)\u001b[0m\u001b[0;34m\u001b[0m\u001b[0;34m\u001b[0m\u001b[0m\n\u001b[0m\u001b[1;32m      4\u001b[0m     \u001b[0mpred_fs_def\u001b[0m \u001b[0;34m=\u001b[0m \u001b[0mclassifier\u001b[0m\u001b[0;34m.\u001b[0m\u001b[0mpredict\u001b[0m\u001b[0;34m(\u001b[0m\u001b[0mx_art_fs_def\u001b[0m\u001b[0;34m)\u001b[0m\u001b[0;34m\u001b[0m\u001b[0;34m\u001b[0m\u001b[0m\n\u001b[1;32m      5\u001b[0m     \u001b[0mlabel_fs_def\u001b[0m \u001b[0;34m=\u001b[0m \u001b[0mnp\u001b[0m\u001b[0;34m.\u001b[0m\u001b[0margmax\u001b[0m\u001b[0;34m(\u001b[0m\u001b[0mpred_fs_def\u001b[0m\u001b[0;34m,\u001b[0m \u001b[0maxis\u001b[0m\u001b[0;34m=\u001b[0m\u001b[0;36m1\u001b[0m\u001b[0;34m)\u001b[0m\u001b[0;34m[\u001b[0m\u001b[0;36m0\u001b[0m\u001b[0;34m]\u001b[0m\u001b[0;34m\u001b[0m\u001b[0;34m\u001b[0m\u001b[0m\n",
      "\u001b[0;31mIndexError\u001b[0m: list index out of range"
     ]
    }
   ],
   "source": [
    "\n",
    "for i in range(len(x_art_list)):\n",
    "    x_art_fs_def, _ = fs(x_art_list[i])\n",
    "    x_art_adv_fs_def, _ = fs(x_art_adv_list[i])\n",
    "    pred_fs_def = classifier.predict(x_art_fs_def)\n",
    "    label_fs_def = np.argmax(pred_fs_def, axis=1)[0]\n",
    "    confidence_fs_def = pred_fs_def[:, label_fs_def][0]\n",
    "\n",
    "    pred_adv_fs_def = classifier.predict(x_art_adv_fs_def)\n",
    "    label_adv_fs_def = np.argmax(pred_adv_fs_def, axis=1)[0]\n",
    "    confidence_adv_fs_def = pred_adv_fs_def[:, label_adv_fs_def][0]\n",
    "\n",
    "    # Print the predictions:\n",
    "    print('Prediction of original sample:', label_to_name(label_fs_def), '- confidence {0:.2f}'.format(confidence_fs_def))\n",
    "    print('Prediction of adversarial sample:', label_to_name(label_adv_fs_def), \n",
    "          '- confidence {0:.2f}'.format(confidence_adv_fs_def))"
   ]
  },
  {
   "cell_type": "markdown",
   "metadata": {},
   "source": [
    "**Results: FGSM_Non_Target**"
   ]
  },
  {
   "cell_type": "code",
   "execution_count": 20,
   "metadata": {
    "execution": {
     "iopub.execute_input": "2023-02-01T20:49:28.935768Z",
     "iopub.status.busy": "2023-02-01T20:49:28.935497Z",
     "iopub.status.idle": "2023-02-01T20:49:28.942086Z",
     "shell.execute_reply": "2023-02-01T20:49:28.940927Z",
     "shell.execute_reply.started": "2023-02-01T20:49:28.935738Z"
    },
    "id": "UZROpfSspEIQ",
    "outputId": "a76b9c59-cb20-4a2c-d207-47b5feacd5f4"
   },
   "outputs": [
    {
     "name": "stdout",
     "output_type": "stream",
     "text": [
      "Prediction of original sample: African crocodile, Nile crocodile, Crocodylus niloticus - confidence 0.86\n",
      "Prediction of adversarial sample: Komodo dragon, Komodo lizard, dragon lizard, giant lizard, Varanus komodoensis - confidence 0.31\n"
     ]
    }
   ],
   "source": [
    "# Print the predictions:\n",
    "print('Prediction of original sample:', label_to_name(label_fs_def), '- confidence {0:.2f}'.format(confidence_fs_def))\n",
    "print('Prediction of adversarial sample:', label_to_name(label_adv_fs_def), \n",
    "      '- confidence {0:.2f}'.format(confidence_adv_fs_def))"
   ]
  },
  {
   "cell_type": "code",
   "execution_count": 21,
   "metadata": {
    "execution": {
     "iopub.execute_input": "2023-02-01T20:50:02.441236Z",
     "iopub.status.busy": "2023-02-01T20:50:02.440974Z",
     "iopub.status.idle": "2023-02-01T20:50:02.693504Z",
     "shell.execute_reply": "2023-02-01T20:50:02.692755Z",
     "shell.execute_reply.started": "2023-02-01T20:50:02.441207Z"
    },
    "id": "Hm55_3mFyMGb",
    "outputId": "f90b8b14-e9cd-4b2c-cfae-6cece5aa409f"
   },
   "outputs": [
    {
     "data": {
      "image/png": "[encoded data removed]",
      "text/plain": [
       "<Figure size 576x576 with 1 Axes>"
      ]
     },
     "metadata": {
      "needs_background": "light"
     },
     "output_type": "display_data"
    }
   ],
   "source": [
    "# Plot the adversarial sample (note: we swap color channels back to RGB order):\n",
    "plt.figure(figsize=(8,8)); plt.imshow(x_art_adv_fs_def[0] / 255); plt.axis('off'); plt.show()"
   ]
  }
 ],
 "metadata": {
  "kernelspec": {
   "display_name": "Python 3",
   "language": "python",
   "name": "python3"
  },
  "language_info": {
   "codemirror_mode": {
    "name": "ipython",
    "version": 3
   },
   "file_extension": ".py",
   "mimetype": "text/x-python",
   "name": "python",
   "nbconvert_exporter": "python",
   "pygments_lexer": "ipython3",
   "version": "3.7.4"
  }
 },
 "nbformat": 4,
 "nbformat_minor": 4
}
